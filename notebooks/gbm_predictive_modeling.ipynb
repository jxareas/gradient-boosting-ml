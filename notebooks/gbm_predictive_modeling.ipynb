{
 "cells": [
  {
   "metadata": {},
   "cell_type": "markdown",
   "source": "# Data Cleansing",
   "id": "122415eb54608767"
  },
  {
   "metadata": {},
   "cell_type": "markdown",
   "source": "This dataset, scraped from eBay, contains information on laptops and netbooks, including product titles, descriptions, prices, and seller details. The goal is to clean, standardize, and prepare the data for analysis by handling missing values, duplicates, and formatting inconsistencies. This will enable accurate analysis, such as price trends, brand distribution, and feature comparisons.",
   "id": "f36e0bc25626467f"
  },
  {
   "metadata": {},
   "cell_type": "markdown",
   "source": "## Importing Libraries",
   "id": "fa989ef5dbca842e"
  },
  {
   "metadata": {},
   "cell_type": "markdown",
   "source": [
    "We will use the Polars library for data cleaning. Polars is a fast, memory-efficient DataFrame library written in Rust, optimized for large datasets. It provides efficient operations for filtering, grouping, joining, and transforming data.\n",
    "\n",
    "Polars supports both eager and lazy execution modes for flexibility.\n",
    "\n",
    "Key tasks will include loading and transforming data, cleaning columns with custom logic, performing aggregations, and handling null values."
   ],
   "id": "e07d5e6a318b4eba"
  },
  {
   "metadata": {
    "ExecuteTime": {
     "end_time": "2025-04-04T01:26:22.229829Z",
     "start_time": "2025-04-04T01:26:22.226599Z"
    }
   },
   "cell_type": "code",
   "source": [
    "# Libraries\n",
    "import re\n",
    "from typing import Optional, Tuple, Callable, Any, Reversible\n",
    "\n",
    "import pandas as pd\n",
    "import polars as pl\n",
    "from polars import LazyFrame\n",
    "\n",
    "# Constants\n",
    "DATA_SOURCE_PATH = '../data/raw/ebay_laptops_and_netbooks.csv'\n",
    "DATA_OUTPUT_LOCATION_PATH = '../data/processed/ebay_laptops_and_netbooks_cleansed.parquet'"
   ],
   "id": "f0d223b17258530c",
   "outputs": [],
   "execution_count": 7
  },
  {
   "metadata": {},
   "cell_type": "markdown",
   "source": "## Data Exploration",
   "id": "e6903bdc84442688"
  },
  {
   "metadata": {
    "ExecuteTime": {
     "end_time": "2025-04-04T01:26:22.298509Z",
     "start_time": "2025-04-04T01:26:22.281560Z"
    }
   },
   "cell_type": "code",
   "source": [
    "# Loading the dataset\n",
    "df = pl.read_csv(DATA_SOURCE_PATH)\n",
    "\n",
    "# Top 10 rows from the dataframe\n",
    "df.head(n=10)"
   ],
   "id": "b7f153d894ccac17",
   "outputs": [
    {
     "data": {
      "text/plain": [
       "shape: (10, 23)\n",
       "┌───────┬────────────┬────────────┬────────────┬───┬───────────┬───────────┬───────────┬───────────┐\n",
       "│ Brand ┆ Price      ┆ Rating     ┆ Ratings    ┆ … ┆ Features  ┆ Hard      ┆ Country   ┆ Storage   │\n",
       "│ ---   ┆ ---        ┆ ---        ┆ Count      ┆   ┆ ---       ┆ Drive     ┆ Region Of ┆ Type      │\n",
       "│ str   ┆ str        ┆ str        ┆ ---        ┆   ┆ str       ┆ Capacity  ┆ Manufactu ┆ ---       │\n",
       "│       ┆            ┆            ┆ i64        ┆   ┆           ┆ ---       ┆ rer       ┆ str       │\n",
       "│       ┆            ┆            ┆            ┆   ┆           ┆ str       ┆ ---       ┆           │\n",
       "│       ┆            ┆            ┆            ┆   ┆           ┆           ┆ str       ┆           │\n",
       "╞═══════╪════════════╪════════════╪════════════╪═══╪═══════════╪═══════════╪═══════════╪═══════════╡\n",
       "│ CHUWI ┆ $303.68    ┆ null       ┆ null       ┆ … ┆ Backlit   ┆ 512 GB    ┆ China     ┆ SSD       │\n",
       "│       ┆            ┆            ┆            ┆   ┆ Keyboard, ┆ SSD       ┆           ┆ (Solid    │\n",
       "│       ┆            ┆            ┆            ┆   ┆ Built-in  ┆           ┆           ┆ State     │\n",
       "│       ┆            ┆            ┆            ┆   ┆ Mi…       ┆           ┆           ┆ Drive)    │\n",
       "│ Dell  ┆ $399.99 to ┆ null       ┆ null       ┆ … ┆ Backlit   ┆ 2 TB      ┆ null      ┆ SSD       │\n",
       "│       ┆ $634.99    ┆            ┆            ┆   ┆ Keyboard, ┆           ┆           ┆ (Solid    │\n",
       "│       ┆            ┆            ┆            ┆   ┆ Bluetooth ┆           ┆           ┆ State     │\n",
       "│       ┆            ┆            ┆            ┆   ┆ , B…      ┆           ┆           ┆ Drive)    │\n",
       "│ Dell  ┆ $175.00    ┆ null       ┆ null       ┆ … ┆ 10/100    ┆ 500 GB    ┆ China     ┆ SSD       │\n",
       "│       ┆            ┆            ┆            ┆   ┆ LAN Card, ┆           ┆           ┆ (Solid    │\n",
       "│       ┆            ┆            ┆            ┆   ┆ Backlit   ┆           ┆           ┆ State     │\n",
       "│       ┆            ┆            ┆            ┆   ┆ Keybo…    ┆           ┆           ┆ Drive)    │\n",
       "│ HP    ┆ $84.99     ┆ null       ┆ null       ┆ … ┆ Bluetooth ┆ 16 GB     ┆ null      ┆ eMMC      │\n",
       "│       ┆            ┆            ┆            ┆   ┆ ,         ┆           ┆           ┆           │\n",
       "│       ┆            ┆            ┆            ┆   ┆ Built-in  ┆           ┆           ┆           │\n",
       "│       ┆            ┆            ┆            ┆   ┆ Microphon ┆           ┆           ┆           │\n",
       "│       ┆            ┆            ┆            ┆   ┆ e…        ┆           ┆           ┆           │\n",
       "│ Dell  ┆ $101.22    ┆ null       ┆ null       ┆ … ┆ 10/100    ┆ NO HDD    ┆ null      ┆ SSD       │\n",
       "│       ┆            ┆            ┆            ┆   ┆ LAN Card, ┆           ┆           ┆ (Solid    │\n",
       "│       ┆            ┆            ┆            ┆   ┆ Built-in  ┆           ┆           ┆ State     │\n",
       "│       ┆            ┆            ┆            ┆   ┆ Micr…     ┆           ┆           ┆ Drive)    │\n",
       "│ Acer  ┆ $49.99     ┆ 4.5 out of ┆ 193        ┆ … ┆ Touchscre ┆ null      ┆ null      ┆ SSD       │\n",
       "│       ┆            ┆ 5 stars    ┆            ┆   ┆ en,       ┆           ┆           ┆ (Solid    │\n",
       "│       ┆            ┆            ┆            ┆   ┆ Bluetooth ┆           ┆           ┆ State     │\n",
       "│       ┆            ┆            ┆            ┆   ┆           ┆           ┆           ┆ Drive)    │\n",
       "│ HP    ┆ $39.59     ┆ 4.5 out of ┆ 23         ┆ … ┆ Bluetooth ┆ 16 GB     ┆ null      ┆ SSD       │\n",
       "│       ┆            ┆ 5 stars    ┆            ┆   ┆ ,         ┆           ┆           ┆ (Solid    │\n",
       "│       ┆            ┆            ┆            ┆   ┆ Built-in  ┆           ┆           ┆ State     │\n",
       "│       ┆            ┆            ┆            ┆   ┆ Webcam    ┆           ┆           ┆ Drive)    │\n",
       "│ Acer  ┆ $34.99     ┆ 5 out of 5 ┆ 20         ┆ … ┆ null      ┆ 16GB      ┆ null      ┆ null      │\n",
       "│       ┆            ┆ stars      ┆            ┆   ┆           ┆           ┆           ┆           │\n",
       "│ Dell  ┆ $279.99    ┆ null       ┆ null       ┆ … ┆ Wi-Fi     ┆ 512 GB    ┆ null      ┆ SSD       │\n",
       "│       ┆            ┆            ┆            ┆   ┆           ┆           ┆           ┆ (Solid    │\n",
       "│       ┆            ┆            ┆            ┆   ┆           ┆           ┆           ┆ State     │\n",
       "│       ┆            ┆            ┆            ┆   ┆           ┆           ┆           ┆ Drive)    │\n",
       "│ HP    ┆ $125.00    ┆ 5 out of 5 ┆ 5          ┆ … ┆ Touchscre ┆ null      ┆ null      ┆ eMMC      │\n",
       "│       ┆            ┆ stars      ┆            ┆   ┆ en, Bluet ┆           ┆           ┆           │\n",
       "│       ┆            ┆            ┆            ┆   ┆ ooth,     ┆           ┆           ┆           │\n",
       "│       ┆            ┆            ┆            ┆   ┆ Built-…   ┆           ┆           ┆           │\n",
       "└───────┴────────────┴────────────┴────────────┴───┴───────────┴───────────┴───────────┴───────────┘"
      ],
      "text/html": [
       "<div><style>\n",
       ".dataframe > thead > tr,\n",
       ".dataframe > tbody > tr {\n",
       "  text-align: right;\n",
       "  white-space: pre-wrap;\n",
       "}\n",
       "</style>\n",
       "<small>shape: (10, 23)</small><table border=\"1\" class=\"dataframe\"><thead><tr><th>Brand</th><th>Price</th><th>Rating</th><th>Ratings Count</th><th>Condition</th><th>Seller Note</th><th>Processor</th><th>Screen Size</th><th>Manufacturer Color</th><th>Color</th><th>Ram Size</th><th>SSD Capacity</th><th>GPU</th><th>Processor Speed</th><th>Type</th><th>Release Year</th><th>Maximum Resolution</th><th>Model</th><th>OS</th><th>Features</th><th>Hard Drive Capacity</th><th>Country Region Of Manufacturer</th><th>Storage Type</th></tr><tr><td>str</td><td>str</td><td>str</td><td>i64</td><td>str</td><td>str</td><td>str</td><td>str</td><td>str</td><td>str</td><td>str</td><td>str</td><td>str</td><td>str</td><td>str</td><td>str</td><td>str</td><td>str</td><td>str</td><td>str</td><td>str</td><td>str</td><td>str</td></tr></thead><tbody><tr><td>&quot;CHUWI&quot;</td><td>&quot;$303.68 &quot;</td><td>null</td><td>null</td><td>&quot;New: A brand-new, unused, unop…</td><td>null</td><td>&quot;Quad Core&quot;</td><td>&quot;14 in&quot;</td><td>null</td><td>&quot;Gray&quot;</td><td>&quot;8 GB&quot;</td><td>&quot;1 Used,&nbsp;&nbsp;1 support Max 1TB M.2…</td><td>&quot;Intel Iris Plus Graphics 655&quot;</td><td>&quot;Max up to 3.80 GHz&quot;</td><td>&quot;Notebook/Laptop&quot;</td><td>&quot;2021&quot;</td><td>&quot;2160 x 1440&quot;</td><td>&quot;CoreBook X&quot;</td><td>&quot;Windows 11 Home&quot;</td><td>&quot;Backlit Keyboard,&nbsp;&nbsp;Built-in Mi…</td><td>&quot;512 GB SSD&quot;</td><td>&quot;China&quot;</td><td>&quot;SSD (Solid State Drive)&quot;</td></tr><tr><td>&quot;Dell&quot;</td><td>&quot;$399.99 to $634.99&quot;</td><td>null</td><td>null</td><td>&quot;Very Good - RefurbishedThe ite…</td><td>&quot;“AAA PCs is a Microsoft Author…</td><td>&quot;Intel Core i7 8th Gen.&quot;</td><td>&quot;14 in&quot;</td><td>null</td><td>&quot;Black&quot;</td><td>null</td><td>null</td><td>&quot;Intel UHD Graphics 620&quot;</td><td>&quot;4.20 GHz (1.90 GHz Base Freque…</td><td>&quot;Notebook/Laptop&quot;</td><td>&quot;Refurbished in 2023&quot;</td><td>&quot;1920 x 1080&quot;</td><td>&quot;Dell Latitude 7490&quot;</td><td>&quot;Windows 11 Pro&quot;</td><td>&quot;Backlit Keyboard, Bluetooth, B…</td><td>&quot;2 TB&quot;</td><td>null</td><td>&quot;SSD (Solid State Drive)&quot;</td></tr><tr><td>&quot;Dell&quot;</td><td>&quot;$175.00 &quot;</td><td>null</td><td>null</td><td>&quot;UsedAn item that has been used…</td><td>&quot;“Well kept, fully functional, …</td><td>&quot;Intel Core i5-6300U&quot;</td><td>&quot;14 in&quot;</td><td>null</td><td>&quot;Black&quot;</td><td>&quot;16 GB&quot;</td><td>&quot;500 GB&quot;</td><td>&quot;Intel HD Graphics&quot;</td><td>&quot;2.40 GHz&quot;</td><td>&quot;Notebook/Laptop&quot;</td><td>&quot;2019&quot;</td><td>&quot;1920 x 1080&quot;</td><td>&quot;Dell Latitude E5470&quot;</td><td>&quot;Windows 10 Pro&quot;</td><td>&quot;10/100 LAN Card, Backlit Keybo…</td><td>&quot;500 GB&quot;</td><td>&quot;China&quot;</td><td>&quot;SSD (Solid State Drive)&quot;</td></tr><tr><td>&quot;HP&quot;</td><td>&quot;$84.99 &quot;</td><td>null</td><td>null</td><td>&quot;Good - RefurbishedThe item sho…</td><td>&quot;“1-Year Allstate warranty. The…</td><td>&quot;Intel Celeron N&quot;</td><td>&quot;11.6 in&quot;</td><td>null</td><td>&quot;Black&quot;</td><td>&quot;4 GB&quot;</td><td>null</td><td>&quot;Intel HD Graphics 500&quot;</td><td>&quot;2.40 GHz&quot;</td><td>&quot;Notebook/Laptop&quot;</td><td>null</td><td>&quot;1366 x 768&quot;</td><td>&quot;HP Chromebook 11 G6&quot;</td><td>&quot;Chrome OS&quot;</td><td>&quot;Bluetooth, Built-in Microphone…</td><td>&quot;16 GB&quot;</td><td>null</td><td>&quot;eMMC&quot;</td></tr><tr><td>&quot;Dell&quot;</td><td>&quot;$101.22 &quot;</td><td>null</td><td>null</td><td>&quot;Good - RefurbishedThe item sho…</td><td>&quot;“Laptops is tested &amp; fully wor…</td><td>&quot;Intel Core i5 6th Gen.&quot;</td><td>&quot;Minimum 12.5&quot;&quot;</td><td>null</td><td>null</td><td>&quot;8 GB&quot;</td><td>&quot;256 GB&quot;</td><td>&quot;Integrated&quot;</td><td>&quot;Minimum 1.40 GHz&quot;</td><td>&quot;Notebook/Laptop&quot;</td><td>&quot;2015&quot;</td><td>&quot;1366 x 768&quot;</td><td>&quot;Various Models&quot;</td><td>&quot;Windows 10&quot;</td><td>&quot;10/100 LAN Card, Built-in Micr…</td><td>&quot;NO HDD&quot;</td><td>null</td><td>&quot;SSD (Solid State Drive)&quot;</td></tr><tr><td>&quot;Acer&quot;</td><td>&quot;$49.99 &quot;</td><td>&quot;4.5 out of 5 stars&quot;</td><td>193</td><td>null</td><td>null</td><td>&quot;Intel Celeron&quot;</td><td>&quot;11.6 in&quot;</td><td>&quot;Black&quot;</td><td>&quot;Black&quot;</td><td>&quot;4 GB&quot;</td><td>&quot;16 GB&quot;</td><td>null</td><td>&quot;1.60 GHz&quot;</td><td>&quot;Laptop&quot;</td><td>&quot;2017&quot;</td><td>&quot;1366 x 768&quot;</td><td>&quot;Chromebook C738T-C44Z&quot;</td><td>&quot;Chrome OS&quot;</td><td>&quot;Touchscreen, Bluetooth&quot;</td><td>null</td><td>null</td><td>&quot;SSD (Solid State Drive)&quot;</td></tr><tr><td>&quot;HP&quot;</td><td>&quot;$39.59 &quot;</td><td>&quot;4.5 out of 5 stars&quot;</td><td>23</td><td>null</td><td>null</td><td>&quot;Intel Celeron&quot;</td><td>&quot;11.6 in&quot;</td><td>null</td><td>&quot;Black&quot;</td><td>&quot;4 GB&quot;</td><td>&quot;16GB&quot;</td><td>null</td><td>&quot;1.60 GHz&quot;</td><td>&quot;Notebook/Laptop&quot;</td><td>&quot;2017&quot;</td><td>null</td><td>&quot;HP Chromebook 11 G5&quot;</td><td>&quot;Chrome OS&quot;</td><td>&quot;Bluetooth, Built-in Webcam&quot;</td><td>&quot;16 GB&quot;</td><td>null</td><td>&quot;SSD (Solid State Drive)&quot;</td></tr><tr><td>&quot;Acer&quot;</td><td>&quot;$34.99 &quot;</td><td>&quot;5 out of 5 stars&quot;</td><td>20</td><td>null</td><td>null</td><td>&quot;Intel Celeron Dual-Core&quot;</td><td>&quot;11.6 inin&quot;</td><td>null</td><td>&quot;Gray, Granite Gray&quot;</td><td>&quot;2GB&quot;</td><td>null</td><td>null</td><td>&quot;1.00 GHz.4ghz&quot;</td><td>&quot;Netbook&quot;</td><td>null</td><td>null</td><td>&quot;Chromebook C720-2848&quot;</td><td>&quot;Chrome OS&quot;</td><td>null</td><td>&quot;16GB&quot;</td><td>null</td><td>null</td></tr><tr><td>&quot;Dell&quot;</td><td>&quot;$279.99 &quot;</td><td>null</td><td>null</td><td>&quot;Excellent - Refurbished: The i…</td><td>null</td><td>&quot;i7 7th&quot;</td><td>&quot;14 in&quot;</td><td>null</td><td>&quot;Black&quot;</td><td>&quot;16 GB&quot;</td><td>&quot;500 GB&quot;</td><td>null</td><td>&quot;2.80 GHz&quot;</td><td>&quot;Notebook/Laptop&quot;</td><td>null</td><td>&quot;1920 x 1080&quot;</td><td>&quot;Dell Latitude 7480&quot;</td><td>&quot;win 11 pro&quot;</td><td>&quot;Wi-Fi&quot;</td><td>&quot;512 GB&quot;</td><td>null</td><td>&quot;SSD (Solid State Drive)&quot;</td></tr><tr><td>&quot;HP&quot;</td><td>&quot;$125.00 &quot;</td><td>&quot;5 out of 5 stars&quot;</td><td>5</td><td>null</td><td>null</td><td>&quot;Intel Core i3 10th Gen.&quot;</td><td>&quot;14 in&quot;</td><td>&quot;Mineral Silver&quot;</td><td>&quot;Silver&quot;</td><td>&quot;8 GB&quot;</td><td>&quot;64 GB&quot;</td><td>&quot;Intel UHD Graphics&quot;</td><td>&quot;2.10 GHz&quot;</td><td>&quot;Notebook/Laptop&quot;</td><td>&quot;2020&quot;</td><td>&quot;1920 x 1080&quot;</td><td>&quot;Samsung Chromebook 3&quot;</td><td>&quot;Chrome OS&quot;</td><td>&quot;Touchscreen, Bluetooth, Built-…</td><td>null</td><td>null</td><td>&quot;eMMC&quot;</td></tr></tbody></table></div>"
      ]
     },
     "execution_count": 8,
     "metadata": {},
     "output_type": "execute_result"
    }
   ],
   "execution_count": 8
  },
  {
   "metadata": {},
   "cell_type": "markdown",
   "source": [
    "Observations:\n",
    "\n",
    "- The Price column contains both price and currency, with some entries in range format (e.g., \"$399.99 to $634.99\") that need processing before conversion to a numerical variable.\n",
    "- Some columns, including Price, are treated as strings but should be numeric.\n",
    "- Several columns have missing values, which need to be addressed during preprocessing."
   ],
   "id": "6aa23d8552252620"
  },
  {
   "metadata": {},
   "cell_type": "markdown",
   "source": "## Summary Statistics",
   "id": "9fe9de595c4475a7"
  },
  {
   "metadata": {},
   "cell_type": "markdown",
   "source": "We compute the summary statistics for our dataset, but we instantly notice most of our columns are nullable, which makes statistics, such as the mean and standard deviation, to output null too.",
   "id": "5330e575211210b5"
  },
  {
   "metadata": {
    "ExecuteTime": {
     "end_time": "2025-04-04T01:26:22.426925Z",
     "start_time": "2025-04-04T01:26:22.413951Z"
    }
   },
   "cell_type": "code",
   "source": [
    "# Summary statistics\n",
    "df.describe()"
   ],
   "id": "b9af8247d087d6a2",
   "outputs": [
    {
     "data": {
      "text/plain": [
       "shape: (9, 24)\n",
       "┌────────────┬───────┬────────────┬────────────┬───┬──────────┬────────────┬───────────┬───────────┐\n",
       "│ statistic  ┆ Brand ┆ Price      ┆ Rating     ┆ … ┆ Features ┆ Hard Drive ┆ Country   ┆ Storage   │\n",
       "│ ---        ┆ ---   ┆ ---        ┆ ---        ┆   ┆ ---      ┆ Capacity   ┆ Region Of ┆ Type      │\n",
       "│ str        ┆ str   ┆ str        ┆ str        ┆   ┆ str      ┆ ---        ┆ Manufactu ┆ ---       │\n",
       "│            ┆       ┆            ┆            ┆   ┆          ┆ str        ┆ rer       ┆ str       │\n",
       "│            ┆       ┆            ┆            ┆   ┆          ┆            ┆ ---       ┆           │\n",
       "│            ┆       ┆            ┆            ┆   ┆          ┆            ┆ str       ┆           │\n",
       "╞════════════╪═══════╪════════════╪════════════╪═══╪══════════╪════════════╪═══════════╪═══════════╡\n",
       "│ count      ┆ 4024  ┆ 6620       ┆ 286        ┆ … ┆ 2505     ┆ 2332       ┆ 203       ┆ 2388      │\n",
       "│ null_count ┆ 2596  ┆ 0          ┆ 6334       ┆ … ┆ 4115     ┆ 4288       ┆ 6417      ┆ 4232      │\n",
       "│ mean       ┆ null  ┆ null       ┆ null       ┆ … ┆ null     ┆ null       ┆ null      ┆ null      │\n",
       "│ std        ┆ null  ┆ null       ┆ null       ┆ … ┆ null     ┆ null       ┆ null      ┆ null      │\n",
       "│ min        ┆ ?     ┆ $1,002.67  ┆ 1 out of 5 ┆ … ┆ .        ┆ .          ┆ Australia ┆ .         │\n",
       "│            ┆       ┆            ┆ stars      ┆   ┆          ┆            ┆           ┆           │\n",
       "│ 25%        ┆ null  ┆ null       ┆ null       ┆ … ┆ null     ┆ null       ┆ null      ┆ null      │\n",
       "│ 50%        ┆ null  ┆ null       ┆ null       ┆ … ┆ null     ┆ null       ┆ null      ┆ null      │\n",
       "│ 75%        ┆ null  ┆ null       ┆ null       ┆ … ┆ null     ┆ null       ┆ null      ┆ null      │\n",
       "│ max        ┆ xnote ┆ $999.95    ┆ 5 out of 5 ┆ … ┆ dvd      ┆ up to 1 TB ┆ Unknown   ┆ ssd       │\n",
       "│            ┆       ┆            ┆ stars      ┆   ┆          ┆            ┆           ┆           │\n",
       "└────────────┴───────┴────────────┴────────────┴───┴──────────┴────────────┴───────────┴───────────┘"
      ],
      "text/html": [
       "<div><style>\n",
       ".dataframe > thead > tr,\n",
       ".dataframe > tbody > tr {\n",
       "  text-align: right;\n",
       "  white-space: pre-wrap;\n",
       "}\n",
       "</style>\n",
       "<small>shape: (9, 24)</small><table border=\"1\" class=\"dataframe\"><thead><tr><th>statistic</th><th>Brand</th><th>Price</th><th>Rating</th><th>Ratings Count</th><th>Condition</th><th>Seller Note</th><th>Processor</th><th>Screen Size</th><th>Manufacturer Color</th><th>Color</th><th>Ram Size</th><th>SSD Capacity</th><th>GPU</th><th>Processor Speed</th><th>Type</th><th>Release Year</th><th>Maximum Resolution</th><th>Model</th><th>OS</th><th>Features</th><th>Hard Drive Capacity</th><th>Country Region Of Manufacturer</th><th>Storage Type</th></tr><tr><td>str</td><td>str</td><td>str</td><td>str</td><td>f64</td><td>str</td><td>str</td><td>str</td><td>str</td><td>str</td><td>str</td><td>str</td><td>str</td><td>str</td><td>str</td><td>str</td><td>str</td><td>str</td><td>str</td><td>str</td><td>str</td><td>str</td><td>str</td><td>str</td></tr></thead><tbody><tr><td>&quot;count&quot;</td><td>&quot;4024&quot;</td><td>&quot;6620&quot;</td><td>&quot;286&quot;</td><td>286.0</td><td>&quot;6004&quot;</td><td>&quot;1442&quot;</td><td>&quot;3837&quot;</td><td>&quot;3890&quot;</td><td>&quot;185&quot;</td><td>&quot;2149&quot;</td><td>&quot;2112&quot;</td><td>&quot;2780&quot;</td><td>&quot;3088&quot;</td><td>&quot;2669&quot;</td><td>&quot;3289&quot;</td><td>&quot;787&quot;</td><td>&quot;2480&quot;</td><td>&quot;3148&quot;</td><td>&quot;3040&quot;</td><td>&quot;2505&quot;</td><td>&quot;2332&quot;</td><td>&quot;203&quot;</td><td>&quot;2388&quot;</td></tr><tr><td>&quot;null_count&quot;</td><td>&quot;2596&quot;</td><td>&quot;0&quot;</td><td>&quot;6334&quot;</td><td>6334.0</td><td>&quot;616&quot;</td><td>&quot;5178&quot;</td><td>&quot;2783&quot;</td><td>&quot;2730&quot;</td><td>&quot;6435&quot;</td><td>&quot;4471&quot;</td><td>&quot;4508&quot;</td><td>&quot;3840&quot;</td><td>&quot;3532&quot;</td><td>&quot;3951&quot;</td><td>&quot;3331&quot;</td><td>&quot;5833&quot;</td><td>&quot;4140&quot;</td><td>&quot;3472&quot;</td><td>&quot;3580&quot;</td><td>&quot;4115&quot;</td><td>&quot;4288&quot;</td><td>&quot;6417&quot;</td><td>&quot;4232&quot;</td></tr><tr><td>&quot;mean&quot;</td><td>null</td><td>null</td><td>null</td><td>42.479021</td><td>null</td><td>null</td><td>null</td><td>null</td><td>null</td><td>null</td><td>null</td><td>null</td><td>null</td><td>null</td><td>null</td><td>null</td><td>null</td><td>null</td><td>null</td><td>null</td><td>null</td><td>null</td><td>null</td></tr><tr><td>&quot;std&quot;</td><td>null</td><td>null</td><td>null</td><td>201.257428</td><td>null</td><td>null</td><td>null</td><td>null</td><td>null</td><td>null</td><td>null</td><td>null</td><td>null</td><td>null</td><td>null</td><td>null</td><td>null</td><td>null</td><td>null</td><td>null</td><td>null</td><td>null</td><td>null</td></tr><tr><td>&quot;min&quot;</td><td>&quot;?&quot;</td><td>&quot;$1,002.67 &quot;</td><td>&quot;1 out of 5 stars&quot;</td><td>1.0</td><td>&quot;Certified - Refurbished: The i…</td><td>&quot;“&quot;Excellent Condition Touch Sc…</td><td>&quot;10th Gen Intel Core i5&quot;</td><td>&quot;10 in&quot;</td><td>&quot;3000&quot;</td><td>&quot;Abyss Blue&quot;</td><td>&quot;1 GB&quot;</td><td>&quot;.&quot;</td><td>&quot;.&quot;</td><td>&quot;1.00 GHz&quot;</td><td>&quot;2 IN 1 CHROMEBOOK&quot;</td><td>&quot;0&quot;</td><td>&quot;1024 x 480&quot;</td><td>&quot;100e Chromebook&quot;</td><td>&quot;ANDROID&quot;</td><td>&quot;.&quot;</td><td>&quot;.&quot;</td><td>&quot;Australia&quot;</td><td>&quot;.&quot;</td></tr><tr><td>&quot;25%&quot;</td><td>null</td><td>null</td><td>null</td><td>2.0</td><td>null</td><td>null</td><td>null</td><td>null</td><td>null</td><td>null</td><td>null</td><td>null</td><td>null</td><td>null</td><td>null</td><td>null</td><td>null</td><td>null</td><td>null</td><td>null</td><td>null</td><td>null</td><td>null</td></tr><tr><td>&quot;50%&quot;</td><td>null</td><td>null</td><td>null</td><td>4.0</td><td>null</td><td>null</td><td>null</td><td>null</td><td>null</td><td>null</td><td>null</td><td>null</td><td>null</td><td>null</td><td>null</td><td>null</td><td>null</td><td>null</td><td>null</td><td>null</td><td>null</td><td>null</td><td>null</td></tr><tr><td>&quot;75%&quot;</td><td>null</td><td>null</td><td>null</td><td>20.0</td><td>null</td><td>null</td><td>null</td><td>null</td><td>null</td><td>null</td><td>null</td><td>null</td><td>null</td><td>null</td><td>null</td><td>null</td><td>null</td><td>null</td><td>null</td><td>null</td><td>null</td><td>null</td><td>null</td></tr><tr><td>&quot;max&quot;</td><td>&quot;xnote&quot;</td><td>&quot;$999.95 &quot;</td><td>&quot;5 out of 5 stars&quot;</td><td>1533.0</td><td>&quot;Very Good - RefurbishedThe ite…</td><td>&quot;“✅ Refurbished ✅ inkl. 19% MwS…</td><td>&quot;unknown&quot;</td><td>&quot;none&quot;</td><td>&quot;onyx black&quot;</td><td>&quot;see pictures&quot;</td><td>&quot;up to 32GBGB DDR4&quot;</td><td>&quot;up to 1TB SSD&quot;</td><td>&quot;‎PowerVR GX6250&quot;</td><td>&quot;up to 3.6Ghz&quot;</td><td>&quot;Écran numériseur&quot;</td><td>&quot;see manufacturer&quot;</td><td>&quot;See Title/Description&quot;</td><td>&quot;xnote&quot;</td><td>&quot;‎Windows 11 Home&quot;</td><td>&quot;dvd&quot;</td><td>&quot;up to 1 TB&quot;</td><td>&quot;Unknown&quot;</td><td>&quot;ssd&quot;</td></tr></tbody></table></div>"
      ]
     },
     "execution_count": 9,
     "metadata": {},
     "output_type": "execute_result"
    }
   ],
   "execution_count": 9
  },
  {
   "metadata": {},
   "cell_type": "markdown",
   "source": [
    "## Null Count and Null Proportion\n",
    "\n",
    "Now, we take a look at the null count and null proportion per each dataframe column:"
   ],
   "id": "a1bbf98ce955faa7"
  },
  {
   "metadata": {},
   "cell_type": "markdown",
   "source": [
    "## Data Types\n",
    "We look at each column data type in the data frame"
   ],
   "id": "c7832893914a53be"
  },
  {
   "metadata": {
    "ExecuteTime": {
     "end_time": "2025-04-04T01:26:22.490497Z",
     "start_time": "2025-04-04T01:26:22.485802Z"
    }
   },
   "cell_type": "code",
   "source": [
    "# Data Types\n",
    "pl.DataFrame(data={\n",
    "    'column': df.columns,\n",
    "    'dtype': df.dtypes\n",
    "})"
   ],
   "id": "c5190b7ce3e7c410",
   "outputs": [
    {
     "data": {
      "text/plain": [
       "shape: (23, 2)\n",
       "┌────────────────────────────────┬────────┐\n",
       "│ column                         ┆ dtype  │\n",
       "│ ---                            ┆ ---    │\n",
       "│ str                            ┆ object │\n",
       "╞════════════════════════════════╪════════╡\n",
       "│ Brand                          ┆ String │\n",
       "│ Price                          ┆ String │\n",
       "│ Rating                         ┆ String │\n",
       "│ Ratings Count                  ┆ Int64  │\n",
       "│ Condition                      ┆ String │\n",
       "│ …                              ┆ …      │\n",
       "│ OS                             ┆ String │\n",
       "│ Features                       ┆ String │\n",
       "│ Hard Drive Capacity            ┆ String │\n",
       "│ Country Region Of Manufacturer ┆ String │\n",
       "│ Storage Type                   ┆ String │\n",
       "└────────────────────────────────┴────────┘"
      ],
      "text/html": [
       "<div><style>\n",
       ".dataframe > thead > tr,\n",
       ".dataframe > tbody > tr {\n",
       "  text-align: right;\n",
       "  white-space: pre-wrap;\n",
       "}\n",
       "</style>\n",
       "<small>shape: (23, 2)</small><table border=\"1\" class=\"dataframe\"><thead><tr><th>column</th><th>dtype</th></tr><tr><td>str</td><td>object</td></tr></thead><tbody><tr><td>&quot;Brand&quot;</td><td>String</td></tr><tr><td>&quot;Price&quot;</td><td>String</td></tr><tr><td>&quot;Rating&quot;</td><td>String</td></tr><tr><td>&quot;Ratings Count&quot;</td><td>Int64</td></tr><tr><td>&quot;Condition&quot;</td><td>String</td></tr><tr><td>&hellip;</td><td>&hellip;</td></tr><tr><td>&quot;OS&quot;</td><td>String</td></tr><tr><td>&quot;Features&quot;</td><td>String</td></tr><tr><td>&quot;Hard Drive Capacity&quot;</td><td>String</td></tr><tr><td>&quot;Country Region Of Manufacturer&quot;</td><td>String</td></tr><tr><td>&quot;Storage Type&quot;</td><td>String</td></tr></tbody></table></div>"
      ]
     },
     "execution_count": 10,
     "metadata": {},
     "output_type": "execute_result"
    }
   ],
   "execution_count": 10
  },
  {
   "metadata": {},
   "cell_type": "markdown",
   "source": "## Data Preparation",
   "id": "b97b7ea013593a30"
  },
  {
   "metadata": {},
   "cell_type": "markdown",
   "source": [
    "### Column Renaming\n",
    "\n",
    "We kick things off by reformatting the column names: lowercasing and removing spaces for underscores. These convention for string data will be STANDARD during our data cleansing process, so that most categorical data is transformed into similar formatting."
   ],
   "id": "bc8823a38966629b"
  },
  {
   "metadata": {
    "ExecuteTime": {
     "end_time": "2025-04-04T01:26:22.646736Z",
     "start_time": "2025-04-04T01:26:22.642098Z"
    }
   },
   "cell_type": "code",
   "source": [
    "# Renaming columns: replacing blank spaces for underscores and lowercasing columns\n",
    "df = df.rename({col: col.strip().lower().replace(' ', '_') for col in df.columns})\n",
    "print(df.columns)"
   ],
   "id": "1fad2347f2287ca7",
   "outputs": [
    {
     "name": "stdout",
     "output_type": "stream",
     "text": [
      "['brand', 'price', 'rating', 'ratings_count', 'condition', 'seller_note', 'processor', 'screen_size', 'manufacturer_color', 'color', 'ram_size', 'ssd_capacity', 'gpu', 'processor_speed', 'type', 'release_year', 'maximum_resolution', 'model', 'os', 'features', 'hard_drive_capacity', 'country_region_of_manufacturer', 'storage_type']\n"
     ]
    }
   ],
   "execution_count": 11
  },
  {
   "metadata": {},
   "cell_type": "markdown",
   "source": [
    "### Removing Duplicates\n",
    "\n",
    "Removing duplicates early keeps the data unique and prevents distorted results. Duplicates, often from multiple listings of the same laptop, can affect price trends and brand distribution. Cleaning them up first ensures more accurate analysis."
   ],
   "id": "657096e6be6ebbab"
  },
  {
   "metadata": {
    "ExecuteTime": {
     "end_time": "2025-04-04T01:26:22.933947Z",
     "start_time": "2025-04-04T01:26:22.926905Z"
    }
   },
   "cell_type": "code",
   "source": [
    "print(f'Total rows before removing duplicates: {df.height}')\n",
    "df = df.unique()\n",
    "print(f'Total rows after removing duplicates {df.height}')"
   ],
   "id": "985837a7420f381b",
   "outputs": [
    {
     "name": "stdout",
     "output_type": "stream",
     "text": [
      "Total rows before removing duplicates: 6620\n",
      "Total rows after removing duplicates 4475\n"
     ]
    }
   ],
   "execution_count": 12
  },
  {
   "metadata": {},
   "cell_type": "markdown",
   "source": "### Utility Functions",
   "id": "24b36750ac52943d"
  },
  {
   "metadata": {
    "ExecuteTime": {
     "end_time": "2025-04-04T01:26:23.147903Z",
     "start_time": "2025-04-04T01:26:23.144868Z"
    }
   },
   "cell_type": "code",
   "source": [
    "def value_counts_with_proportion(series: pl.Series,\n",
    "                                 proportion_col_alias: str = 'proportion',\n",
    "                                 sort: bool = True,\n",
    "                                 parallel: bool = True,\n",
    "                                 decimals: int = 2,\n",
    "                                 convert_to_pandas: bool = False) -> pl.DataFrame | pd.DataFrame:\n",
    "    \"\"\"\n",
    "    Compute value counts and their proportions for a Polars Series.\n",
    "\n",
    "    Args:\n",
    "        series (pl.Series): Input Polars Series.\n",
    "        proportion_col_alias (str, optional): Name for the proportion column. Defaults to 'proportion'.\n",
    "        sort (bool, optional): Whether to sort results by count. Defaults to True.\n",
    "        parallel (bool, optional): Whether to use parallel processing. Defaults to True.\n",
    "        decimals (int, optional): Number of decimal places for proportions. Defaults to 2.\n",
    "        convert_to_pandas (bool, optional): If True, return a Pandas DataFrame. Defaults to False.\n",
    "\n",
    "    Returns:\n",
    "        pl.DataFrame or pd.DataFrame: DataFrame with unique values, counts, and proportions.\n",
    "    \"\"\"\n",
    "    total_count = series.len()\n",
    "\n",
    "    result = series.value_counts(sort=sort, parallel=parallel).with_columns(\n",
    "        (pl.col('count') / total_count).round(decimals).alias(proportion_col_alias)\n",
    "    )\n",
    "\n",
    "    return result.to_pandas() if convert_to_pandas else result"
   ],
   "id": "9ada470e53961afc",
   "outputs": [],
   "execution_count": 13
  },
  {
   "metadata": {
    "ExecuteTime": {
     "end_time": "2025-04-04T01:26:23.311560Z",
     "start_time": "2025-04-04T01:26:23.308392Z"
    }
   },
   "cell_type": "code",
   "source": [
    "def print_series(series: pl.Series, n: int = 10, unique: bool = False) -> None:\n",
    "    \"\"\"\n",
    "    Print summary information and display the first `n` rows of a Polars Series.\n",
    "\n",
    "    Args:\n",
    "        series (pl.Series): The Polars Series to print and display.\n",
    "        n (int, optional): The number of rows to display from the beginning of the Series. Defaults to 10.\n",
    "        unique (bool, optional): Whether to display only unique values in the Series before selecting the first `n` rows. Defaults to False.\n",
    "\n",
    "    Returns:\n",
    "        None\n",
    "    \"\"\"\n",
    "    print(f'Series Shape: {series.shape}')\n",
    "    print(f'Series Type: {series.dtype}')\n",
    "\n",
    "    final_series = series.unique() if unique else series\n",
    "\n",
    "    display(final_series.head(n=n))"
   ],
   "id": "c286c04f864bac3",
   "outputs": [],
   "execution_count": 14
  },
  {
   "metadata": {},
   "cell_type": "markdown",
   "source": [
    "## Cleaning `brand`\n",
    "- **Top categories**: The top three brands—Dell (19%), Lenovo (11%), and HP (7%)—represent a combined 37% of the total brands in the dataset. The null values account for 39% of the data, with 2596 entries marked as null. This is quite a large portion of the dataset. The top 4 categories (`null`, `Dell`, `Lenovo` & `HP`) account for 76% of the dataset.\n",
    "- **Unknown values**: There's an abundance of brands with very low frequencies, or unknown values (like `?` or `Does not apply`).\n",
    "- **Inconsistent formatting**: Some entries like `Dell Inc` are not captured under the main brand `Dell` due to inconsistent formatting. Similar things occur to other top brands.\n",
    "- **Multibrand categories**: Some entries represent several brands, like `Dell / HP / Lenovo` or `Apple / LG`"
   ],
   "id": "91749d24bbac728d"
  },
  {
   "metadata": {
    "ExecuteTime": {
     "end_time": "2025-04-04T01:26:23.387591Z",
     "start_time": "2025-04-04T01:26:23.383274Z"
    }
   },
   "cell_type": "code",
   "source": [
    "# Taking a look at the frequency of each brand: total count and proportion\n",
    "value_counts_with_proportion(df['brand'])"
   ],
   "id": "9817e421cbf736b2",
   "outputs": [
    {
     "data": {
      "text/plain": [
       "shape: (135, 3)\n",
       "┌──────────────┬───────┬────────────┐\n",
       "│ brand        ┆ count ┆ proportion │\n",
       "│ ---          ┆ ---   ┆ ---        │\n",
       "│ str          ┆ u32   ┆ f64        │\n",
       "╞══════════════╪═══════╪════════════╡\n",
       "│ null         ┆ 1333  ┆ 0.3        │\n",
       "│ Dell         ┆ 1009  ┆ 0.23       │\n",
       "│ Lenovo       ┆ 564   ┆ 0.13       │\n",
       "│ HP           ┆ 392   ┆ 0.09       │\n",
       "│ Acer         ┆ 117   ┆ 0.03       │\n",
       "│ …            ┆ …     ┆ …          │\n",
       "│ LiteON       ┆ 1     ┆ 0.0        │\n",
       "│ GERICOM      ┆ 1     ┆ 0.0        │\n",
       "│ GoldBook     ┆ 1     ┆ 0.0        │\n",
       "│ CLAA156WA11A ┆ 1     ┆ 0.0        │\n",
       "│ Lenova       ┆ 1     ┆ 0.0        │\n",
       "└──────────────┴───────┴────────────┘"
      ],
      "text/html": [
       "<div><style>\n",
       ".dataframe > thead > tr,\n",
       ".dataframe > tbody > tr {\n",
       "  text-align: right;\n",
       "  white-space: pre-wrap;\n",
       "}\n",
       "</style>\n",
       "<small>shape: (135, 3)</small><table border=\"1\" class=\"dataframe\"><thead><tr><th>brand</th><th>count</th><th>proportion</th></tr><tr><td>str</td><td>u32</td><td>f64</td></tr></thead><tbody><tr><td>null</td><td>1333</td><td>0.3</td></tr><tr><td>&quot;Dell&quot;</td><td>1009</td><td>0.23</td></tr><tr><td>&quot;Lenovo&quot;</td><td>564</td><td>0.13</td></tr><tr><td>&quot;HP&quot;</td><td>392</td><td>0.09</td></tr><tr><td>&quot;Acer&quot;</td><td>117</td><td>0.03</td></tr><tr><td>&hellip;</td><td>&hellip;</td><td>&hellip;</td></tr><tr><td>&quot;LiteON&quot;</td><td>1</td><td>0.0</td></tr><tr><td>&quot;GERICOM&quot;</td><td>1</td><td>0.0</td></tr><tr><td>&quot;GoldBook&quot;</td><td>1</td><td>0.0</td></tr><tr><td>&quot;CLAA156WA11A&quot;</td><td>1</td><td>0.0</td></tr><tr><td>&quot;Lenova&quot;</td><td>1</td><td>0.0</td></tr></tbody></table></div>"
      ]
     },
     "execution_count": 15,
     "metadata": {},
     "output_type": "execute_result"
    }
   ],
   "execution_count": 15
  },
  {
   "metadata": {},
   "cell_type": "markdown",
   "source": [
    "### **Reformatting `brand`:**\n",
    "\n",
    "In this step of our analysis, we're focusing on cleaning up and standardizing the `brand` data to ensure consistency and accuracy. Brands can be listed in many different ways, which can lead to confusion or misinterpretation during analysis. So, we're transforming the brand names into a uniform format that makes it easier to work with.\n",
    "\n",
    "- **Consistent Formatting:** We ensure all brand names are in lowercase, and we remove any unnecessary spaces or punctuation that could create inconsistencies. (transforming `Dell Inc` into `dell_inc`).\n",
    "- **Replacing Uncertain Values:** We also handle special cases where the data might have uncertain or irrelevant values (e.g., a \"?\" for unknown brands), replacing them with more meaningful terms like \"unbranded\" or \"unknown.\"\n"
   ],
   "id": "545d370520fa8752"
  },
  {
   "metadata": {
    "ExecuteTime": {
     "end_time": "2025-04-04T01:26:23.463609Z",
     "start_time": "2025-04-04T01:26:23.458374Z"
    }
   },
   "cell_type": "code",
   "source": [
    "# Define a mapping to replace certain placeholder values with more meaningful labels.\n",
    "brand_replace_map = {\n",
    "    '?': 'unknown',  # Replace '?' with 'unknown' for unknown brands.\n",
    "    'does_not_apply': 'unknown',  # Replace 'does_not_apply' with 'unknown' to handle irrelevant data.\n",
    "}\n",
    "\n",
    "# Clean and normalize the brand names.\n",
    "df = df.with_columns(\n",
    "    pl.col('brand')\n",
    "    .str.to_lowercase()  # Convert brand names to lowercase to ensure uniformity.\n",
    "    .str.strip_chars()  # Remove any leading whitespace or special characters.\n",
    "    .str.strip_chars_end('.')  # Specifically remove any trailing dots at the end of brand names.\n",
    "    .str.replace_all(' / |\\\\/', ' or ')  # Replace slashes (\"/\" or \" / \") with ' or ' to standardize multi-brand names.\n",
    "    .str.replace_all(' ', '_')  # Replace spaces with underscores to ensure no spaces in brand names.\n",
    "    .replace(brand_replace_map)  # Replace values like '?' or 'does_not_apply' based on the predefined map.\n",
    "    .fill_null('unknown')  # Fill any missing brand values with 'unknown' to handle missing data.\n",
    "    .alias('brand_clean')\n",
    ")\n"
   ],
   "id": "bc774d28f8eb5783",
   "outputs": [],
   "execution_count": 16
  },
  {
   "metadata": {},
   "cell_type": "markdown",
   "source": [
    "### **Identifying and Mapping Top Brands:**\n",
    "\n",
    "In this step, we're focusing on identifying the most popular brands in the dataset and ensuring that any variations in the brand names are mapped to the correct top brand.\n",
    "\n",
    "- **Identifying Top Brands:** We start by filtering out any unknown brand names and then count the occurrences of each brand. From this, we identify the top 5 brands with the highest frequency in the dataset.\n",
    "- **Pattern Matching:** We create a pattern to search for these top brands in the brand names. If the brand name matches one of the top brands (e.g., includes \"dell\", \"hp\", etc.), we recognize it as a valid entry for that brand.\n",
    "- **Mapping Variations to Top Brands:** We then apply a function to map variations of the brand names (e.g., \"dell_epsilon\" or \"hp_dell\") to the main brand names (e.g., \"dell\" or \"hp\"). This ensures that similar or ambiguous entries are standardized to the correct top brand.\n",
    "\n",
    "By applying these steps, we ensure that any variations or inconsistencies in the brand names are correctly mapped to the top brands, improving the consistency and accuracy of our analysis.\n"
   ],
   "id": "6592ddbc8905514b"
  },
  {
   "metadata": {
    "ExecuteTime": {
     "end_time": "2025-04-04T01:26:23.598475Z",
     "start_time": "2025-04-04T01:26:23.592481Z"
    }
   },
   "cell_type": "code",
   "source": [
    "top_brands = (\n",
    "    df.filter(pl.col('brand_clean').ne('unknown'))\n",
    "    .group_by('brand_clean')\n",
    "    .agg(pl.len().alias('count'))\n",
    "    .sort('count', descending=True)\n",
    "    .head(10)\n",
    "    .select('brand_clean')\n",
    "    .to_series()\n",
    ")\n",
    "\n",
    "\n",
    "def fetch_first_matching_brand_from_str(string: str, brand_list: list[str] = None) -> str:\n",
    "    \"\"\"\n",
    "    Extracts the first matching brand from a given string.\n",
    "\n",
    "    Args:\n",
    "        string (str): The input string containing the brand.\n",
    "        brand_list (list): List of top brands to check against.\n",
    "\n",
    "    Returns:\n",
    "        str: The first matched brand if found; otherwise, the original string.\n",
    "    \"\"\"\n",
    "    brand_list = brand_list or set(top_brands)\n",
    "\n",
    "    for brand in brand_list:\n",
    "        if brand + '_' in string:\n",
    "            return brand\n",
    "    return string\n"
   ],
   "id": "f4cb25f8260263ee",
   "outputs": [],
   "execution_count": 17
  },
  {
   "metadata": {
    "ExecuteTime": {
     "end_time": "2025-04-04T01:26:23.669749Z",
     "start_time": "2025-04-04T01:26:23.629032Z"
    }
   },
   "cell_type": "code",
   "source": [
    "# Create a regex pattern to match brand names followed by an underscore (_).\n",
    "is_a_top_brand_string_pattern = \"|\".join(re.escape(brand_name) for brand_name in top_brands + '_')\n",
    "\n",
    "# Apply the brand extraction function to standardize brand names.\n",
    "df = df.with_columns(\n",
    "    pl\n",
    "    # Check if the brand contains any of the top brands and isn't a mixed brand like \"dell_or_hp\".\n",
    "    .when(\n",
    "        pl.col('brand_clean').str.contains(is_a_top_brand_string_pattern) &\n",
    "        ~pl.col('brand_clean').str.contains('_or_')\n",
    "    )\n",
    "    # If the condition is met, map the brand name to its standardized version.\n",
    "    .then(pl.col('brand_clean').map_elements(fetch_first_matching_brand_from_str, return_dtype=pl.Utf8))\n",
    "    # Otherwise, keep the original brand name.\n",
    "    .otherwise(pl.col('brand_clean'))\n",
    "    # Casting to Polars' categorical data type\n",
    "    .cast(pl.Categorical)\n",
    "    # Rename the transformed column as 'brand_clean'.\n",
    "    .alias('brand_clean')\n",
    ")\n",
    "\n",
    "print_series(df['brand_clean'])"
   ],
   "id": "de4961762e9416ac",
   "outputs": [
    {
     "name": "stdout",
     "output_type": "stream",
     "text": [
      "Series Shape: (4475,)\n",
      "Series Type: Categorical(ordering='physical')\n"
     ]
    },
    {
     "data": {
      "text/plain": [
       "shape: (10,)\n",
       "Series: 'brand_clean' [cat]\n",
       "[\n",
       "\t\"unknown\"\n",
       "\t\"samsung\"\n",
       "\t\"dell\"\n",
       "\t\"unknown\"\n",
       "\t\"hp\"\n",
       "\t\"unknown\"\n",
       "\t\"dell\"\n",
       "\t\"dell\"\n",
       "\t\"dell\"\n",
       "\t\"unknown\"\n",
       "]"
      ],
      "text/html": [
       "<div><style>\n",
       ".dataframe > thead > tr,\n",
       ".dataframe > tbody > tr {\n",
       "  text-align: right;\n",
       "  white-space: pre-wrap;\n",
       "}\n",
       "</style>\n",
       "<small>shape: (10,)</small><table border=\"1\" class=\"dataframe\"><thead><tr><th>brand_clean</th></tr><tr><td>cat</td></tr></thead><tbody><tr><td>&quot;unknown&quot;</td></tr><tr><td>&quot;samsung&quot;</td></tr><tr><td>&quot;dell&quot;</td></tr><tr><td>&quot;unknown&quot;</td></tr><tr><td>&quot;hp&quot;</td></tr><tr><td>&quot;unknown&quot;</td></tr><tr><td>&quot;dell&quot;</td></tr><tr><td>&quot;dell&quot;</td></tr><tr><td>&quot;dell&quot;</td></tr><tr><td>&quot;unknown&quot;</td></tr></tbody></table></div>"
      ]
     },
     "metadata": {},
     "output_type": "display_data"
    }
   ],
   "execution_count": 18
  },
  {
   "metadata": {
    "ExecuteTime": {
     "end_time": "2025-04-04T01:26:23.721924Z",
     "start_time": "2025-04-04T01:26:23.717384Z"
    }
   },
   "cell_type": "code",
   "source": [
    "# Taking another look at the frequency of each brand: total count and proportion\n",
    "value_counts_with_proportion(df['brand_clean'])"
   ],
   "id": "3135063814a6674e",
   "outputs": [
    {
     "data": {
      "text/plain": [
       "shape: (112, 3)\n",
       "┌──────────────┬───────┬────────────┐\n",
       "│ brand_clean  ┆ count ┆ proportion │\n",
       "│ ---          ┆ ---   ┆ ---        │\n",
       "│ cat          ┆ u32   ┆ f64        │\n",
       "╞══════════════╪═══════╪════════════╡\n",
       "│ unknown      ┆ 1340  ┆ 0.3        │\n",
       "│ dell         ┆ 1030  ┆ 0.23       │\n",
       "│ lenovo       ┆ 569   ┆ 0.13       │\n",
       "│ hp           ┆ 392   ┆ 0.09       │\n",
       "│ acer         ┆ 118   ┆ 0.03       │\n",
       "│ …            ┆ …     ┆ …          │\n",
       "│ liteon       ┆ 1     ┆ 0.0        │\n",
       "│ gericom      ┆ 1     ┆ 0.0        │\n",
       "│ goldbook     ┆ 1     ┆ 0.0        │\n",
       "│ claa156wa11a ┆ 1     ┆ 0.0        │\n",
       "│ lenova       ┆ 1     ┆ 0.0        │\n",
       "└──────────────┴───────┴────────────┘"
      ],
      "text/html": [
       "<div><style>\n",
       ".dataframe > thead > tr,\n",
       ".dataframe > tbody > tr {\n",
       "  text-align: right;\n",
       "  white-space: pre-wrap;\n",
       "}\n",
       "</style>\n",
       "<small>shape: (112, 3)</small><table border=\"1\" class=\"dataframe\"><thead><tr><th>brand_clean</th><th>count</th><th>proportion</th></tr><tr><td>cat</td><td>u32</td><td>f64</td></tr></thead><tbody><tr><td>&quot;unknown&quot;</td><td>1340</td><td>0.3</td></tr><tr><td>&quot;dell&quot;</td><td>1030</td><td>0.23</td></tr><tr><td>&quot;lenovo&quot;</td><td>569</td><td>0.13</td></tr><tr><td>&quot;hp&quot;</td><td>392</td><td>0.09</td></tr><tr><td>&quot;acer&quot;</td><td>118</td><td>0.03</td></tr><tr><td>&hellip;</td><td>&hellip;</td><td>&hellip;</td></tr><tr><td>&quot;liteon&quot;</td><td>1</td><td>0.0</td></tr><tr><td>&quot;gericom&quot;</td><td>1</td><td>0.0</td></tr><tr><td>&quot;goldbook&quot;</td><td>1</td><td>0.0</td></tr><tr><td>&quot;claa156wa11a&quot;</td><td>1</td><td>0.0</td></tr><tr><td>&quot;lenova&quot;</td><td>1</td><td>0.0</td></tr></tbody></table></div>"
      ]
     },
     "execution_count": 19,
     "metadata": {},
     "output_type": "execute_result"
    }
   ],
   "execution_count": 19
  },
  {
   "metadata": {},
   "cell_type": "markdown",
   "source": [
    "Observations:\n",
    "- **More records assigned to `dell`**: `dell` has more than 15 new records. (from `1009` to `1030`). Likely due to previously fragmented brand variations (e.g., `dell_inc`, `dell_xps`) now being mapped correctly to `dell`.\n",
    "- **Consistent top brands**: The overall ranking of top brands did not change. The counts for `hp`, `acer`, `lg`, `fujitsu_siemens`, `samsung`, `microsoft`  and `auo` remained stable, indicating that these brands were either already well-represented or had fewer naming inconsistencies."
   ],
   "id": "a4f8f06f3cc54097"
  },
  {
   "metadata": {},
   "cell_type": "markdown",
   "source": [
    "## Cleaning `price`\n",
    "\n",
    "- **Multiple info**: By analyzing the `price` variable, we realize it also has information about the currency (via symbols like `$`).\n",
    "- **Inconsistent format**: The cost of a laptop might be fixed (e.g: `880`) or a range (e.g: `from 500 to 999`)\n",
    "- **Bad typing**: `price` is currently a categorical (`String`) variable, due to commas, whitespaces and symbols. To use this data effectively for statistical models, we **MUST CONVERT** it into **NUMERICAL**, removing currency symbols and handling text-based variations like ranges."
   ],
   "id": "c5d10b977a42b5cd"
  },
  {
   "metadata": {
    "ExecuteTime": {
     "end_time": "2025-04-04T01:26:23.909251Z",
     "start_time": "2025-04-04T01:26:23.904432Z"
    }
   },
   "cell_type": "code",
   "source": [
    "# Taking a look at the first 5 records from the `price` column, as is\n",
    "df['price'].head(n=10)"
   ],
   "id": "dc71ad5dafc6ab57",
   "outputs": [
    {
     "data": {
      "text/plain": [
       "shape: (10,)\n",
       "Series: 'price' [str]\n",
       "[\n",
       "\t\"$108.04 \"\n",
       "\t\"$70.03 \"\n",
       "\t\"$184.99 \"\n",
       "\t\"$291.24 \"\n",
       "\t\"$429.00 to $579.00\"\n",
       "\t\"$632.74 \"\n",
       "\t\"$170.00 \"\n",
       "\t\"$125.96 \"\n",
       "\t\"$179.00 \"\n",
       "\t\"$326.28 \"\n",
       "]"
      ],
      "text/html": [
       "<div><style>\n",
       ".dataframe > thead > tr,\n",
       ".dataframe > tbody > tr {\n",
       "  text-align: right;\n",
       "  white-space: pre-wrap;\n",
       "}\n",
       "</style>\n",
       "<small>shape: (10,)</small><table border=\"1\" class=\"dataframe\"><thead><tr><th>price</th></tr><tr><td>str</td></tr></thead><tbody><tr><td>&quot;$108.04 &quot;</td></tr><tr><td>&quot;$70.03 &quot;</td></tr><tr><td>&quot;$184.99 &quot;</td></tr><tr><td>&quot;$291.24 &quot;</td></tr><tr><td>&quot;$429.00 to $579.00&quot;</td></tr><tr><td>&quot;$632.74 &quot;</td></tr><tr><td>&quot;$170.00 &quot;</td></tr><tr><td>&quot;$125.96 &quot;</td></tr><tr><td>&quot;$179.00 &quot;</td></tr><tr><td>&quot;$326.28 &quot;</td></tr></tbody></table></div>"
      ]
     },
     "execution_count": 20,
     "metadata": {},
     "output_type": "execute_result"
    }
   ],
   "execution_count": 20
  },
  {
   "metadata": {},
   "cell_type": "markdown",
   "source": [
    "Observations:\n",
    "- **Variable format**: Cost of a laptop might be either a range (`$399.99 to $634.99`) or a fixed price (`$399.99 to $634.99`).\n",
    "- **Wrong typing**: Data is currently of `String` data type, instead of a numerical type, due to the presence of currency symbols and words ('to')."
   ],
   "id": "4ce7cdf594da4573"
  },
  {
   "metadata": {},
   "cell_type": "markdown",
   "source": [
    "### **Reformatting `price`:**\n",
    "\n",
    "In this step, we focus on cleaning and standardizing the `price` variable to make it usable for further analysis. Currently, the `price` column contains multiple inconsistencies that need to be addressed.\n",
    "\n",
    "- **Extracting Currency Symbols:** The dataset contains various currency symbols (such as `$`), which are separated from the numerical values, and assigned to a new variable `currency_clean`.\n",
    "- **Handling Inconsistent Formats:** Prices appear in different formats, sometimes as a single fixed value (`880`) and other times as a range (`from 500 to 999`). We need to extract the lowest value from these ranges (`min_price_clean`) to ensure uniformity.\n",
    "- **Ensuring Proper Data Types:** After cleaning, we cast the extracted price values to `Float64`, making them compatible with statistical models and numerical computations.\n"
   ],
   "id": "2e874a7c98c895de"
  },
  {
   "metadata": {
    "ExecuteTime": {
     "end_time": "2025-04-04T01:26:24.019567Z",
     "start_time": "2025-04-04T01:26:24.012593Z"
    }
   },
   "cell_type": "code",
   "source": [
    "df = df.with_columns(\n",
    "    # Extract the currency symbol from the price column\n",
    "    pl.col('price').str.slice(0, 1)\n",
    "    .cast(pl.Categorical)  # Casting the currency symbol to categorical\n",
    "    .alias('currency_clean'),\n",
    "    # Removing the currency symbol, commas from the price and trimming whitespace\n",
    "    pl.col('price')\n",
    "    .str.slice(1)  # Removing the currency symbol\n",
    "    .str.replace(',', '')  # Removing commas\n",
    "    .str.split(\"to\")  # Separating the price into min_price and max_price range\n",
    "    .list.first()  # Obtaining the min_price, the first element of the list\n",
    "    .str.strip_chars()  # Remove leading and trailing characters\n",
    "    .cast(pl.Float64)  # Casting the min_price to float\n",
    "    .alias('min_price_clean')  # Renaming to reflect that it's the min price in case of ranges\n",
    ")\n",
    "\n",
    "# Preview the transformed data by displaying the top 5 rows\n",
    "df.select(\n",
    "    'price', 'currency_clean', 'min_price_clean'\n",
    ").head(n=10)"
   ],
   "id": "fad79cf6e44b2010",
   "outputs": [
    {
     "data": {
      "text/plain": [
       "shape: (10, 3)\n",
       "┌────────────────────┬────────────────┬─────────────────┐\n",
       "│ price              ┆ currency_clean ┆ min_price_clean │\n",
       "│ ---                ┆ ---            ┆ ---             │\n",
       "│ str                ┆ cat            ┆ f64             │\n",
       "╞════════════════════╪════════════════╪═════════════════╡\n",
       "│ $108.04            ┆ $              ┆ 108.04          │\n",
       "│ $70.03             ┆ $              ┆ 70.03           │\n",
       "│ $184.99            ┆ $              ┆ 184.99          │\n",
       "│ $291.24            ┆ $              ┆ 291.24          │\n",
       "│ $429.00 to $579.00 ┆ $              ┆ 429.0           │\n",
       "│ $632.74            ┆ $              ┆ 632.74          │\n",
       "│ $170.00            ┆ $              ┆ 170.0           │\n",
       "│ $125.96            ┆ $              ┆ 125.96          │\n",
       "│ $179.00            ┆ $              ┆ 179.0           │\n",
       "│ $326.28            ┆ $              ┆ 326.28          │\n",
       "└────────────────────┴────────────────┴─────────────────┘"
      ],
      "text/html": [
       "<div><style>\n",
       ".dataframe > thead > tr,\n",
       ".dataframe > tbody > tr {\n",
       "  text-align: right;\n",
       "  white-space: pre-wrap;\n",
       "}\n",
       "</style>\n",
       "<small>shape: (10, 3)</small><table border=\"1\" class=\"dataframe\"><thead><tr><th>price</th><th>currency_clean</th><th>min_price_clean</th></tr><tr><td>str</td><td>cat</td><td>f64</td></tr></thead><tbody><tr><td>&quot;$108.04 &quot;</td><td>&quot;$&quot;</td><td>108.04</td></tr><tr><td>&quot;$70.03 &quot;</td><td>&quot;$&quot;</td><td>70.03</td></tr><tr><td>&quot;$184.99 &quot;</td><td>&quot;$&quot;</td><td>184.99</td></tr><tr><td>&quot;$291.24 &quot;</td><td>&quot;$&quot;</td><td>291.24</td></tr><tr><td>&quot;$429.00 to $579.00&quot;</td><td>&quot;$&quot;</td><td>429.0</td></tr><tr><td>&quot;$632.74 &quot;</td><td>&quot;$&quot;</td><td>632.74</td></tr><tr><td>&quot;$170.00 &quot;</td><td>&quot;$&quot;</td><td>170.0</td></tr><tr><td>&quot;$125.96 &quot;</td><td>&quot;$&quot;</td><td>125.96</td></tr><tr><td>&quot;$179.00 &quot;</td><td>&quot;$&quot;</td><td>179.0</td></tr><tr><td>&quot;$326.28 &quot;</td><td>&quot;$&quot;</td><td>326.28</td></tr></tbody></table></div>"
      ]
     },
     "execution_count": 21,
     "metadata": {},
     "output_type": "execute_result"
    }
   ],
   "execution_count": 21
  },
  {
   "metadata": {},
   "cell_type": "markdown",
   "source": "## Cleaning `rating` & `ratings_count`",
   "id": "84ca7bbc24e26aeb"
  },
  {
   "metadata": {
    "ExecuteTime": {
     "end_time": "2025-04-04T01:26:24.188955Z",
     "start_time": "2025-04-04T01:26:24.184763Z"
    }
   },
   "cell_type": "code",
   "source": [
    "# Taking a look at the frequency of each rating: total count and proportion\n",
    "value_counts_with_proportion(df['rating'])"
   ],
   "id": "a2d821af4871dc4",
   "outputs": [
    {
     "data": {
      "text/plain": [
       "shape: (8, 3)\n",
       "┌────────────────────┬───────┬────────────┐\n",
       "│ rating             ┆ count ┆ proportion │\n",
       "│ ---                ┆ ---   ┆ ---        │\n",
       "│ str                ┆ u32   ┆ f64        │\n",
       "╞════════════════════╪═══════╪════════════╡\n",
       "│ null               ┆ 4255  ┆ 0.95       │\n",
       "│ 5 out of 5 stars   ┆ 100   ┆ 0.02       │\n",
       "│ 4.5 out of 5 stars ┆ 85    ┆ 0.02       │\n",
       "│ 4 out of 5 stars   ┆ 20    ┆ 0.0        │\n",
       "│ 3.5 out of 5 stars ┆ 10    ┆ 0.0        │\n",
       "│ 3 out of 5 stars   ┆ 2     ┆ 0.0        │\n",
       "│ 1 out of 5 stars   ┆ 2     ┆ 0.0        │\n",
       "│ 2 out of 5 stars   ┆ 1     ┆ 0.0        │\n",
       "└────────────────────┴───────┴────────────┘"
      ],
      "text/html": [
       "<div><style>\n",
       ".dataframe > thead > tr,\n",
       ".dataframe > tbody > tr {\n",
       "  text-align: right;\n",
       "  white-space: pre-wrap;\n",
       "}\n",
       "</style>\n",
       "<small>shape: (8, 3)</small><table border=\"1\" class=\"dataframe\"><thead><tr><th>rating</th><th>count</th><th>proportion</th></tr><tr><td>str</td><td>u32</td><td>f64</td></tr></thead><tbody><tr><td>null</td><td>4255</td><td>0.95</td></tr><tr><td>&quot;5 out of 5 stars&quot;</td><td>100</td><td>0.02</td></tr><tr><td>&quot;4.5 out of 5 stars&quot;</td><td>85</td><td>0.02</td></tr><tr><td>&quot;4 out of 5 stars&quot;</td><td>20</td><td>0.0</td></tr><tr><td>&quot;3.5 out of 5 stars&quot;</td><td>10</td><td>0.0</td></tr><tr><td>&quot;3 out of 5 stars&quot;</td><td>2</td><td>0.0</td></tr><tr><td>&quot;1 out of 5 stars&quot;</td><td>2</td><td>0.0</td></tr><tr><td>&quot;2 out of 5 stars&quot;</td><td>1</td><td>0.0</td></tr></tbody></table></div>"
      ]
     },
     "execution_count": 22,
     "metadata": {},
     "output_type": "execute_result"
    }
   ],
   "execution_count": 22
  },
  {
   "metadata": {},
   "cell_type": "markdown",
   "source": [
    "Observations:\n",
    "- **Extremely high null proportion**: 96% of entries have missing (`null`) ratings, significantly reducing the available data for analysis. Almost the entire column is composed of `null` values.\n",
    "- **Strong positive bias**: Ratings are overwhelmingly positive, with **5 out of 5 stars (2%)** and **4.5 out of 5 stars (2%)** making up nearly all non-null values. Only **5 instances** have ratings of **3 stars or lower**, making it difficult to assess dissatisfaction trends.\n",
    "- **Possible numerical conversion**: The `rating` column is currently a String but can be converted into an `Int` **five_star_scale** variable for analysis."
   ],
   "id": "6f9c0fca81bed132"
  },
  {
   "metadata": {
    "ExecuteTime": {
     "end_time": "2025-04-04T01:26:24.462990Z",
     "start_time": "2025-04-04T01:26:24.458017Z"
    }
   },
   "cell_type": "code",
   "source": [
    "# Taking a look at the frequency of each rating count: total count and proportion\n",
    "value_counts_with_proportion(df['ratings_count'])"
   ],
   "id": "7aa293b9636466b2",
   "outputs": [
    {
     "data": {
      "text/plain": [
       "shape: (43, 3)\n",
       "┌───────────────┬───────┬────────────┐\n",
       "│ ratings_count ┆ count ┆ proportion │\n",
       "│ ---           ┆ ---   ┆ ---        │\n",
       "│ i64           ┆ u32   ┆ f64        │\n",
       "╞═══════════════╪═══════╪════════════╡\n",
       "│ null          ┆ 4255  ┆ 0.95       │\n",
       "│ 1             ┆ 48    ┆ 0.01       │\n",
       "│ 2             ┆ 34    ┆ 0.01       │\n",
       "│ 3             ┆ 21    ┆ 0.0        │\n",
       "│ 4             ┆ 14    ┆ 0.0        │\n",
       "│ …             ┆ …     ┆ …          │\n",
       "│ 36            ┆ 1     ┆ 0.0        │\n",
       "│ 117           ┆ 1     ┆ 0.0        │\n",
       "│ 71            ┆ 1     ┆ 0.0        │\n",
       "│ 17            ┆ 1     ┆ 0.0        │\n",
       "│ 32            ┆ 1     ┆ 0.0        │\n",
       "└───────────────┴───────┴────────────┘"
      ],
      "text/html": [
       "<div><style>\n",
       ".dataframe > thead > tr,\n",
       ".dataframe > tbody > tr {\n",
       "  text-align: right;\n",
       "  white-space: pre-wrap;\n",
       "}\n",
       "</style>\n",
       "<small>shape: (43, 3)</small><table border=\"1\" class=\"dataframe\"><thead><tr><th>ratings_count</th><th>count</th><th>proportion</th></tr><tr><td>i64</td><td>u32</td><td>f64</td></tr></thead><tbody><tr><td>null</td><td>4255</td><td>0.95</td></tr><tr><td>1</td><td>48</td><td>0.01</td></tr><tr><td>2</td><td>34</td><td>0.01</td></tr><tr><td>3</td><td>21</td><td>0.0</td></tr><tr><td>4</td><td>14</td><td>0.0</td></tr><tr><td>&hellip;</td><td>&hellip;</td><td>&hellip;</td></tr><tr><td>36</td><td>1</td><td>0.0</td></tr><tr><td>117</td><td>1</td><td>0.0</td></tr><tr><td>71</td><td>1</td><td>0.0</td></tr><tr><td>17</td><td>1</td><td>0.0</td></tr><tr><td>32</td><td>1</td><td>0.0</td></tr></tbody></table></div>"
      ]
     },
     "execution_count": 23,
     "metadata": {},
     "output_type": "execute_result"
    }
   ],
   "execution_count": 23
  },
  {
   "metadata": {},
   "cell_type": "markdown",
   "source": [
    "Observations:\n",
    "- **High Null Proportion**: Similarly to `rating`, 96% of entries lack a `ratings_count`, making it almost impossible to gauge customer engagement.\n",
    "- **Majority Single Reviews**: Most rated products have **1 to 6 reviews**, suggesting limited user feedback. A few products have significantly higher review counts (e.g., **1,533 reviews**), but these are rare."
   ],
   "id": "bfbbc534dcc533c4"
  },
  {
   "metadata": {},
   "cell_type": "markdown",
   "source": [
    "### Reformatting `rating`\n",
    "\n",
    "In this step, we transform the `rating` variable to variable `five_star_scale_rating` ( which, as its name implies, is a numerical variable ranging from 1-5; representing the product rating on a five-star scale) as well as clean its format (replacing spaces / decimal points with underscores) and assign the result to `rating_clean`."
   ],
   "id": "8eb5238f9f9a4e52"
  },
  {
   "metadata": {
    "ExecuteTime": {
     "end_time": "2025-04-04T01:26:24.640523Z",
     "start_time": "2025-04-04T01:26:24.636847Z"
    }
   },
   "cell_type": "code",
   "source": [
    "# Define the regex pattern for extracting numeric values (including decimals)\n",
    "rating_pattern = r'(\\d+(\\.\\d+)?)'  # Match whole numbers and decimal numbers (e.g., 4, 4.5)\n",
    "\n",
    "# Transforming the rating variable\n",
    "df = df.with_columns(\n",
    "    # Cleaning the rating column\n",
    "    pl.col('rating')\n",
    "    .str.replace_all(r' ', '_')  # Replace spaces with underscores\n",
    "    .str.replace_all(r'\\.', '_')  # Replace decimal point with underscore for values like 3.5\n",
    "    .cast(pl.Categorical)  # Casting to a categorical column\n",
    "    .alias('rating_clean'),\n",
    "    # Using the rating pattern to match numbers\n",
    "    pl.when(pl.col('rating').str.contains(rating_pattern))\n",
    "    # If matched, convert to a numerical variable (e.g., 4, 4.5)\n",
    "    .then(\n",
    "        pl.col('rating')\n",
    "        # Extract the numeric value, including decimals\n",
    "        .str.extract(rating_pattern)\n",
    "        # Cast to float to handle half-star ratings\n",
    "        .cast(pl.Float32)\n",
    "    )\n",
    "    # Set null for non-matching or missing values\n",
    "    .otherwise(pl.lit(None).cast(pl.Float32).shrink_dtype())\n",
    "    .alias('five_star_scale_rating_clean')\n",
    ")\n"
   ],
   "id": "f59212fc6e7668d",
   "outputs": [],
   "execution_count": 24
  },
  {
   "metadata": {},
   "cell_type": "markdown",
   "source": "Now, we inspect our newly created `rating_clean` & `five_star_scale_rating_clean` variables, and compare them to the original `rating` variable",
   "id": "981457de1ad0cb70"
  },
  {
   "metadata": {
    "ExecuteTime": {
     "end_time": "2025-04-04T01:26:24.882663Z",
     "start_time": "2025-04-04T01:26:24.877563Z"
    }
   },
   "cell_type": "code",
   "source": [
    "rating_columns = ('rating', 'rating_clean', 'five_star_scale_rating_clean')\n",
    "\n",
    "df.select(\n",
    "    rating_columns\n",
    ").unique(\n",
    "    subset=rating_columns,\n",
    ").sort(\n",
    "    by='five_star_scale_rating_clean',\n",
    "    descending=True,\n",
    ")"
   ],
   "id": "c51f3e293cbda44f",
   "outputs": [
    {
     "data": {
      "text/plain": [
       "shape: (8, 3)\n",
       "┌────────────────────┬────────────────────┬──────────────────────────────┐\n",
       "│ rating             ┆ rating_clean       ┆ five_star_scale_rating_clean │\n",
       "│ ---                ┆ ---                ┆ ---                          │\n",
       "│ str                ┆ cat                ┆ f32                          │\n",
       "╞════════════════════╪════════════════════╪══════════════════════════════╡\n",
       "│ null               ┆ null               ┆ null                         │\n",
       "│ 5 out of 5 stars   ┆ 5_out_of_5_stars   ┆ 5.0                          │\n",
       "│ 4.5 out of 5 stars ┆ 4_5_out_of_5_stars ┆ 4.5                          │\n",
       "│ 4 out of 5 stars   ┆ 4_out_of_5_stars   ┆ 4.0                          │\n",
       "│ 3.5 out of 5 stars ┆ 3_5_out_of_5_stars ┆ 3.5                          │\n",
       "│ 3 out of 5 stars   ┆ 3_out_of_5_stars   ┆ 3.0                          │\n",
       "│ 2 out of 5 stars   ┆ 2_out_of_5_stars   ┆ 2.0                          │\n",
       "│ 1 out of 5 stars   ┆ 1_out_of_5_stars   ┆ 1.0                          │\n",
       "└────────────────────┴────────────────────┴──────────────────────────────┘"
      ],
      "text/html": [
       "<div><style>\n",
       ".dataframe > thead > tr,\n",
       ".dataframe > tbody > tr {\n",
       "  text-align: right;\n",
       "  white-space: pre-wrap;\n",
       "}\n",
       "</style>\n",
       "<small>shape: (8, 3)</small><table border=\"1\" class=\"dataframe\"><thead><tr><th>rating</th><th>rating_clean</th><th>five_star_scale_rating_clean</th></tr><tr><td>str</td><td>cat</td><td>f32</td></tr></thead><tbody><tr><td>null</td><td>null</td><td>null</td></tr><tr><td>&quot;5 out of 5 stars&quot;</td><td>&quot;5_out_of_5_stars&quot;</td><td>5.0</td></tr><tr><td>&quot;4.5 out of 5 stars&quot;</td><td>&quot;4_5_out_of_5_stars&quot;</td><td>4.5</td></tr><tr><td>&quot;4 out of 5 stars&quot;</td><td>&quot;4_out_of_5_stars&quot;</td><td>4.0</td></tr><tr><td>&quot;3.5 out of 5 stars&quot;</td><td>&quot;3_5_out_of_5_stars&quot;</td><td>3.5</td></tr><tr><td>&quot;3 out of 5 stars&quot;</td><td>&quot;3_out_of_5_stars&quot;</td><td>3.0</td></tr><tr><td>&quot;2 out of 5 stars&quot;</td><td>&quot;2_out_of_5_stars&quot;</td><td>2.0</td></tr><tr><td>&quot;1 out of 5 stars&quot;</td><td>&quot;1_out_of_5_stars&quot;</td><td>1.0</td></tr></tbody></table></div>"
      ]
     },
     "execution_count": 25,
     "metadata": {},
     "output_type": "execute_result"
    }
   ],
   "execution_count": 25
  },
  {
   "metadata": {},
   "cell_type": "markdown",
   "source": "As evidenced, data was successfully reformatted (and assigned to `rating_clean`) as well as parsed to `Float` (and assigned to`five_star_scale_rating_clean`).",
   "id": "c6d73282d1c09430"
  },
  {
   "metadata": {},
   "cell_type": "markdown",
   "source": [
    "### Shrinking `ratings_count`\n",
    "\n",
    "The `ratings_count` column is correctly parsed as a numerical variable, but we can shrink it, as its range is very small (from `1` to `1533`), as we can see in the summary statistics below."
   ],
   "id": "41a8e4507b70c342"
  },
  {
   "metadata": {
    "ExecuteTime": {
     "end_time": "2025-04-04T01:26:25.212353Z",
     "start_time": "2025-04-04T01:26:25.207617Z"
    }
   },
   "cell_type": "code",
   "source": [
    "# Summary statistics the `ratings_count` variable\n",
    "df.select(\n",
    "    'ratings_count'\n",
    ").describe()"
   ],
   "id": "e0ebaacbdedcd2c7",
   "outputs": [
    {
     "data": {
      "text/plain": [
       "shape: (9, 2)\n",
       "┌────────────┬───────────────┐\n",
       "│ statistic  ┆ ratings_count │\n",
       "│ ---        ┆ ---           │\n",
       "│ str        ┆ f64           │\n",
       "╞════════════╪═══════════════╡\n",
       "│ count      ┆ 220.0         │\n",
       "│ null_count ┆ 4255.0        │\n",
       "│ mean       ┆ 36.613636     │\n",
       "│ std        ┆ 178.959476    │\n",
       "│ min        ┆ 1.0           │\n",
       "│ 25%        ┆ 2.0           │\n",
       "│ 50%        ┆ 4.0           │\n",
       "│ 75%        ┆ 16.0          │\n",
       "│ max        ┆ 1533.0        │\n",
       "└────────────┴───────────────┘"
      ],
      "text/html": [
       "<div><style>\n",
       ".dataframe > thead > tr,\n",
       ".dataframe > tbody > tr {\n",
       "  text-align: right;\n",
       "  white-space: pre-wrap;\n",
       "}\n",
       "</style>\n",
       "<small>shape: (9, 2)</small><table border=\"1\" class=\"dataframe\"><thead><tr><th>statistic</th><th>ratings_count</th></tr><tr><td>str</td><td>f64</td></tr></thead><tbody><tr><td>&quot;count&quot;</td><td>220.0</td></tr><tr><td>&quot;null_count&quot;</td><td>4255.0</td></tr><tr><td>&quot;mean&quot;</td><td>36.613636</td></tr><tr><td>&quot;std&quot;</td><td>178.959476</td></tr><tr><td>&quot;min&quot;</td><td>1.0</td></tr><tr><td>&quot;25%&quot;</td><td>2.0</td></tr><tr><td>&quot;50%&quot;</td><td>4.0</td></tr><tr><td>&quot;75%&quot;</td><td>16.0</td></tr><tr><td>&quot;max&quot;</td><td>1533.0</td></tr></tbody></table></div>"
      ]
     },
     "execution_count": 26,
     "metadata": {},
     "output_type": "execute_result"
    }
   ],
   "execution_count": 26
  },
  {
   "metadata": {
    "ExecuteTime": {
     "end_time": "2025-04-04T01:26:25.344388Z",
     "start_time": "2025-04-04T01:26:25.340974Z"
    }
   },
   "cell_type": "code",
   "source": [
    "# Shrinking the datatype for the `ratings_count` column\n",
    "df = df.with_columns(\n",
    "    pl.col('ratings_count')\n",
    "    .shrink_dtype()  # Shrink numeric columns to the minimal required datatype.\n",
    "    .alias('ratings_count_clean')\n",
    ")"
   ],
   "id": "3e1269844b4843a5",
   "outputs": [],
   "execution_count": 27
  },
  {
   "metadata": {},
   "cell_type": "markdown",
   "source": "Now, we can see the result of the shrinkage, which transformed the data type from `Int64` to `Int16`:",
   "id": "d4484b5d79516688"
  },
  {
   "metadata": {
    "ExecuteTime": {
     "end_time": "2025-04-04T01:26:25.569305Z",
     "start_time": "2025-04-04T01:26:25.565067Z"
    }
   },
   "cell_type": "code",
   "source": [
    "ratings_count_columns = ['ratings_count', 'ratings_count_clean']\n",
    "ratings_count_columns_dtypes = zip(\n",
    "    [f'{x}_dtype' for x in ratings_count_columns],\n",
    "    df.select(ratings_count_columns).dtypes,\n",
    ")\n",
    "\n",
    "dict(ratings_count_columns_dtypes)"
   ],
   "id": "7eeb4583c4cfef7",
   "outputs": [
    {
     "data": {
      "text/plain": [
       "{'ratings_count_dtype': Int64, 'ratings_count_clean_dtype': Int16}"
      ]
     },
     "execution_count": 28,
     "metadata": {},
     "output_type": "execute_result"
    }
   ],
   "execution_count": 28
  },
  {
   "metadata": {},
   "cell_type": "markdown",
   "source": [
    "## Cleaning `condition`\n",
    "\n",
    "By analyzing the `condition` variable, we realize it is composed of two separate items, label and description. It is important to create such columns within the dataset:\n",
    "- **`condition_label`**: A categorical label which represents the condition of a laptop (e.g: `new`, `used`, `certified_refurbished`)\n",
    "- **`condition_description`**: A description for the `condition_label` (e.g: `A brand-new, unused, unopened laptop...`)"
   ],
   "id": "30d007bd124d094d"
  },
  {
   "metadata": {
    "ExecuteTime": {
     "end_time": "2025-04-04T01:26:25.761246Z",
     "start_time": "2025-04-04T01:26:25.756051Z"
    }
   },
   "cell_type": "code",
   "source": [
    "# Taking a look at the values counts for the `condition` column\n",
    "value_counts_with_proportion(df['condition'])"
   ],
   "id": "ff1afa69a177b899",
   "outputs": [
    {
     "data": {
      "text/plain": [
       "shape: (18, 3)\n",
       "┌─────────────────────────────────┬───────┬────────────┐\n",
       "│ condition                       ┆ count ┆ proportion │\n",
       "│ ---                             ┆ ---   ┆ ---        │\n",
       "│ str                             ┆ u32   ┆ f64        │\n",
       "╞═════════════════════════════════╪═══════╪════════════╡\n",
       "│ Used: An item that has been us… ┆ 1340  ┆ 0.3        │\n",
       "│ New: A brand-new, unused, unop… ┆ 961   ┆ 0.21       │\n",
       "│ UsedAn item that has been used… ┆ 778   ┆ 0.17       │\n",
       "│ null                            ┆ 462   ┆ 0.1        │\n",
       "│ Seller refurbished: The item h… ┆ 397   ┆ 0.09       │\n",
       "│ …                               ┆ …     ┆ …          │\n",
       "│ Certified - RefurbishedThe ite… ┆ 27    ┆ 0.01       │\n",
       "│ Very Good - Refurbished: The i… ┆ 27    ┆ 0.01       │\n",
       "│ Open box: An item in excellent… ┆ 19    ┆ 0.0        │\n",
       "│ Certified - Refurbished: The i… ┆ 2     ┆ 0.0        │\n",
       "│ Seller refurbishedThe item has… ┆ 2     ┆ 0.0        │\n",
       "└─────────────────────────────────┴───────┴────────────┘"
      ],
      "text/html": [
       "<div><style>\n",
       ".dataframe > thead > tr,\n",
       ".dataframe > tbody > tr {\n",
       "  text-align: right;\n",
       "  white-space: pre-wrap;\n",
       "}\n",
       "</style>\n",
       "<small>shape: (18, 3)</small><table border=\"1\" class=\"dataframe\"><thead><tr><th>condition</th><th>count</th><th>proportion</th></tr><tr><td>str</td><td>u32</td><td>f64</td></tr></thead><tbody><tr><td>&quot;Used: An item that has been us…</td><td>1340</td><td>0.3</td></tr><tr><td>&quot;New: A brand-new, unused, unop…</td><td>961</td><td>0.21</td></tr><tr><td>&quot;UsedAn item that has been used…</td><td>778</td><td>0.17</td></tr><tr><td>null</td><td>462</td><td>0.1</td></tr><tr><td>&quot;Seller refurbished: The item h…</td><td>397</td><td>0.09</td></tr><tr><td>&hellip;</td><td>&hellip;</td><td>&hellip;</td></tr><tr><td>&quot;Certified - RefurbishedThe ite…</td><td>27</td><td>0.01</td></tr><tr><td>&quot;Very Good - Refurbished: The i…</td><td>27</td><td>0.01</td></tr><tr><td>&quot;Open box: An item in excellent…</td><td>19</td><td>0.0</td></tr><tr><td>&quot;Certified - Refurbished: The i…</td><td>2</td><td>0.0</td></tr><tr><td>&quot;Seller refurbishedThe item has…</td><td>2</td><td>0.0</td></tr></tbody></table></div>"
      ]
     },
     "execution_count": 29,
     "metadata": {},
     "output_type": "execute_result"
    }
   ],
   "execution_count": 29
  },
  {
   "metadata": {},
   "cell_type": "markdown",
   "source": [
    "Observations:\n",
    "- **Similar categories**: Labels `UsedAn item that has been used previously` and `Used: An item that has been used previously` seem to contain duplicate or nearly identical information but are represented differently. Similar things occur for other labels, such as `For parts or not working`. These discrepancies may need to be cleaned and consolidated into one label.\n",
    "- **Bad formatting**: A considerable amount of labels show formatting issues (e.g., \"UsedAn item...\") or seem to be concatenated with additional descriptions. This would require text processing to standardize the condition labels and improve consistency."
   ],
   "id": "9d4e7baca6557c66"
  },
  {
   "metadata": {
    "ExecuteTime": {
     "end_time": "2025-04-04T01:26:25.863406Z",
     "start_time": "2025-04-04T01:26:25.859545Z"
    }
   },
   "cell_type": "code",
   "source": [
    "# Creating a dictionary which represents the condition labels and descriptions\n",
    "\n",
    "def fetch_default_condition_replace_map() -> dict[str, str]:\n",
    "    \"\"\"\n",
    "    Retrieves the default mapping of condition labels to their corresponding descriptions.\n",
    "\n",
    "    This function returns a dictionary where the keys represent the condition labels (e.g., \"New\", \"Used\",\n",
    "    \"Certified - Refurbished\") and the values are detailed descriptions of those conditions, typically used\n",
    "    for categorizing product status in e-commerce platforms or inventory systems.\n",
    "\n",
    "    The conditions cover a range from brand-new items to those intended for parts or not working.\n",
    "\n",
    "    Returns:\n",
    "        dict[str, str]: A dictionary containing condition labels as keys and their corresponding descriptions as values.\n",
    "\n",
    "    Example:\n",
    "        >>> condition_map = fetch_default_condition_replace_map()\n",
    "        >>> condition_map['New']\n",
    "        'A brand-new, unused, unopened, undamaged item in its original packaging...'\n",
    "\n",
    "    Notes:\n",
    "        - The returned dictionary includes a variety of common product conditions, such as 'New', 'Open box',\n",
    "          'Certified - Refurbished', 'Used', and 'For parts or not working'.\n",
    "        - The descriptions are intended to give a clear understanding of what each condition entails, especially\n",
    "          for product listings or descriptions.\n",
    "        - The dictionary is static and predefined, providing a standard set of condition descriptions for use\n",
    "          across the system.\n",
    "    \"\"\"\n",
    "    return {\n",
    "        'New': \"\"\"A brand-new, unused, unopened, undamaged item in its original packaging.\n",
    "    Packaging should be the same as what is found in a retail store, unless the item is handmade or was packaged by the manufacturer in non-retail packaging, such as an unprinted box or plastic bag.\"\"\",\n",
    "\n",
    "        'Open box': \"\"\"An item in excellent, new condition with no wear.\n",
    "    The item may be missing the original packaging or protective wrapping, or may be in the original packaging but not sealed.\n",
    "    The item includes original accessories and may be a factory second.\"\"\",\n",
    "\n",
    "        'Certified - Refurbished': \"\"\"The item is in pristine, like-new condition.\n",
    "    It has been professionally inspected, cleaned, and refurbished by the manufacturer or a manufacturer-approved vendor to meet manufacturer specifications.\n",
    "    The item will be in new packaging with original or new accessories.\"\"\",\n",
    "\n",
    "        'Excellent - Refurbished': \"\"\"The item is in like-new condition, backed by a one-year warranty.\n",
    "    It has been professionally refurbished, inspected, and cleaned to excellent condition by qualified sellers.\n",
    "    The item includes original or new accessories and will come in new generic packaging.\"\"\",\n",
    "\n",
    "        'Very Good - Refurbished': \"\"\"The item shows minimal wear and is backed by a one-year warranty.\n",
    "    It is fully functional and has been professionally refurbished, inspected, and cleaned to very good condition by qualified sellers.\n",
    "    The item includes original or new accessories and will come in new generic packaging.\"\"\",\n",
    "\n",
    "        'Good - Refurbished': \"\"\"The item shows moderate wear and is backed by a one-year warranty.\n",
    "    It is fully functional and has been professionally refurbished, inspected, and cleaned to good condition by qualified sellers.\n",
    "    The item includes original or new accessories and will come in a new generic packaging.\"\"\",\n",
    "\n",
    "        'Seller refurbished': \"\"\"The item has been restored to working order by the eBay seller or a third party.\n",
    "    This means the item was inspected, cleaned, and repaired to full working order and is in excellent condition.\n",
    "    This item may or may not be in original packaging.\"\"\",\n",
    "\n",
    "        'Used': \"\"\"An item that has been used previously.\n",
    "    The item may have some signs of cosmetic wear but is fully operational and functions as intended.\n",
    "    This item may be a floor model or store return that has been used.\"\"\",\n",
    "\n",
    "        'For parts or not working': \"\"\"An item that does not function as intended and is not fully operational.\n",
    "    This includes items that are defective in ways that render them difficult to use, items that require service or repair, or items missing essential components.\"\"\",\n",
    "\n",
    "        'No label': 'No description',\n",
    "    }"
   ],
   "id": "5450c5320a6a1d66",
   "outputs": [],
   "execution_count": 30
  },
  {
   "metadata": {
    "ExecuteTime": {
     "end_time": "2025-04-04T01:26:25.993242Z",
     "start_time": "2025-04-04T01:26:25.989918Z"
    }
   },
   "cell_type": "code",
   "source": [
    "# Creating a function to map condition values to a condition dictionary, which represents labels (e.g: `New`) as keys and description as values (e.g: `A brand-new, unused item...`).\n",
    "def map_condition(value: str, condition_dict: dict[str, str] = None) -> tuple[str, str]:\n",
    "    \"\"\"\n",
    "    Maps a given condition string to a predefined label and its corresponding description.\n",
    "\n",
    "    Args:\n",
    "        value (str): The condition value to be matched.\n",
    "        condition_dict (dict, optional): A dictionary where keys are condition labels and\n",
    "                                         values are descriptions. Defaults to `condition_replace_map`.\n",
    "\n",
    "    Returns:\n",
    "        tuple: A tuple containing the matched label (str) and its corresponding description (str).\n",
    "               If no match is found, returns ('No label', 'No description').\n",
    "\n",
    "    Example:\n",
    "        >>> map_condition(\"Excellent - Refurbished device\")\n",
    "        ('Excellent - Refurbished', 'The item is in like-new condition, backed by a one-year warranty. ...')\n",
    "\n",
    "        >>> map_condition(\"Unknown condition\")\n",
    "        ('No label', 'No description')\n",
    "    \"\"\"\n",
    "    if condition_dict is None:\n",
    "        condition_dict = fetch_default_condition_replace_map()\n",
    "\n",
    "    if isinstance(value, str):\n",
    "        for label, description in condition_dict.items():\n",
    "            if label in value:\n",
    "                return label, description\n",
    "    return 'No label', 'No description'\n"
   ],
   "id": "c603b651f08f4755",
   "outputs": [],
   "execution_count": 31
  },
  {
   "metadata": {},
   "cell_type": "markdown",
   "source": [
    "### Separating condition label and condition description\n",
    "\n",
    "- **Splitting data**: We assign values from the `condition` column (like `New`, `Used`, or `Refurbished`) to a standardized label and description. This ensures that any variation in wording across the data is unified, so we can easily categorize and compare items.\n",
    "  - For example, if we have a condition like `Excellent - Refurbished`, it gets split into two parts: a **label** (`Excellent - Refurbished`) and a **description** that explains the condition in more detail (e.g: The item is in like-new condition, backed by a one-year warranty...).\n",
    "- **Mapping conditions**: Repeated labels with different formats, such as `UsedAn item that has been used previously` and `Used: An item that has been used previously` are mapped to a single `condition_label` (`'Used'`) which helps us achieve a better label representation by getting rid of different categories that represent the same status (`Used`, `New`, etc.).\n"
   ],
   "id": "d20914d0c5ccd8d0"
  },
  {
   "metadata": {
    "ExecuteTime": {
     "end_time": "2025-04-04T01:26:26.174183Z",
     "start_time": "2025-04-04T01:26:26.107987Z"
    }
   },
   "cell_type": "code",
   "source": [
    "# Transforming the dataframe, creating the `condition_label` and `condition_description` variables\n",
    "df_lazy_conditions = df.lazy().with_columns(\n",
    "    pl.col('condition')\n",
    "    # Applying the `map_condition` function, which maps a string to a predefined label and its corresponding description\n",
    "    .map_elements(\n",
    "        function=map_condition,\n",
    "        skip_nulls=False,\n",
    "        return_dtype=pl.List(pl.Utf8)\n",
    "    ).alias('new_condition')  # Creating a temporary column to store results\n",
    ").with_columns(\n",
    "    pl.col('new_condition').list.get(0).alias('condition_label_clean'),  # Extract label\n",
    "    pl.col('new_condition').list.get(1).alias('condition_description_clean')  # Extract description\n",
    ").drop('new_condition')  # Dropping the temporary column\n",
    "\n",
    "# Visualize the query plan for the transformation\n",
    "LazyFrame.show_graph(df_lazy_conditions)"
   ],
   "id": "98415a91dccc5ed",
   "outputs": [
    {
     "data": {
      "text/plain": [
       "<IPython.core.display.SVG object>"
      ],
      "image/svg+xml": "<svg xmlns=\"http://www.w3.org/2000/svg\" xmlns:xlink=\"http://www.w3.org/1999/xlink\" width=\"980pt\" height=\"270pt\" viewBox=\"0.00 0.00 979.50 270.00\">\n<g id=\"graph0\" class=\"graph\" transform=\"scale(1 1) rotate(0) translate(4 266)\">\n<title>polars_query</title>\n<polygon fill=\"white\" stroke=\"none\" points=\"-4,4 -4,-266 975.5,-266 975.5,4 -4,4\"/>\n<!-- p1 -->\n<g id=\"node1\" class=\"node\">\n<title>p1</title>\n<polygon fill=\"none\" stroke=\"black\" points=\"627.25,-262 344.25,-262 344.25,-221 627.25,-221 627.25,-262\"/>\n<text text-anchor=\"middle\" x=\"485.75\" y=\"-244.7\" font-family=\"Times,serif\" font-size=\"14.00\">simple π 31/32</text>\n<text text-anchor=\"middle\" x=\"485.75\" y=\"-228.2\" font-family=\"Times,serif\" font-size=\"14.00\">[&quot;brand&quot;, &quot;price&quot;, &quot;rating&quot;, ... 28 other columns]</text>\n</g>\n<!-- p2 -->\n<g id=\"node2\" class=\"node\">\n<title>p2</title>\n<polygon fill=\"none\" stroke=\"black\" points=\"971.5,-185 0,-185 0,-149 971.5,-149 971.5,-185\"/>\n<text text-anchor=\"middle\" x=\"485.75\" y=\"-161.95\" font-family=\"Times,serif\" font-size=\"14.00\">WITH COLUMNS [col(&quot;new_condition&quot;).list.get([dyn int: 0]).alias(&quot;condition_label_clean&quot;), col(&quot;new_condition&quot;).list.get([dyn int: 1]).alias(&quot;condition_description_clean&quot;)]</text>\n</g>\n<!-- p1&#45;&#45;p2 -->\n<g id=\"edge1\" class=\"edge\">\n<title>p1--p2</title>\n<path fill=\"none\" stroke=\"black\" d=\"M485.75,-220.69C485.75,-209.62 485.75,-195.96 485.75,-185.32\"/>\n</g>\n<!-- p3 -->\n<g id=\"node3\" class=\"node\">\n<title>p3</title>\n<polygon fill=\"none\" stroke=\"black\" points=\"692.5,-113 279,-113 279,-77 692.5,-77 692.5,-113\"/>\n<text text-anchor=\"middle\" x=\"485.75\" y=\"-89.95\" font-family=\"Times,serif\" font-size=\"14.00\">WITH COLUMNS [col(&quot;condition&quot;).map_list().alias(&quot;new_condition&quot;)]</text>\n</g>\n<!-- p2&#45;&#45;p3 -->\n<g id=\"edge2\" class=\"edge\">\n<title>p2--p3</title>\n<path fill=\"none\" stroke=\"black\" d=\"M485.75,-148.7C485.75,-137.85 485.75,-123.92 485.75,-113.1\"/>\n</g>\n<!-- p4 -->\n<g id=\"node4\" class=\"node\">\n<title>p4</title>\n<polygon fill=\"none\" stroke=\"black\" points=\"515.5,-41 456,-41 456,0 515.5,0 515.5,-41\"/>\n<text text-anchor=\"middle\" x=\"485.75\" y=\"-23.7\" font-family=\"Times,serif\" font-size=\"14.00\">TABLE</text>\n<text text-anchor=\"middle\" x=\"485.75\" y=\"-7.2\" font-family=\"Times,serif\" font-size=\"14.00\">π 29/29</text>\n</g>\n<!-- p3&#45;&#45;p4 -->\n<g id=\"edge3\" class=\"edge\">\n<title>p3--p4</title>\n<path fill=\"none\" stroke=\"black\" d=\"M485.75,-76.82C485.75,-66.18 485.75,-52.49 485.75,-41.38\"/>\n</g>\n</g>\n</svg>"
     },
     "metadata": {},
     "output_type": "display_data"
    }
   ],
   "execution_count": 32
  },
  {
   "metadata": {},
   "cell_type": "markdown",
   "source": "Here we take a look at the values from our `condition` column, and their correspondent **condition labels** and **condition descriptions**.",
   "id": "eca76f03d4969580"
  },
  {
   "metadata": {
    "ExecuteTime": {
     "end_time": "2025-04-04T01:26:26.268934Z",
     "start_time": "2025-04-04T01:26:26.187057Z"
    }
   },
   "cell_type": "code",
   "source": [
    "# Selecting all unique values for condition, and their soon-to-be assigned condition labels and condition descriptions\n",
    "df_lazy_conditions.unique(\n",
    "    subset='condition',\n",
    "    maintain_order=True,\n",
    ").sort(\n",
    "    by='condition',\n",
    "    descending=False,\n",
    ").select(\n",
    "    'condition', 'condition_label_clean', 'condition_description_clean'\n",
    ").collect().to_pandas()"
   ],
   "id": "d8dbd960cde1c464",
   "outputs": [
    {
     "data": {
      "text/plain": [
       "                                            condition  \\\n",
       "0                                                None   \n",
       "1   Certified - Refurbished: The item is in pristi...   \n",
       "2   Certified - RefurbishedThe item is in pristine...   \n",
       "3   Excellent - Refurbished: The item is in like-n...   \n",
       "4   Excellent - RefurbishedThe item is in like-new...   \n",
       "5   For parts or not working: An item that does no...   \n",
       "6   For parts or not workingAn item that does not ...   \n",
       "7   Good - Refurbished: The item shows moderate we...   \n",
       "8   Good - RefurbishedThe item shows moderate wear...   \n",
       "9   New: A brand-new, unused, unopened, undamaged ...   \n",
       "10  Open box: An item in excellent, new condition ...   \n",
       "11  Open boxAn item in excellent, new condition wi...   \n",
       "12  Seller refurbished: The item has been restored...   \n",
       "13  Seller refurbishedThe item has been restored t...   \n",
       "14  Used: An item that has been used previously. T...   \n",
       "15  UsedAn item that has been used previously. The...   \n",
       "16  Very Good - Refurbished: The item shows minima...   \n",
       "17  Very Good - RefurbishedThe item shows minimal ...   \n",
       "\n",
       "       condition_label_clean  \\\n",
       "0                   No label   \n",
       "1    Certified - Refurbished   \n",
       "2    Certified - Refurbished   \n",
       "3    Excellent - Refurbished   \n",
       "4    Excellent - Refurbished   \n",
       "5   For parts or not working   \n",
       "6   For parts or not working   \n",
       "7         Good - Refurbished   \n",
       "8         Good - Refurbished   \n",
       "9                        New   \n",
       "10                  Open box   \n",
       "11                  Open box   \n",
       "12        Seller refurbished   \n",
       "13        Seller refurbished   \n",
       "14                      Used   \n",
       "15                      Used   \n",
       "16   Very Good - Refurbished   \n",
       "17   Very Good - Refurbished   \n",
       "\n",
       "                          condition_description_clean  \n",
       "0                                      No description  \n",
       "1   The item is in pristine, like-new condition.\\n...  \n",
       "2   The item is in pristine, like-new condition.\\n...  \n",
       "3   The item is in like-new condition, backed by a...  \n",
       "4   The item is in like-new condition, backed by a...  \n",
       "5   An item that does not function as intended and...  \n",
       "6   An item that does not function as intended and...  \n",
       "7   The item shows moderate wear and is backed by ...  \n",
       "8   The item shows moderate wear and is backed by ...  \n",
       "9   A brand-new, unused, unopened, undamaged item ...  \n",
       "10  An item in excellent, new condition with no we...  \n",
       "11  An item in excellent, new condition with no we...  \n",
       "12  The item has been restored to working order by...  \n",
       "13  The item has been restored to working order by...  \n",
       "14  An item that has been used previously.\\n    Th...  \n",
       "15  An item that has been used previously.\\n    Th...  \n",
       "16  The item shows minimal wear and is backed by a...  \n",
       "17  The item shows minimal wear and is backed by a...  "
      ],
      "text/html": [
       "<div>\n",
       "<style scoped>\n",
       "    .dataframe tbody tr th:only-of-type {\n",
       "        vertical-align: middle;\n",
       "    }\n",
       "\n",
       "    .dataframe tbody tr th {\n",
       "        vertical-align: top;\n",
       "    }\n",
       "\n",
       "    .dataframe thead th {\n",
       "        text-align: right;\n",
       "    }\n",
       "</style>\n",
       "<table border=\"1\" class=\"dataframe\">\n",
       "  <thead>\n",
       "    <tr style=\"text-align: right;\">\n",
       "      <th></th>\n",
       "      <th>condition</th>\n",
       "      <th>condition_label_clean</th>\n",
       "      <th>condition_description_clean</th>\n",
       "    </tr>\n",
       "  </thead>\n",
       "  <tbody>\n",
       "    <tr>\n",
       "      <th>0</th>\n",
       "      <td>None</td>\n",
       "      <td>No label</td>\n",
       "      <td>No description</td>\n",
       "    </tr>\n",
       "    <tr>\n",
       "      <th>1</th>\n",
       "      <td>Certified - Refurbished: The item is in pristi...</td>\n",
       "      <td>Certified - Refurbished</td>\n",
       "      <td>The item is in pristine, like-new condition.\\n...</td>\n",
       "    </tr>\n",
       "    <tr>\n",
       "      <th>2</th>\n",
       "      <td>Certified - RefurbishedThe item is in pristine...</td>\n",
       "      <td>Certified - Refurbished</td>\n",
       "      <td>The item is in pristine, like-new condition.\\n...</td>\n",
       "    </tr>\n",
       "    <tr>\n",
       "      <th>3</th>\n",
       "      <td>Excellent - Refurbished: The item is in like-n...</td>\n",
       "      <td>Excellent - Refurbished</td>\n",
       "      <td>The item is in like-new condition, backed by a...</td>\n",
       "    </tr>\n",
       "    <tr>\n",
       "      <th>4</th>\n",
       "      <td>Excellent - RefurbishedThe item is in like-new...</td>\n",
       "      <td>Excellent - Refurbished</td>\n",
       "      <td>The item is in like-new condition, backed by a...</td>\n",
       "    </tr>\n",
       "    <tr>\n",
       "      <th>5</th>\n",
       "      <td>For parts or not working: An item that does no...</td>\n",
       "      <td>For parts or not working</td>\n",
       "      <td>An item that does not function as intended and...</td>\n",
       "    </tr>\n",
       "    <tr>\n",
       "      <th>6</th>\n",
       "      <td>For parts or not workingAn item that does not ...</td>\n",
       "      <td>For parts or not working</td>\n",
       "      <td>An item that does not function as intended and...</td>\n",
       "    </tr>\n",
       "    <tr>\n",
       "      <th>7</th>\n",
       "      <td>Good - Refurbished: The item shows moderate we...</td>\n",
       "      <td>Good - Refurbished</td>\n",
       "      <td>The item shows moderate wear and is backed by ...</td>\n",
       "    </tr>\n",
       "    <tr>\n",
       "      <th>8</th>\n",
       "      <td>Good - RefurbishedThe item shows moderate wear...</td>\n",
       "      <td>Good - Refurbished</td>\n",
       "      <td>The item shows moderate wear and is backed by ...</td>\n",
       "    </tr>\n",
       "    <tr>\n",
       "      <th>9</th>\n",
       "      <td>New: A brand-new, unused, unopened, undamaged ...</td>\n",
       "      <td>New</td>\n",
       "      <td>A brand-new, unused, unopened, undamaged item ...</td>\n",
       "    </tr>\n",
       "    <tr>\n",
       "      <th>10</th>\n",
       "      <td>Open box: An item in excellent, new condition ...</td>\n",
       "      <td>Open box</td>\n",
       "      <td>An item in excellent, new condition with no we...</td>\n",
       "    </tr>\n",
       "    <tr>\n",
       "      <th>11</th>\n",
       "      <td>Open boxAn item in excellent, new condition wi...</td>\n",
       "      <td>Open box</td>\n",
       "      <td>An item in excellent, new condition with no we...</td>\n",
       "    </tr>\n",
       "    <tr>\n",
       "      <th>12</th>\n",
       "      <td>Seller refurbished: The item has been restored...</td>\n",
       "      <td>Seller refurbished</td>\n",
       "      <td>The item has been restored to working order by...</td>\n",
       "    </tr>\n",
       "    <tr>\n",
       "      <th>13</th>\n",
       "      <td>Seller refurbishedThe item has been restored t...</td>\n",
       "      <td>Seller refurbished</td>\n",
       "      <td>The item has been restored to working order by...</td>\n",
       "    </tr>\n",
       "    <tr>\n",
       "      <th>14</th>\n",
       "      <td>Used: An item that has been used previously. T...</td>\n",
       "      <td>Used</td>\n",
       "      <td>An item that has been used previously.\\n    Th...</td>\n",
       "    </tr>\n",
       "    <tr>\n",
       "      <th>15</th>\n",
       "      <td>UsedAn item that has been used previously. The...</td>\n",
       "      <td>Used</td>\n",
       "      <td>An item that has been used previously.\\n    Th...</td>\n",
       "    </tr>\n",
       "    <tr>\n",
       "      <th>16</th>\n",
       "      <td>Very Good - Refurbished: The item shows minima...</td>\n",
       "      <td>Very Good - Refurbished</td>\n",
       "      <td>The item shows minimal wear and is backed by a...</td>\n",
       "    </tr>\n",
       "    <tr>\n",
       "      <th>17</th>\n",
       "      <td>Very Good - RefurbishedThe item shows minimal ...</td>\n",
       "      <td>Very Good - Refurbished</td>\n",
       "      <td>The item shows minimal wear and is backed by a...</td>\n",
       "    </tr>\n",
       "  </tbody>\n",
       "</table>\n",
       "</div>"
      ]
     },
     "execution_count": 33,
     "metadata": {},
     "output_type": "execute_result"
    }
   ],
   "execution_count": 33
  },
  {
   "metadata": {},
   "cell_type": "markdown",
   "source": [
    "### **Reformatting `condition`:**\n",
    "\n",
    "After splitting our `condition` column into `condition_label` and `condition_description`, we will further clean the `condition_label` column by doing the following string operations:\n",
    "- **Lowercasing:** Modifying all strings to their lowercase equivalent.\n",
    "- **Standardizing format:** Replacing occurrences hyphens and whitespaces with an underscore (`_`), making the labels more consistent and clean.\n"
   ],
   "id": "9cc0fd6c430aa0ff"
  },
  {
   "metadata": {
    "ExecuteTime": {
     "end_time": "2025-04-04T01:26:26.285044Z",
     "start_time": "2025-04-04T01:26:26.282193Z"
    }
   },
   "cell_type": "code",
   "source": [
    "def list_reversed(values: Reversible) -> list:\n",
    "    \"\"\"\n",
    "    Reverses the order of the elements in a reversible iterable and returns a list.\n",
    "\n",
    "    Args:\n",
    "        values (Reversible): A reversible iterable (e.g., list, tuple, dict_keys) to be reversed.\n",
    "\n",
    "    Returns:\n",
    "        list: A list containing the elements of the iterable in reversed order.\n",
    "\n",
    "    Example:\n",
    "        >>> list_reversed([1, 2, 3])\n",
    "        [3, 2, 1]\n",
    "\n",
    "        >>> list_reversed('abc')\n",
    "        ['c', 'b', 'a']\n",
    "    \"\"\"\n",
    "    return list(reversed(values))"
   ],
   "id": "f7baf035ec40bb15",
   "outputs": [],
   "execution_count": 34
  },
  {
   "metadata": {
    "ExecuteTime": {
     "end_time": "2025-04-04T01:26:26.400589Z",
     "start_time": "2025-04-04T01:26:26.332947Z"
    }
   },
   "cell_type": "code",
   "source": [
    "condition_labels = [x.lower().replace(' - ', '_').replace(' ', '_') for x in fetch_default_condition_replace_map().keys()]\n",
    "condition_descriptions = fetch_default_condition_replace_map().values()\n",
    "\n",
    "# Reformatting `condition_label_clean` and `condition_description_clean`: replacing blank spaces for underscores and lowercasing\n",
    "df = df_lazy_conditions.with_columns(\n",
    "    pl.col('condition_label_clean')\n",
    "    .str.to_lowercase()  # Converting the text to lowercase\n",
    "    .str.replace_all(' - ', '_')  # Replacing hyphen and spaces between words with underscores\n",
    "    .str.replace_all(' ', '_')  # Replacing spaces with underscores\n",
    "    .cast(pl.Enum(list_reversed(condition_labels))) # Casting to enum data type\n",
    "    .alias('condition_label_clean'),\n",
    "    pl.col('condition_description_clean')\n",
    "    .cast(pl.Enum(list_reversed(condition_descriptions))) # Casting to enum data type\n",
    ").collect()  # Materializing the LazyFrame into a DataFrame\n",
    "\n",
    "# Selecting all unique values for condition, and their respective reformatted condition labels (condition description is not modified, so it is omitted from this lookup)\n",
    "df.unique(\n",
    "    subset='condition',\n",
    "    maintain_order=True,\n",
    ").sort(\n",
    "    by='condition',\n",
    "    descending=False,\n",
    ").select(\n",
    "    ['condition', 'condition_label_clean']\n",
    ")\n"
   ],
   "id": "f1efe5d8e3a91de0",
   "outputs": [
    {
     "data": {
      "text/plain": [
       "shape: (18, 2)\n",
       "┌─────────────────────────────────┬───────────────────────┐\n",
       "│ condition                       ┆ condition_label_clean │\n",
       "│ ---                             ┆ ---                   │\n",
       "│ str                             ┆ enum                  │\n",
       "╞═════════════════════════════════╪═══════════════════════╡\n",
       "│ null                            ┆ no_label              │\n",
       "│ Certified - Refurbished: The i… ┆ certified_refurbished │\n",
       "│ Certified - RefurbishedThe ite… ┆ certified_refurbished │\n",
       "│ Excellent - Refurbished: The i… ┆ excellent_refurbished │\n",
       "│ Excellent - RefurbishedThe ite… ┆ excellent_refurbished │\n",
       "│ …                               ┆ …                     │\n",
       "│ Seller refurbishedThe item has… ┆ seller_refurbished    │\n",
       "│ Used: An item that has been us… ┆ used                  │\n",
       "│ UsedAn item that has been used… ┆ used                  │\n",
       "│ Very Good - Refurbished: The i… ┆ very_good_refurbished │\n",
       "│ Very Good - RefurbishedThe ite… ┆ very_good_refurbished │\n",
       "└─────────────────────────────────┴───────────────────────┘"
      ],
      "text/html": [
       "<div><style>\n",
       ".dataframe > thead > tr,\n",
       ".dataframe > tbody > tr {\n",
       "  text-align: right;\n",
       "  white-space: pre-wrap;\n",
       "}\n",
       "</style>\n",
       "<small>shape: (18, 2)</small><table border=\"1\" class=\"dataframe\"><thead><tr><th>condition</th><th>condition_label_clean</th></tr><tr><td>str</td><td>enum</td></tr></thead><tbody><tr><td>null</td><td>&quot;no_label&quot;</td></tr><tr><td>&quot;Certified - Refurbished: The i…</td><td>&quot;certified_refurbished&quot;</td></tr><tr><td>&quot;Certified - RefurbishedThe ite…</td><td>&quot;certified_refurbished&quot;</td></tr><tr><td>&quot;Excellent - Refurbished: The i…</td><td>&quot;excellent_refurbished&quot;</td></tr><tr><td>&quot;Excellent - RefurbishedThe ite…</td><td>&quot;excellent_refurbished&quot;</td></tr><tr><td>&hellip;</td><td>&hellip;</td></tr><tr><td>&quot;Seller refurbishedThe item has…</td><td>&quot;seller_refurbished&quot;</td></tr><tr><td>&quot;Used: An item that has been us…</td><td>&quot;used&quot;</td></tr><tr><td>&quot;UsedAn item that has been used…</td><td>&quot;used&quot;</td></tr><tr><td>&quot;Very Good - Refurbished: The i…</td><td>&quot;very_good_refurbished&quot;</td></tr><tr><td>&quot;Very Good - RefurbishedThe ite…</td><td>&quot;very_good_refurbished&quot;</td></tr></tbody></table></div>"
      ]
     },
     "execution_count": 35,
     "metadata": {},
     "output_type": "execute_result"
    }
   ],
   "execution_count": 35
  },
  {
   "metadata": {},
   "cell_type": "markdown",
   "source": "Finally, we take a look at the new `condition_label` variable and its value counts:",
   "id": "75f560aea4cdd164"
  },
  {
   "metadata": {
    "ExecuteTime": {
     "end_time": "2025-04-04T01:26:26.458469Z",
     "start_time": "2025-04-04T01:26:26.453797Z"
    }
   },
   "cell_type": "code",
   "source": [
    "# Taking a look at the values counts for the `condition_label_clean` column\n",
    "value_counts_with_proportion(df['condition_label_clean'])"
   ],
   "id": "820c89d4ada2b368",
   "outputs": [
    {
     "data": {
      "text/plain": [
       "shape: (10, 3)\n",
       "┌──────────────────────────┬───────┬────────────┐\n",
       "│ condition_label_clean    ┆ count ┆ proportion │\n",
       "│ ---                      ┆ ---   ┆ ---        │\n",
       "│ enum                     ┆ u32   ┆ f64        │\n",
       "╞══════════════════════════╪═══════╪════════════╡\n",
       "│ used                     ┆ 2118  ┆ 0.47       │\n",
       "│ new                      ┆ 961   ┆ 0.21       │\n",
       "│ no_label                 ┆ 462   ┆ 0.1        │\n",
       "│ seller_refurbished       ┆ 399   ┆ 0.09       │\n",
       "│ for_parts_or_not_working ┆ 122   ┆ 0.03       │\n",
       "│ very_good_refurbished    ┆ 119   ┆ 0.03       │\n",
       "│ good_refurbished         ┆ 105   ┆ 0.02       │\n",
       "│ excellent_refurbished    ┆ 84    ┆ 0.02       │\n",
       "│ open_box                 ┆ 76    ┆ 0.02       │\n",
       "│ certified_refurbished    ┆ 29    ┆ 0.01       │\n",
       "└──────────────────────────┴───────┴────────────┘"
      ],
      "text/html": [
       "<div><style>\n",
       ".dataframe > thead > tr,\n",
       ".dataframe > tbody > tr {\n",
       "  text-align: right;\n",
       "  white-space: pre-wrap;\n",
       "}\n",
       "</style>\n",
       "<small>shape: (10, 3)</small><table border=\"1\" class=\"dataframe\"><thead><tr><th>condition_label_clean</th><th>count</th><th>proportion</th></tr><tr><td>enum</td><td>u32</td><td>f64</td></tr></thead><tbody><tr><td>&quot;used&quot;</td><td>2118</td><td>0.47</td></tr><tr><td>&quot;new&quot;</td><td>961</td><td>0.21</td></tr><tr><td>&quot;no_label&quot;</td><td>462</td><td>0.1</td></tr><tr><td>&quot;seller_refurbished&quot;</td><td>399</td><td>0.09</td></tr><tr><td>&quot;for_parts_or_not_working&quot;</td><td>122</td><td>0.03</td></tr><tr><td>&quot;very_good_refurbished&quot;</td><td>119</td><td>0.03</td></tr><tr><td>&quot;good_refurbished&quot;</td><td>105</td><td>0.02</td></tr><tr><td>&quot;excellent_refurbished&quot;</td><td>84</td><td>0.02</td></tr><tr><td>&quot;open_box&quot;</td><td>76</td><td>0.02</td></tr><tr><td>&quot;certified_refurbished&quot;</td><td>29</td><td>0.01</td></tr></tbody></table></div>"
      ]
     },
     "execution_count": 36,
     "metadata": {},
     "output_type": "execute_result"
    }
   ],
   "execution_count": 36
  },
  {
   "metadata": {},
   "cell_type": "markdown",
   "source": [
    "Observations:\n",
    "- **New label frequencies**: After cleansing, the most common conditions are `used` (42%) and `new` (29%), which account for the majority of the dataset (71%).\n",
    "- **Lower cardinality**: We have a considerably minor number of unique values within our `condition_label` variable (**just 10 unique values**), than we did with `condition`, due to the proper cleansing of the data."
   ],
   "id": "2bb52464c5f61e43"
  },
  {
   "metadata": {},
   "cell_type": "markdown",
   "source": "## Cleaning `seller_note`",
   "id": "adece18650595189"
  },
  {
   "metadata": {
    "ExecuteTime": {
     "end_time": "2025-04-04T01:26:26.663889Z",
     "start_time": "2025-04-04T01:26:26.654362Z"
    }
   },
   "cell_type": "code",
   "source": "value_counts_with_proportion(series=df['seller_note'], convert_to_pandas=True)",
   "id": "aa0a1a4bc2cce546",
   "outputs": [
    {
     "data": {
      "text/plain": [
       "                                           seller_note  count  proportion\n",
       "0                                                 None   3356        0.75\n",
       "1                     “See Description For Item Grade”     23        0.01\n",
       "2    “These units are fully functional and have all...     14        0.00\n",
       "3    “AAA PCs is a Microsoft Authorized Refurbisher...     13        0.00\n",
       "4    ““Tested working. The Unit shows minor cosmeti...     10        0.00\n",
       "..                                                 ...    ...         ...\n",
       "802  “FULLY REFURBISHED AND TESTED. COMES WITH WORK...      1        0.00\n",
       "803  “The laptop is manufacturer refurbished \"Like ...      1        0.00\n",
       "804  “Device is 100% fully functional and in Good p...      1        0.00\n",
       "805  “Used in fair working condition. May have scra...      1        0.00\n",
       "806  “Fresh install of Windows 10. Good condition w...      1        0.00\n",
       "\n",
       "[807 rows x 3 columns]"
      ],
      "text/html": [
       "<div>\n",
       "<style scoped>\n",
       "    .dataframe tbody tr th:only-of-type {\n",
       "        vertical-align: middle;\n",
       "    }\n",
       "\n",
       "    .dataframe tbody tr th {\n",
       "        vertical-align: top;\n",
       "    }\n",
       "\n",
       "    .dataframe thead th {\n",
       "        text-align: right;\n",
       "    }\n",
       "</style>\n",
       "<table border=\"1\" class=\"dataframe\">\n",
       "  <thead>\n",
       "    <tr style=\"text-align: right;\">\n",
       "      <th></th>\n",
       "      <th>seller_note</th>\n",
       "      <th>count</th>\n",
       "      <th>proportion</th>\n",
       "    </tr>\n",
       "  </thead>\n",
       "  <tbody>\n",
       "    <tr>\n",
       "      <th>0</th>\n",
       "      <td>None</td>\n",
       "      <td>3356</td>\n",
       "      <td>0.75</td>\n",
       "    </tr>\n",
       "    <tr>\n",
       "      <th>1</th>\n",
       "      <td>“See Description For Item Grade”</td>\n",
       "      <td>23</td>\n",
       "      <td>0.01</td>\n",
       "    </tr>\n",
       "    <tr>\n",
       "      <th>2</th>\n",
       "      <td>“These units are fully functional and have all...</td>\n",
       "      <td>14</td>\n",
       "      <td>0.00</td>\n",
       "    </tr>\n",
       "    <tr>\n",
       "      <th>3</th>\n",
       "      <td>“AAA PCs is a Microsoft Authorized Refurbisher...</td>\n",
       "      <td>13</td>\n",
       "      <td>0.00</td>\n",
       "    </tr>\n",
       "    <tr>\n",
       "      <th>4</th>\n",
       "      <td>““Tested working. The Unit shows minor cosmeti...</td>\n",
       "      <td>10</td>\n",
       "      <td>0.00</td>\n",
       "    </tr>\n",
       "    <tr>\n",
       "      <th>...</th>\n",
       "      <td>...</td>\n",
       "      <td>...</td>\n",
       "      <td>...</td>\n",
       "    </tr>\n",
       "    <tr>\n",
       "      <th>802</th>\n",
       "      <td>“FULLY REFURBISHED AND TESTED. COMES WITH WORK...</td>\n",
       "      <td>1</td>\n",
       "      <td>0.00</td>\n",
       "    </tr>\n",
       "    <tr>\n",
       "      <th>803</th>\n",
       "      <td>“The laptop is manufacturer refurbished \"Like ...</td>\n",
       "      <td>1</td>\n",
       "      <td>0.00</td>\n",
       "    </tr>\n",
       "    <tr>\n",
       "      <th>804</th>\n",
       "      <td>“Device is 100% fully functional and in Good p...</td>\n",
       "      <td>1</td>\n",
       "      <td>0.00</td>\n",
       "    </tr>\n",
       "    <tr>\n",
       "      <th>805</th>\n",
       "      <td>“Used in fair working condition. May have scra...</td>\n",
       "      <td>1</td>\n",
       "      <td>0.00</td>\n",
       "    </tr>\n",
       "    <tr>\n",
       "      <th>806</th>\n",
       "      <td>“Fresh install of Windows 10. Good condition w...</td>\n",
       "      <td>1</td>\n",
       "      <td>0.00</td>\n",
       "    </tr>\n",
       "  </tbody>\n",
       "</table>\n",
       "<p>807 rows × 3 columns</p>\n",
       "</div>"
      ]
     },
     "execution_count": 37,
     "metadata": {},
     "output_type": "execute_result"
    }
   ],
   "execution_count": 37
  },
  {
   "metadata": {},
   "cell_type": "markdown",
   "source": [
    "Observations:\n",
    "- **High cardinality**: As this variable represents notes written in natural language, by the seller, specifying any kind of details, each note is unique.\n",
    "- **Feature engineering potential**: It might be of interest to do sentiment analysis in order to categorize this variable given its sentiment."
   ],
   "id": "e8826aa3fe129d16"
  },
  {
   "metadata": {
    "ExecuteTime": {
     "end_time": "2025-04-04T01:26:26.846618Z",
     "start_time": "2025-04-04T01:26:26.842807Z"
    }
   },
   "cell_type": "code",
   "source": [
    "df = df.with_columns(\n",
    "    pl.col('seller_note')\n",
    "    .str.strip_chars()\n",
    "    .alias('seller_note_clean')\n",
    ")\n",
    "\n",
    "df.select(\n",
    "    'seller_note_clean'\n",
    ").head(n=10)"
   ],
   "id": "b9aa7a227161cdc",
   "outputs": [
    {
     "data": {
      "text/plain": [
       "shape: (10, 1)\n",
       "┌─────────────────────────────────┐\n",
       "│ seller_note_clean               │\n",
       "│ ---                             │\n",
       "│ str                             │\n",
       "╞═════════════════════════════════╡\n",
       "│ null                            │\n",
       "│ null                            │\n",
       "│ null                            │\n",
       "│ null                            │\n",
       "│ null                            │\n",
       "│ null                            │\n",
       "│ “Laptop is in excellent condit… │\n",
       "│ “The item will show some signs… │\n",
       "│ “Includes Dell AC Adapter/Char… │\n",
       "│ null                            │\n",
       "└─────────────────────────────────┘"
      ],
      "text/html": [
       "<div><style>\n",
       ".dataframe > thead > tr,\n",
       ".dataframe > tbody > tr {\n",
       "  text-align: right;\n",
       "  white-space: pre-wrap;\n",
       "}\n",
       "</style>\n",
       "<small>shape: (10, 1)</small><table border=\"1\" class=\"dataframe\"><thead><tr><th>seller_note_clean</th></tr><tr><td>str</td></tr></thead><tbody><tr><td>null</td></tr><tr><td>null</td></tr><tr><td>null</td></tr><tr><td>null</td></tr><tr><td>null</td></tr><tr><td>null</td></tr><tr><td>&quot;“Laptop is in excellent condit…</td></tr><tr><td>&quot;“The item will show some signs…</td></tr><tr><td>&quot;“Includes Dell AC Adapter/Char…</td></tr><tr><td>null</td></tr></tbody></table></div>"
      ]
     },
     "execution_count": 38,
     "metadata": {},
     "output_type": "execute_result"
    }
   ],
   "execution_count": 38
  },
  {
   "metadata": {},
   "cell_type": "markdown",
   "source": [
    "We decide to leave the `seller_note` column with minimal alteration, simply trimming leading and trailing characters, as it is a variable that contains free-text, natural language information, making it inherently non-standardizable. It is filled with subjective, context-dependent, and unstructured data. This is why it is not easily standardize without potentially losing valuable information.\n",
    "\n",
    "Nonetheless, proper use of natural language processing (particularly sentiment analysis) would be useful in order to extract consistent insights from such data.\n"
   ],
   "id": "1fc5b23bff09426f"
  },
  {
   "metadata": {},
   "cell_type": "markdown",
   "source": [
    "## Cleaning `processor`\n",
    "- **Formatting**: Similarly, as done with other variables, we'll reformat the values, so that `Intel Celeron` is transformed into `intel_celeron`.\n",
    "- **Unknown values**: There's an abundance of brands with very low frequencies, or unknown values (like `?` or `Does not apply` or `no` or `none`).\n"
   ],
   "id": "78b7a15a0e550ccf"
  },
  {
   "metadata": {
    "ExecuteTime": {
     "end_time": "2025-04-04T01:26:27.152412Z",
     "start_time": "2025-04-04T01:26:27.147436Z"
    }
   },
   "cell_type": "code",
   "source": [
    "# Taking a look at the values counts for the `processor` column\n",
    "value_counts_with_proportion(df['processor'])"
   ],
   "id": "a2548b3e3f21f78c",
   "outputs": [
    {
     "data": {
      "text/plain": [
       "shape: (462, 3)\n",
       "┌─────────────────────────────────┬───────┬────────────┐\n",
       "│ processor                       ┆ count ┆ proportion │\n",
       "│ ---                             ┆ ---   ┆ ---        │\n",
       "│ str                             ┆ u32   ┆ f64        │\n",
       "╞═════════════════════════════════╪═══════╪════════════╡\n",
       "│ null                            ┆ 1470  ┆ 0.33       │\n",
       "│ Does not apply                  ┆ 371   ┆ 0.08       │\n",
       "│ Intel Core i5 4th generation    ┆ 249   ┆ 0.06       │\n",
       "│ Intel Core i5 6th generation    ┆ 161   ┆ 0.04       │\n",
       "│ Intel Celeron                   ┆ 147   ┆ 0.03       │\n",
       "│ …                               ┆ …     ┆ …          │\n",
       "│ Qualcomm Snapdragon 8cx Gen 3 … ┆ 1     ┆ 0.0        │\n",
       "│ intel N100                      ┆ 1     ┆ 0.0        │\n",
       "│ Intel Core i7 10th generation   ┆ 1     ┆ 0.0        │\n",
       "│ AMD Ryzen 7 Quad-Core           ┆ 1     ┆ 0.0        │\n",
       "│ Qualcomm Kryo 468               ┆ 1     ┆ 0.0        │\n",
       "└─────────────────────────────────┴───────┴────────────┘"
      ],
      "text/html": [
       "<div><style>\n",
       ".dataframe > thead > tr,\n",
       ".dataframe > tbody > tr {\n",
       "  text-align: right;\n",
       "  white-space: pre-wrap;\n",
       "}\n",
       "</style>\n",
       "<small>shape: (462, 3)</small><table border=\"1\" class=\"dataframe\"><thead><tr><th>processor</th><th>count</th><th>proportion</th></tr><tr><td>str</td><td>u32</td><td>f64</td></tr></thead><tbody><tr><td>null</td><td>1470</td><td>0.33</td></tr><tr><td>&quot;Does not apply&quot;</td><td>371</td><td>0.08</td></tr><tr><td>&quot;Intel Core i5 4th generation&quot;</td><td>249</td><td>0.06</td></tr><tr><td>&quot;Intel Core i5 6th generation&quot;</td><td>161</td><td>0.04</td></tr><tr><td>&quot;Intel Celeron&quot;</td><td>147</td><td>0.03</td></tr><tr><td>&hellip;</td><td>&hellip;</td><td>&hellip;</td></tr><tr><td>&quot;Qualcomm Snapdragon 8cx Gen 3 …</td><td>1</td><td>0.0</td></tr><tr><td>&quot;intel N100&quot;</td><td>1</td><td>0.0</td></tr><tr><td>&quot;Intel Core i7 10th generation&quot;</td><td>1</td><td>0.0</td></tr><tr><td>&quot;AMD Ryzen 7 Quad-Core&quot;</td><td>1</td><td>0.0</td></tr><tr><td>&quot;Qualcomm Kryo 468&quot;</td><td>1</td><td>0.0</td></tr></tbody></table></div>"
      ]
     },
     "execution_count": 39,
     "metadata": {},
     "output_type": "execute_result"
    }
   ],
   "execution_count": 39
  },
  {
   "metadata": {},
   "cell_type": "markdown",
   "source": [
    "Observations:\n",
    "- **Missing data**: 42% of the entries are marked as `null` and 8% as `Does not apply`, together representing 50% of the dataset.\n",
    "- **Low variety**: All processors in the top 10 are of `Intel` brand, with diversity in performance levels but very little in manufacturer.\n",
    "- **High cardinality**: `processor` contains 462 unique values, as some of its information contains details such as brand (`intel`/`amd`), model (`celeron`), generation (`8th gen`), etc.\n",
    "- **Feature engineering potential**: Some processors indicate both the model and the generation (`Intel core i5 8th gen`), which can be extracted for further analysis."
   ],
   "id": "f8a9bed1fac39bbe"
  },
  {
   "metadata": {},
   "cell_type": "markdown",
   "source": [
    "### **Reformatting `processor`:**\n",
    "\n",
    "In this step of our analysis, we're focusing on cleaning up and standardizing the `brand` data to ensure consistency and accuracy. Brands can be listed in many different ways, which can lead to confusion or misinterpretation during analysis. So, we're transforming the brand names into a uniform format that makes it easier to work with.\n",
    "\n",
    "- **Consistent Formatting:** We ensure all processor names are in lowercase, and we remove any unnecessary spaces or punctuation that could create inconsistencies. (transforming `Intel core - 7th gen.` into `intel_core_7th_gen`).\n",
    "- **Replacing Uncertain Values:** We also handle special cases where the data might have uncertain or irrelevant values (e.g., `?` or `no`), replacing them with more meaningful values such as `unknown` or `not_applicable`."
   ],
   "id": "c026bd9fd164741"
  },
  {
   "metadata": {
    "ExecuteTime": {
     "end_time": "2025-04-04T01:26:27.419836Z",
     "start_time": "2025-04-04T01:26:27.410624Z"
    }
   },
   "cell_type": "code",
   "source": [
    " # Define a mapping to handle various non-standard or missing values in the 'processor' column.\n",
    "processor_replace_map = {\n",
    "    '?': 'unknown',\n",
    "    'none': 'unknown',\n",
    "    'no': 'unknown',\n",
    "    '^?': 'unknown',\n",
    "    'does not apply': 'unknown'\n",
    "}\n",
    "\n",
    "# Apply the replacement logic to the 'processor' column to clean and standardize the values.\n",
    "df = df.with_columns(\n",
    "    pl.col('processor')\n",
    "    .str.to_lowercase()  # Convert text to lowercase for consistency.\n",
    "    .str.strip_chars()  # Remove any leading or trailing whitespace.\n",
    "    .str.replace_all(r'\\s+|-', '_')  # Replace spaces / hyphens with underscores for consistent naming.\n",
    "    .str.replace(',', '')  # Removing comas\n",
    "    .str.strip_chars_end('.')  # Remove any trailing dots.\n",
    "    .replace(processor_replace_map)  # Apply the replacement map to clean non-standard values.\n",
    "    .cast(pl.Categorical) # Cast to categorical data type\n",
    "    .alias('processor_clean')\n",
    ")\n",
    "\n",
    "df.select(\n",
    "    'processor', 'processor_clean'\n",
    ").head(n=10)"
   ],
   "id": "333b49cdbff21424",
   "outputs": [
    {
     "data": {
      "text/plain": [
       "shape: (10, 2)\n",
       "┌────────────────────────┬───────────────────────┐\n",
       "│ processor              ┆ processor_clean       │\n",
       "│ ---                    ┆ ---                   │\n",
       "│ str                    ┆ cat                   │\n",
       "╞════════════════════════╪═══════════════════════╡\n",
       "│ null                   ┆ null                  │\n",
       "│ Does not apply         ┆ does_not_apply        │\n",
       "│ Intel Core i5-10310u   ┆ intel_core_i5_10310u  │\n",
       "│ null                   ┆ null                  │\n",
       "│ Intel Core i3-1115G4   ┆ intel_core_i3_1115g4  │\n",
       "│ null                   ┆ null                  │\n",
       "│ Intel Core i7 8th Gen. ┆ intel_core_i7_8th_gen │\n",
       "│ Intel Core i5 6th Gen  ┆ intel_core_i5_6th_gen │\n",
       "│ Intel Core i5 5th Gen. ┆ intel_core_i5_5th_gen │\n",
       "│ null                   ┆ null                  │\n",
       "└────────────────────────┴───────────────────────┘"
      ],
      "text/html": [
       "<div><style>\n",
       ".dataframe > thead > tr,\n",
       ".dataframe > tbody > tr {\n",
       "  text-align: right;\n",
       "  white-space: pre-wrap;\n",
       "}\n",
       "</style>\n",
       "<small>shape: (10, 2)</small><table border=\"1\" class=\"dataframe\"><thead><tr><th>processor</th><th>processor_clean</th></tr><tr><td>str</td><td>cat</td></tr></thead><tbody><tr><td>null</td><td>null</td></tr><tr><td>&quot;Does not apply&quot;</td><td>&quot;does_not_apply&quot;</td></tr><tr><td>&quot;Intel Core i5-10310u&quot;</td><td>&quot;intel_core_i5_10310u&quot;</td></tr><tr><td>null</td><td>null</td></tr><tr><td>&quot;Intel Core i3-1115G4&quot;</td><td>&quot;intel_core_i3_1115g4&quot;</td></tr><tr><td>null</td><td>null</td></tr><tr><td>&quot;Intel Core i7 8th Gen.&quot;</td><td>&quot;intel_core_i7_8th_gen&quot;</td></tr><tr><td>&quot;Intel Core i5 6th Gen&quot;</td><td>&quot;intel_core_i5_6th_gen&quot;</td></tr><tr><td>&quot;Intel Core i5 5th Gen.&quot;</td><td>&quot;intel_core_i5_5th_gen&quot;</td></tr><tr><td>null</td><td>null</td></tr></tbody></table></div>"
      ]
     },
     "execution_count": 40,
     "metadata": {},
     "output_type": "execute_result"
    }
   ],
   "execution_count": 40
  },
  {
   "metadata": {
    "ExecuteTime": {
     "end_time": "2025-04-04T01:26:27.638827Z",
     "start_time": "2025-04-04T01:26:27.633750Z"
    }
   },
   "cell_type": "code",
   "source": [
    "# Taking a look at the poorly formatted `processor` values, with their correspondent values in `processor_clean`\n",
    "df.select(\n",
    "    'processor', 'processor_clean',\n",
    ").filter(\n",
    "    pl.col('processor').str.to_lowercase().is_in(processor_replace_map)\n",
    ").unique(\n",
    "    subset='processor',\n",
    "    maintain_order=True,\n",
    ").sort(\n",
    "    by='processor',\n",
    "    descending=False,\n",
    ")"
   ],
   "id": "b7261b8f6d6bdb9d",
   "outputs": [
    {
     "data": {
      "text/plain": [
       "shape: (8, 2)\n",
       "┌────────────────┬─────────────────┐\n",
       "│ processor      ┆ processor_clean │\n",
       "│ ---            ┆ ---             │\n",
       "│ str            ┆ cat             │\n",
       "╞════════════════╪═════════════════╡\n",
       "│ ?              ┆ unknown         │\n",
       "│ DOES NOT APPLY ┆ does_not_apply  │\n",
       "│ Does Not Apply ┆ does_not_apply  │\n",
       "│ Does not apply ┆ does_not_apply  │\n",
       "│ NONE           ┆ unknown         │\n",
       "│ No             ┆ unknown         │\n",
       "│ ^?             ┆ unknown         │\n",
       "│ none           ┆ unknown         │\n",
       "└────────────────┴─────────────────┘"
      ],
      "text/html": [
       "<div><style>\n",
       ".dataframe > thead > tr,\n",
       ".dataframe > tbody > tr {\n",
       "  text-align: right;\n",
       "  white-space: pre-wrap;\n",
       "}\n",
       "</style>\n",
       "<small>shape: (8, 2)</small><table border=\"1\" class=\"dataframe\"><thead><tr><th>processor</th><th>processor_clean</th></tr><tr><td>str</td><td>cat</td></tr></thead><tbody><tr><td>&quot;?&quot;</td><td>&quot;unknown&quot;</td></tr><tr><td>&quot;DOES NOT APPLY&quot;</td><td>&quot;does_not_apply&quot;</td></tr><tr><td>&quot;Does Not Apply&quot;</td><td>&quot;does_not_apply&quot;</td></tr><tr><td>&quot;Does not apply&quot;</td><td>&quot;does_not_apply&quot;</td></tr><tr><td>&quot;NONE&quot;</td><td>&quot;unknown&quot;</td></tr><tr><td>&quot;No&quot;</td><td>&quot;unknown&quot;</td></tr><tr><td>&quot;^?&quot;</td><td>&quot;unknown&quot;</td></tr><tr><td>&quot;none&quot;</td><td>&quot;unknown&quot;</td></tr></tbody></table></div>"
      ]
     },
     "execution_count": 41,
     "metadata": {},
     "output_type": "execute_result"
    }
   ],
   "execution_count": 41
  },
  {
   "metadata": {},
   "cell_type": "markdown",
   "source": "Finally, we inspect visually our newly created `processor_clean` variable:",
   "id": "54e0da4640341908"
  },
  {
   "metadata": {
    "ExecuteTime": {
     "end_time": "2025-04-04T01:26:27.915459Z",
     "start_time": "2025-04-04T01:26:27.910062Z"
    }
   },
   "cell_type": "code",
   "source": [
    "# Taking a look the new `processor_clean` column and its value counts\n",
    "value_counts_with_proportion(df['processor_clean'])"
   ],
   "id": "b50dfcdf53725b53",
   "outputs": [
    {
     "data": {
      "text/plain": [
       "shape: (414, 3)\n",
       "┌─────────────────────────────────┬───────┬────────────┐\n",
       "│ processor_clean                 ┆ count ┆ proportion │\n",
       "│ ---                             ┆ ---   ┆ ---        │\n",
       "│ cat                             ┆ u32   ┆ f64        │\n",
       "╞═════════════════════════════════╪═══════╪════════════╡\n",
       "│ null                            ┆ 1470  ┆ 0.33       │\n",
       "│ does_not_apply                  ┆ 376   ┆ 0.08       │\n",
       "│ intel_core_i5_4th_generation    ┆ 249   ┆ 0.06       │\n",
       "│ intel_core_i5_6th_generation    ┆ 161   ┆ 0.04       │\n",
       "│ intel_celeron                   ┆ 147   ┆ 0.03       │\n",
       "│ …                               ┆ …     ┆ …          │\n",
       "│ qualcomm_snapdragon_8cx_gen_3_… ┆ 1     ┆ 0.0        │\n",
       "│ intel_n100                      ┆ 1     ┆ 0.0        │\n",
       "│ intel_core_i7_10th_generation   ┆ 1     ┆ 0.0        │\n",
       "│ amd_ryzen_7_quad_core           ┆ 1     ┆ 0.0        │\n",
       "│ qualcomm_kryo_468               ┆ 1     ┆ 0.0        │\n",
       "└─────────────────────────────────┴───────┴────────────┘"
      ],
      "text/html": [
       "<div><style>\n",
       ".dataframe > thead > tr,\n",
       ".dataframe > tbody > tr {\n",
       "  text-align: right;\n",
       "  white-space: pre-wrap;\n",
       "}\n",
       "</style>\n",
       "<small>shape: (414, 3)</small><table border=\"1\" class=\"dataframe\"><thead><tr><th>processor_clean</th><th>count</th><th>proportion</th></tr><tr><td>cat</td><td>u32</td><td>f64</td></tr></thead><tbody><tr><td>null</td><td>1470</td><td>0.33</td></tr><tr><td>&quot;does_not_apply&quot;</td><td>376</td><td>0.08</td></tr><tr><td>&quot;intel_core_i5_4th_generation&quot;</td><td>249</td><td>0.06</td></tr><tr><td>&quot;intel_core_i5_6th_generation&quot;</td><td>161</td><td>0.04</td></tr><tr><td>&quot;intel_celeron&quot;</td><td>147</td><td>0.03</td></tr><tr><td>&hellip;</td><td>&hellip;</td><td>&hellip;</td></tr><tr><td>&quot;qualcomm_snapdragon_8cx_gen_3_…</td><td>1</td><td>0.0</td></tr><tr><td>&quot;intel_n100&quot;</td><td>1</td><td>0.0</td></tr><tr><td>&quot;intel_core_i7_10th_generation&quot;</td><td>1</td><td>0.0</td></tr><tr><td>&quot;amd_ryzen_7_quad_core&quot;</td><td>1</td><td>0.0</td></tr><tr><td>&quot;qualcomm_kryo_468&quot;</td><td>1</td><td>0.0</td></tr></tbody></table></div>"
      ]
     },
     "execution_count": 42,
     "metadata": {},
     "output_type": "execute_result"
    }
   ],
   "execution_count": 42
  },
  {
   "metadata": {},
   "cell_type": "markdown",
   "source": "## Cleaning `screen_size`",
   "id": "874865ecc2d8d5d7"
  },
  {
   "metadata": {
    "ExecuteTime": {
     "end_time": "2025-04-04T01:26:28.117658Z",
     "start_time": "2025-04-04T01:26:28.108132Z"
    }
   },
   "cell_type": "code",
   "source": [
    "# Screen size value counts and their proportion\n",
    "value_counts_with_proportion(df['screen_size'], convert_to_pandas=True)"
   ],
   "id": "2761583449c86051",
   "outputs": [
    {
     "data": {
      "text/plain": [
       "                                screen_size  count  proportion\n",
       "0                                      None   1434        0.32\n",
       "1                                     14 in    557        0.12\n",
       "2                                       14\"    476        0.11\n",
       "3                                   15.6 in    384        0.09\n",
       "4                            Does not apply    369        0.08\n",
       "..                                      ...    ...         ...\n",
       "154                           15 in In.4in.      1        0.00\n",
       "155                          DOES NOT APPLY      1        0.00\n",
       "156  12\" LED Touchscreen (Outdoor Viewable)      1        0.00\n",
       "157                                15&quot;      1        0.00\n",
       "158                                   13.3\"      1        0.00\n",
       "\n",
       "[159 rows x 3 columns]"
      ],
      "text/html": [
       "<div>\n",
       "<style scoped>\n",
       "    .dataframe tbody tr th:only-of-type {\n",
       "        vertical-align: middle;\n",
       "    }\n",
       "\n",
       "    .dataframe tbody tr th {\n",
       "        vertical-align: top;\n",
       "    }\n",
       "\n",
       "    .dataframe thead th {\n",
       "        text-align: right;\n",
       "    }\n",
       "</style>\n",
       "<table border=\"1\" class=\"dataframe\">\n",
       "  <thead>\n",
       "    <tr style=\"text-align: right;\">\n",
       "      <th></th>\n",
       "      <th>screen_size</th>\n",
       "      <th>count</th>\n",
       "      <th>proportion</th>\n",
       "    </tr>\n",
       "  </thead>\n",
       "  <tbody>\n",
       "    <tr>\n",
       "      <th>0</th>\n",
       "      <td>None</td>\n",
       "      <td>1434</td>\n",
       "      <td>0.32</td>\n",
       "    </tr>\n",
       "    <tr>\n",
       "      <th>1</th>\n",
       "      <td>14 in</td>\n",
       "      <td>557</td>\n",
       "      <td>0.12</td>\n",
       "    </tr>\n",
       "    <tr>\n",
       "      <th>2</th>\n",
       "      <td>14\"</td>\n",
       "      <td>476</td>\n",
       "      <td>0.11</td>\n",
       "    </tr>\n",
       "    <tr>\n",
       "      <th>3</th>\n",
       "      <td>15.6 in</td>\n",
       "      <td>384</td>\n",
       "      <td>0.09</td>\n",
       "    </tr>\n",
       "    <tr>\n",
       "      <th>4</th>\n",
       "      <td>Does not apply</td>\n",
       "      <td>369</td>\n",
       "      <td>0.08</td>\n",
       "    </tr>\n",
       "    <tr>\n",
       "      <th>...</th>\n",
       "      <td>...</td>\n",
       "      <td>...</td>\n",
       "      <td>...</td>\n",
       "    </tr>\n",
       "    <tr>\n",
       "      <th>154</th>\n",
       "      <td>15 in In.4in.</td>\n",
       "      <td>1</td>\n",
       "      <td>0.00</td>\n",
       "    </tr>\n",
       "    <tr>\n",
       "      <th>155</th>\n",
       "      <td>DOES NOT APPLY</td>\n",
       "      <td>1</td>\n",
       "      <td>0.00</td>\n",
       "    </tr>\n",
       "    <tr>\n",
       "      <th>156</th>\n",
       "      <td>12\" LED Touchscreen (Outdoor Viewable)</td>\n",
       "      <td>1</td>\n",
       "      <td>0.00</td>\n",
       "    </tr>\n",
       "    <tr>\n",
       "      <th>157</th>\n",
       "      <td>15&amp;quot;</td>\n",
       "      <td>1</td>\n",
       "      <td>0.00</td>\n",
       "    </tr>\n",
       "    <tr>\n",
       "      <th>158</th>\n",
       "      <td>13.3\"</td>\n",
       "      <td>1</td>\n",
       "      <td>0.00</td>\n",
       "    </tr>\n",
       "  </tbody>\n",
       "</table>\n",
       "<p>159 rows × 3 columns</p>\n",
       "</div>"
      ]
     },
     "execution_count": 43,
     "metadata": {},
     "output_type": "execute_result"
    }
   ],
   "execution_count": 43
  },
  {
   "metadata": {},
   "cell_type": "markdown",
   "source": [
    "### Extracting inches from `screen_size`\n",
    "\n",
    "In order to have an accurate processing of `screen_size`, we'll extract the inches from the `screen_size` column and assign them to a numerical variable named `screen_size_inches`.\n",
    "\n",
    "In this way, we can perform further analysis, visualization and numerical computations on the screen size, ensuring that we no longer have to deal with mixed formats."
   ],
   "id": "9931d40ec3f3521e"
  },
  {
   "metadata": {
    "ExecuteTime": {
     "end_time": "2025-04-04T01:26:28.376898Z",
     "start_time": "2025-04-04T01:26:28.372276Z"
    }
   },
   "cell_type": "code",
   "source": [
    "# Define the regex pattern to extract numeric values (floating point or integer) from screen_size column\n",
    "screen_size_pattern = r'(\\d+(\\.\\d+)?)'\n",
    "\n",
    "df = df.with_columns(\n",
    "    # Clean the screen_size column by extracting the numeric part (screen size in inches)\n",
    "    pl.col('screen_size')\n",
    "    .str.extract(screen_size_pattern)  # Extract the numeric part\n",
    "    .cast(pl.Float32)  # Convert the extracted value to Float64\n",
    "    .alias('screen_size_inches_clean')\n",
    ")\n",
    "\n",
    "df['screen_size_inches_clean'].head(n=10)"
   ],
   "id": "385de11adc34c9d5",
   "outputs": [
    {
     "data": {
      "text/plain": [
       "shape: (10,)\n",
       "Series: 'screen_size_inches_clean' [f32]\n",
       "[\n",
       "\tnull\n",
       "\tnull\n",
       "\t14.0\n",
       "\tnull\n",
       "\t15.6\n",
       "\tnull\n",
       "\t12.5\n",
       "\t14.0\n",
       "\t15.6\n",
       "\tnull\n",
       "]"
      ],
      "text/html": [
       "<div><style>\n",
       ".dataframe > thead > tr,\n",
       ".dataframe > tbody > tr {\n",
       "  text-align: right;\n",
       "  white-space: pre-wrap;\n",
       "}\n",
       "</style>\n",
       "<small>shape: (10,)</small><table border=\"1\" class=\"dataframe\"><thead><tr><th>screen_size_inches_clean</th></tr><tr><td>f32</td></tr></thead><tbody><tr><td>null</td></tr><tr><td>null</td></tr><tr><td>14.0</td></tr><tr><td>null</td></tr><tr><td>15.6</td></tr><tr><td>null</td></tr><tr><td>12.5</td></tr><tr><td>14.0</td></tr><tr><td>15.6</td></tr><tr><td>null</td></tr></tbody></table></div>"
      ]
     },
     "execution_count": 44,
     "metadata": {},
     "output_type": "execute_result"
    }
   ],
   "execution_count": 44
  },
  {
   "metadata": {},
   "cell_type": "markdown",
   "source": "We can now take a look at the summary statistics for the new `screen_size_inches` variable",
   "id": "68d7724df432ee08"
  },
  {
   "metadata": {
    "ExecuteTime": {
     "end_time": "2025-04-04T01:26:28.690680Z",
     "start_time": "2025-04-04T01:26:28.686445Z"
    }
   },
   "cell_type": "code",
   "source": [
    "# Looking at the summary statistics for the `screen_size_inches` variable\n",
    "df['screen_size_inches_clean'].describe()"
   ],
   "id": "cc2971ddf7d0f14f",
   "outputs": [
    {
     "data": {
      "text/plain": [
       "shape: (9, 2)\n",
       "┌────────────┬───────────┐\n",
       "│ statistic  ┆ value     │\n",
       "│ ---        ┆ ---       │\n",
       "│ str        ┆ f64       │\n",
       "╞════════════╪═══════════╡\n",
       "│ count      ┆ 2654.0    │\n",
       "│ null_count ┆ 1821.0    │\n",
       "│ mean       ┆ 14.174133 │\n",
       "│ std        ┆ 19.210987 │\n",
       "│ min        ┆ 2.0       │\n",
       "│ 25%        ┆ 13.0      │\n",
       "│ 50%        ┆ 14.0      │\n",
       "│ 75%        ┆ 15.0      │\n",
       "│ max        ┆ 1000.0    │\n",
       "└────────────┴───────────┘"
      ],
      "text/html": [
       "<div><style>\n",
       ".dataframe > thead > tr,\n",
       ".dataframe > tbody > tr {\n",
       "  text-align: right;\n",
       "  white-space: pre-wrap;\n",
       "}\n",
       "</style>\n",
       "<small>shape: (9, 2)</small><table border=\"1\" class=\"dataframe\"><thead><tr><th>statistic</th><th>value</th></tr><tr><td>str</td><td>f64</td></tr></thead><tbody><tr><td>&quot;count&quot;</td><td>2654.0</td></tr><tr><td>&quot;null_count&quot;</td><td>1821.0</td></tr><tr><td>&quot;mean&quot;</td><td>14.174133</td></tr><tr><td>&quot;std&quot;</td><td>19.210987</td></tr><tr><td>&quot;min&quot;</td><td>2.0</td></tr><tr><td>&quot;25%&quot;</td><td>13.0</td></tr><tr><td>&quot;50%&quot;</td><td>14.0</td></tr><tr><td>&quot;75%&quot;</td><td>15.0</td></tr><tr><td>&quot;max&quot;</td><td>1000.0</td></tr></tbody></table></div>"
      ]
     },
     "execution_count": 45,
     "metadata": {},
     "output_type": "execute_result"
    }
   ],
   "execution_count": 45
  },
  {
   "metadata": {},
   "cell_type": "markdown",
   "source": [
    "Observations:\n",
    "- **Wide Distribution**: The `screen_size_inches_clean` column has a mean value of 14.40 inches, with a standard deviation of 24.22 inches, indicating a relatively wide spread in values. 25% of the data is below 13.0 inches, and 75% is below 15.0 inches.\n",
    "- **Missing Data**: The column contains a significant amount of missing values (`null_count = 3289`). This highlights the need for potential imputation or cleaning strategies to handle missing data effectively.\n",
    "- **Extreme Outliers**: The minimum value is 2.0 inches, while the maximum reaches up to 1000.0 inches, suggesting some extreme outliers, which could distort any analysis or model using this data. These outliers should be further investigated and possibly removed or transformed, when doing *statistical analysis*."
   ],
   "id": "db5938b4fe62b671"
  },
  {
   "metadata": {},
   "cell_type": "markdown",
   "source": [
    "### Correcting outliers\n",
    "\n",
    "We're interested in correcting the outliers in the `screen_size_inches` column, as the maximum value is that of a `1000` inches, which makes very little sense. We'll start by visualizing the top values from that column, to see whether we have several outliers or this is just the product of an error in the data extraction process:"
   ],
   "id": "fdbd19dc9877afd4"
  },
  {
   "metadata": {
    "ExecuteTime": {
     "end_time": "2025-04-04T01:26:28.921447Z",
     "start_time": "2025-04-04T01:26:28.916478Z"
    }
   },
   "cell_type": "code",
   "source": [
    "df['screen_size_inches_clean'].filter(\n",
    "    predicate=df['screen_size_inches_clean'].is_not_null()\n",
    ").sort(\n",
    "    descending=True,\n",
    ")"
   ],
   "id": "ab201e6b406f3a4",
   "outputs": [
    {
     "data": {
      "text/plain": [
       "shape: (2_654,)\n",
       "Series: 'screen_size_inches_clean' [f32]\n",
       "[\n",
       "\t1000.0\n",
       "\t18.4\n",
       "\t18.0\n",
       "\t18.0\n",
       "\t18.0\n",
       "\t…\n",
       "\t4.5\n",
       "\t4.5\n",
       "\t2.0\n",
       "\t2.0\n",
       "\t2.0\n",
       "]"
      ],
      "text/html": [
       "<div><style>\n",
       ".dataframe > thead > tr,\n",
       ".dataframe > tbody > tr {\n",
       "  text-align: right;\n",
       "  white-space: pre-wrap;\n",
       "}\n",
       "</style>\n",
       "<small>shape: (2_654,)</small><table border=\"1\" class=\"dataframe\"><thead><tr><th>screen_size_inches_clean</th></tr><tr><td>f32</td></tr></thead><tbody><tr><td>1000.0</td></tr><tr><td>18.4</td></tr><tr><td>18.0</td></tr><tr><td>18.0</td></tr><tr><td>18.0</td></tr><tr><td>&hellip;</td></tr><tr><td>4.5</td></tr><tr><td>4.5</td></tr><tr><td>2.0</td></tr><tr><td>2.0</td></tr><tr><td>2.0</td></tr></tbody></table></div>"
      ]
     },
     "execution_count": 46,
     "metadata": {},
     "output_type": "execute_result"
    }
   ],
   "execution_count": 46
  },
  {
   "metadata": {},
   "cell_type": "markdown",
   "source": [
    "We immediately realize we have just two values of `1000` inches, which are heavily skewing the data. The rest of the distribution lies between the range of `2-18` inches, which is sensible.\n",
    "In order to address this, we need to find where these values are originally located. Which is, the `screen_size` column:"
   ],
   "id": "d81a3d1c6eb4dbe3"
  },
  {
   "metadata": {
    "ExecuteTime": {
     "end_time": "2025-04-04T01:26:29.281222Z",
     "start_time": "2025-04-04T01:26:29.276712Z"
    }
   },
   "cell_type": "code",
   "source": "df.select('screen_size').filter(pl.col('screen_size').str.contains('1000'))",
   "id": "93f5bbfdb0255305",
   "outputs": [
    {
     "data": {
      "text/plain": [
       "shape: (1, 1)\n",
       "┌──────────────────┐\n",
       "│ screen_size      │\n",
       "│ ---              │\n",
       "│ str              │\n",
       "╞══════════════════╡\n",
       "│ Jumbo Heuer 1000 │\n",
       "└──────────────────┘"
      ],
      "text/html": [
       "<div><style>\n",
       ".dataframe > thead > tr,\n",
       ".dataframe > tbody > tr {\n",
       "  text-align: right;\n",
       "  white-space: pre-wrap;\n",
       "}\n",
       "</style>\n",
       "<small>shape: (1, 1)</small><table border=\"1\" class=\"dataframe\"><thead><tr><th>screen_size</th></tr><tr><td>str</td></tr></thead><tbody><tr><td>&quot;Jumbo Heuer 1000&quot;</td></tr></tbody></table></div>"
      ]
     },
     "execution_count": 47,
     "metadata": {},
     "output_type": "execute_result"
    }
   ],
   "execution_count": 47
  },
  {
   "metadata": {},
   "cell_type": "markdown",
   "source": [
    "We come to the immediate realization that `Jumbo Heuer 1000`, the original `screen_size` value, is clearly not a valid screen size.\n",
    "\n",
    " It doesn't contain any numeric value that would correspond to a typical screen size in inches (e.g., \"15.6\", \"12.5\", etc.). Instead, the word \"1000\" is part of a non-numeric string, likely from a misformatted entry during the web scraping process, or the scraping of a wrong tag. As a result, extracting 1000 as the screen size would lead to misleading or incorrect analysis of the data, as screen sizes in inches don't reach values like 1000 inches.\n",
    "\n",
    "Hence, we replace these unreasonable values with `None` to ensure that the data used for analysis remains consistent and meaningful."
   ],
   "id": "808691d483b57775"
  },
  {
   "metadata": {
    "ExecuteTime": {
     "end_time": "2025-04-04T01:26:29.426688Z",
     "start_time": "2025-04-04T01:26:29.421787Z"
    }
   },
   "cell_type": "code",
   "source": [
    "# Replace rows where screen_size_inches_clean is equal to a thousand (which is incorrect data)\n",
    "df = df.with_columns(\n",
    "    pl.when(pl.col('screen_size_inches_clean').is_in([1000]))  # Handle extreme values\n",
    "    .then(None)  # Replace with None (we might also consider using a default value, like the mean or median)\n",
    "    .otherwise(pl.col('screen_size_inches_clean'))\n",
    "    .alias('screen_size_inches_clean')\n",
    ")\n",
    "\n",
    "# Sorting the screen size in inches in descending order\n",
    "df['screen_size_inches_clean'].filter(\n",
    "    predicate=df['screen_size_inches_clean'].is_not_null()\n",
    ").sort(\n",
    "    descending=True,\n",
    ")"
   ],
   "id": "2a68527553d0494b",
   "outputs": [
    {
     "data": {
      "text/plain": [
       "shape: (2_653,)\n",
       "Series: 'screen_size_inches_clean' [f32]\n",
       "[\n",
       "\t18.4\n",
       "\t18.0\n",
       "\t18.0\n",
       "\t18.0\n",
       "\t18.0\n",
       "\t…\n",
       "\t4.5\n",
       "\t4.5\n",
       "\t2.0\n",
       "\t2.0\n",
       "\t2.0\n",
       "]"
      ],
      "text/html": [
       "<div><style>\n",
       ".dataframe > thead > tr,\n",
       ".dataframe > tbody > tr {\n",
       "  text-align: right;\n",
       "  white-space: pre-wrap;\n",
       "}\n",
       "</style>\n",
       "<small>shape: (2_653,)</small><table border=\"1\" class=\"dataframe\"><thead><tr><th>screen_size_inches_clean</th></tr><tr><td>f32</td></tr></thead><tbody><tr><td>18.4</td></tr><tr><td>18.0</td></tr><tr><td>18.0</td></tr><tr><td>18.0</td></tr><tr><td>18.0</td></tr><tr><td>&hellip;</td></tr><tr><td>4.5</td></tr><tr><td>4.5</td></tr><tr><td>2.0</td></tr><tr><td>2.0</td></tr><tr><td>2.0</td></tr></tbody></table></div>"
      ]
     },
     "execution_count": 48,
     "metadata": {},
     "output_type": "execute_result"
    }
   ],
   "execution_count": 48
  },
  {
   "metadata": {},
   "cell_type": "markdown",
   "source": "Now, we see that the maximum value for the *screen size in inches* variable make a lot more sense. We proceed to visualize its summary statistics once again:",
   "id": "2ed185699061a68d"
  },
  {
   "metadata": {
    "ExecuteTime": {
     "end_time": "2025-04-04T01:26:29.705526Z",
     "start_time": "2025-04-04T01:26:29.700529Z"
    }
   },
   "cell_type": "code",
   "source": [
    "# Looking back at the summary statistics for the `screen_size_inches` variable\n",
    "df['screen_size_inches_clean'].describe()"
   ],
   "id": "77a42567fc41758c",
   "outputs": [
    {
     "data": {
      "text/plain": [
       "shape: (9, 2)\n",
       "┌────────────┬───────────┐\n",
       "│ statistic  ┆ value     │\n",
       "│ ---        ┆ ---       │\n",
       "│ str        ┆ f64       │\n",
       "╞════════════╪═══════════╡\n",
       "│ count      ┆ 2653.0    │\n",
       "│ null_count ┆ 1822.0    │\n",
       "│ mean       ┆ 13.802545 │\n",
       "│ std        ┆ 1.613322  │\n",
       "│ min        ┆ 2.0       │\n",
       "│ 25%        ┆ 13.0      │\n",
       "│ 50%        ┆ 14.0      │\n",
       "│ 75%        ┆ 15.0      │\n",
       "│ max        ┆ 18.4      │\n",
       "└────────────┴───────────┘"
      ],
      "text/html": [
       "<div><style>\n",
       ".dataframe > thead > tr,\n",
       ".dataframe > tbody > tr {\n",
       "  text-align: right;\n",
       "  white-space: pre-wrap;\n",
       "}\n",
       "</style>\n",
       "<small>shape: (9, 2)</small><table border=\"1\" class=\"dataframe\"><thead><tr><th>statistic</th><th>value</th></tr><tr><td>str</td><td>f64</td></tr></thead><tbody><tr><td>&quot;count&quot;</td><td>2653.0</td></tr><tr><td>&quot;null_count&quot;</td><td>1822.0</td></tr><tr><td>&quot;mean&quot;</td><td>13.802545</td></tr><tr><td>&quot;std&quot;</td><td>1.613322</td></tr><tr><td>&quot;min&quot;</td><td>2.0</td></tr><tr><td>&quot;25%&quot;</td><td>13.0</td></tr><tr><td>&quot;50%&quot;</td><td>14.0</td></tr><tr><td>&quot;75%&quot;</td><td>15.0</td></tr><tr><td>&quot;max&quot;</td><td>18.4</td></tr></tbody></table></div>"
      ]
     },
     "execution_count": 49,
     "metadata": {},
     "output_type": "execute_result"
    }
   ],
   "execution_count": 49
  },
  {
   "metadata": {},
   "cell_type": "markdown",
   "source": [
    "Observations:\n",
    "- **Narrower distribution**: The new statistics show a mean of `13.81` inches with a standard deviation of `1.61` inches. This is an **HIGH REDUCTION** in variability, particularly compared to the previous standard deviation of `24.22` inches. This suggests that removing extreme outliers has led to a more consistent and predictable distribution of screen sizes."
   ],
   "id": "bffc826e3bcf2920"
  },
  {
   "metadata": {},
   "cell_type": "markdown",
   "source": [
    "## Cleaning `manufacturer_color` & `color`\n",
    "Manufacturer color consists of the color specified by the laptop manufacturer. By analyzing the value counts in the `manufacturer_color` column, we can visualize that:\n",
    "- Manufacturer color is almost composed entirely of `NULL` values, with 97% of its values being null.\n",
    "- Some entries represent multiple colors in a single field (e.g: `Black & Silver`).\n",
    "- Most entries have very little frequency, appearing a single time in the entire column. These rare values might be considered noise (and grouped into a rare label category, such as `rare` or `other`) or might to be grouped into broader categories by using the color label (such as grouping `Mica Silver` and `Ice Blue` into a broader `Blue` category)."
   ],
   "id": "27fec65eb7c62d0d"
  },
  {
   "metadata": {
    "ExecuteTime": {
     "end_time": "2025-04-04T01:26:29.989068Z",
     "start_time": "2025-04-04T01:26:29.984760Z"
    }
   },
   "cell_type": "code",
   "source": [
    "# Color value counts and their proportion\n",
    "value_counts_with_proportion(df['manufacturer_color'])"
   ],
   "id": "b23c94934efbaf",
   "outputs": [
    {
     "data": {
      "text/plain": [
       "shape: (51, 3)\n",
       "┌─────────────────────────────────┬───────┬────────────┐\n",
       "│ manufacturer_color              ┆ count ┆ proportion │\n",
       "│ ---                             ┆ ---   ┆ ---        │\n",
       "│ str                             ┆ u32   ┆ f64        │\n",
       "╞═════════════════════════════════╪═══════╪════════════╡\n",
       "│ null                            ┆ 4330  ┆ 0.97       │\n",
       "│ Black                           ┆ 37    ┆ 0.01       │\n",
       "│ Silver                          ┆ 29    ┆ 0.01       │\n",
       "│ Gray                            ┆ 8     ┆ 0.0        │\n",
       "│ Natural Silver                  ┆ 6     ┆ 0.0        │\n",
       "│ …                               ┆ …     ┆ …          │\n",
       "│ Titanium Gray                   ┆ 1     ┆ 0.0        │\n",
       "│ Peacock Teal                    ┆ 1     ┆ 0.0        │\n",
       "│ Royal Blue                      ┆ 1     ┆ 0.0        │\n",
       "│ Steel Gray                      ┆ 1     ┆ 0.0        │\n",
       "│ Scarlet red cover and base, na… ┆ 1     ┆ 0.0        │\n",
       "└─────────────────────────────────┴───────┴────────────┘"
      ],
      "text/html": [
       "<div><style>\n",
       ".dataframe > thead > tr,\n",
       ".dataframe > tbody > tr {\n",
       "  text-align: right;\n",
       "  white-space: pre-wrap;\n",
       "}\n",
       "</style>\n",
       "<small>shape: (51, 3)</small><table border=\"1\" class=\"dataframe\"><thead><tr><th>manufacturer_color</th><th>count</th><th>proportion</th></tr><tr><td>str</td><td>u32</td><td>f64</td></tr></thead><tbody><tr><td>null</td><td>4330</td><td>0.97</td></tr><tr><td>&quot;Black&quot;</td><td>37</td><td>0.01</td></tr><tr><td>&quot;Silver&quot;</td><td>29</td><td>0.01</td></tr><tr><td>&quot;Gray&quot;</td><td>8</td><td>0.0</td></tr><tr><td>&quot;Natural Silver&quot;</td><td>6</td><td>0.0</td></tr><tr><td>&hellip;</td><td>&hellip;</td><td>&hellip;</td></tr><tr><td>&quot;Titanium Gray&quot;</td><td>1</td><td>0.0</td></tr><tr><td>&quot;Peacock Teal&quot;</td><td>1</td><td>0.0</td></tr><tr><td>&quot;Royal Blue&quot;</td><td>1</td><td>0.0</td></tr><tr><td>&quot;Steel Gray&quot;</td><td>1</td><td>0.0</td></tr><tr><td>&quot;Scarlet red cover and base, na…</td><td>1</td><td>0.0</td></tr></tbody></table></div>"
      ]
     },
     "execution_count": 50,
     "metadata": {},
     "output_type": "execute_result"
    }
   ],
   "execution_count": 50
  },
  {
   "metadata": {},
   "cell_type": "markdown",
   "source": [
    "Observations:\n",
    "- **Almost all data is NULL**: The `manufacturer_color` column contains a large amount of missing data, with 6435 instances marked as `null`, representing 97% of the dataset. This makes the variable have very little influence for further analysis or modeling techniques.\n",
    "- **Diverse color variants**: The column contains various color names with different variations and formats, such as `Black & Silver` and `Matte Black`, as well as entries like `Iron Grey, Ice Blue` and `Scarlet red cover and base, natural silver keyboard frame` which suggest complex multi-color or detailed descriptions. These need to be **STANDARDIZED FOR CONSISTENCY**.\n",
    "- **Low Frequency Entries**: A significant number of color values appear only once or twice. These rare values might be considered noise or need to be grouped into broader categories to improve the utility of this feature for analysis or modeling.\n"
   ],
   "id": "1e6ca1ef191c9016"
  },
  {
   "metadata": {},
   "cell_type": "markdown",
   "source": [
    "Similarly, `color` consists of the actual color of the laptop as listed by the seller. By analyzing the value counts in the `color` column, we can visualize that:\n",
    "- Color is currently a variable with a high number of nulls, which compose approx. 68% of the column.\n",
    "- Color contains data in spanish, as evidenced by some of its values: `borgoña` (burgundy), `blanco` (white) or `negro` (black).\n",
    "- Some entries represent multiple colors in a single field (e.g: `Black/ Blue / Sandtone / Platinum`)."
   ],
   "id": "eb524a3ca2d36286"
  },
  {
   "metadata": {
    "ExecuteTime": {
     "end_time": "2025-04-04T01:26:30.174235Z",
     "start_time": "2025-04-04T01:26:30.169993Z"
    }
   },
   "cell_type": "code",
   "source": [
    "# Color value counts and their proportion\n",
    "value_counts_with_proportion(df['color'])"
   ],
   "id": "9ca60779598fea06",
   "outputs": [
    {
     "data": {
      "text/plain": [
       "shape: (83, 3)\n",
       "┌───────────────────┬───────┬────────────┐\n",
       "│ color             ┆ count ┆ proportion │\n",
       "│ ---               ┆ ---   ┆ ---        │\n",
       "│ str               ┆ u32   ┆ f64        │\n",
       "╞═══════════════════╪═══════╪════════════╡\n",
       "│ null              ┆ 2816  ┆ 0.63       │\n",
       "│ Black             ┆ 792   ┆ 0.18       │\n",
       "│ Silver            ┆ 305   ┆ 0.07       │\n",
       "│ Gray              ┆ 191   ┆ 0.04       │\n",
       "│ Negro             ┆ 158   ┆ 0.04       │\n",
       "│ …                 ┆ …     ┆ …          │\n",
       "│ Gray / Silver     ┆ 1     ┆ 0.0        │\n",
       "│ Black/Red         ┆ 1     ┆ 0.0        │\n",
       "│ Fog Blue Aluminum ┆ 1     ┆ 0.0        │\n",
       "│ Black / Silver    ┆ 1     ┆ 0.0        │\n",
       "│ STEEL GRAY        ┆ 1     ┆ 0.0        │\n",
       "└───────────────────┴───────┴────────────┘"
      ],
      "text/html": [
       "<div><style>\n",
       ".dataframe > thead > tr,\n",
       ".dataframe > tbody > tr {\n",
       "  text-align: right;\n",
       "  white-space: pre-wrap;\n",
       "}\n",
       "</style>\n",
       "<small>shape: (83, 3)</small><table border=\"1\" class=\"dataframe\"><thead><tr><th>color</th><th>count</th><th>proportion</th></tr><tr><td>str</td><td>u32</td><td>f64</td></tr></thead><tbody><tr><td>null</td><td>2816</td><td>0.63</td></tr><tr><td>&quot;Black&quot;</td><td>792</td><td>0.18</td></tr><tr><td>&quot;Silver&quot;</td><td>305</td><td>0.07</td></tr><tr><td>&quot;Gray&quot;</td><td>191</td><td>0.04</td></tr><tr><td>&quot;Negro&quot;</td><td>158</td><td>0.04</td></tr><tr><td>&hellip;</td><td>&hellip;</td><td>&hellip;</td></tr><tr><td>&quot;Gray / Silver&quot;</td><td>1</td><td>0.0</td></tr><tr><td>&quot;Black/Red&quot;</td><td>1</td><td>0.0</td></tr><tr><td>&quot;Fog Blue Aluminum&quot;</td><td>1</td><td>0.0</td></tr><tr><td>&quot;Black / Silver&quot;</td><td>1</td><td>0.0</td></tr><tr><td>&quot;STEEL GRAY&quot;</td><td>1</td><td>0.0</td></tr></tbody></table></div>"
      ]
     },
     "execution_count": 51,
     "metadata": {},
     "output_type": "execute_result"
    }
   ],
   "execution_count": 51
  },
  {
   "metadata": {},
   "cell_type": "markdown",
   "source": [
    "Observations:\n",
    "- **Missing Data**: A significant portion of the data is missing, with 68% of instances marked as `null`. This indicates that a large part of the `color` information is unavailable, which may require additional cleaning, maybe imputation strategies, to handle effectively.\n",
    "- **Different Languages**: The `color` column includes color names in spanish, such as `Negro` (Spanish for black) and `Gris` (Spanish for gray), as well as English terms like `Carbon Black` and `Silver`. This inconsistency in language could lead to confusion in analysis or models, and standardizing the language or grouping similar colors may be beneficial.\n",
    "- **Multiple Colors**: Some entries, like `Black/ Blue / Sandtone / Platinum` or `Multicolor`, represent multiple colors in a single field. These values may need to be split into individual colors or categorized into a broader \"multicolor\" group to maintain consistency and facilitate analysis."
   ],
   "id": "a5d208b9ec7eb8cb"
  },
  {
   "metadata": {},
   "cell_type": "markdown",
   "source": [
    "### **Reformatting `manufacturer_color`:**\n",
    "In this step of our analysis, we're focusing on cleaning up and standardizing the `manufacturer_color` data to ensure consistency and accuracy.\n",
    "- **Reducing cardinality:** The color data may contain variations or inconsistencies in how colors are labeled (e.g., `multi-color` vs. `multicolor`). We address this by grouping similar colors under consistent labels, reducing the number of unique color categories. We also map color variations (e.g, `sky blue`, `light blue`) to a single color (`blue`).\n",
    "- **Standardizing format:** Check whether the color listed for each item matches a set of predefined valid colors. Ensures that all color data follows a consistent format."
   ],
   "id": "4ad24a979043c5cb"
  },
  {
   "metadata": {
    "ExecuteTime": {
     "end_time": "2025-04-04T01:26:30.486660Z",
     "start_time": "2025-04-04T01:26:30.482867Z"
    }
   },
   "cell_type": "code",
   "source": [
    "def fetch_valid_colors_list() -> list[str]:\n",
    "    \"\"\"\n",
    "    Retrieves a list of valid color values used for consistency checks.\n",
    "\n",
    "    This function returns a predefined list of color names in lowercase, representing common colors\n",
    "    used in product descriptions, inventory management, or other applications requiring color categorization.\n",
    "    The list ensures that color values are consistent across various data entries and avoids discrepancies\n",
    "    in color terminology.\n",
    "\n",
    "    Returns:\n",
    "        list[str]: A list of valid color values as strings.\n",
    "\n",
    "    Example:\n",
    "        >>> valid_colors = fetch_valid_colors_list()\n",
    "        >>> valid_colors\n",
    "        ['beige', 'black', 'blue', 'bronze', 'brown', 'burgundy', 'gold', 'gray', 'green', 'grey',\n",
    "        'orange', 'pink', 'platinum', 'purple', 'red', 'silver', 'teal', 'white', 'yellow']\n",
    "    \"\"\"\n",
    "    return [\n",
    "        'beige', 'black', 'blue', 'bronze', 'brown', 'burgundy', 'gold', 'gray', 'green', 'grey',\n",
    "        'orange', 'pink', 'platinum', 'purple', 'red', 'silver', 'teal', 'white', 'yellow'\n",
    "    ]\n",
    "\n",
    "\n",
    "def fetch__spanish_to_english_colors_translation() -> dict[str, str]:\n",
    "    \"\"\"\n",
    "    Retrieves the Spanish-to-English translation map for color names.\n",
    "\n",
    "    This function returns a dictionary where the keys are color names in Spanish and the values\n",
    "    are their corresponding English color names. The map is useful for translating Spanish color inputs\n",
    "    into their standard English representations, ensuring consistency and clarity when working with bilingual\n",
    "    or internationalized data.\n",
    "\n",
    "    Returns:\n",
    "        dict[str, str]: A dictionary mapping Spanish color names to their English equivalents.\n",
    "\n",
    "    Example:\n",
    "        >>> colors_translation = fetch__spanish_to_english_colors_translation()\n",
    "        >>> colors_translation['negro']\n",
    "        'black'\n",
    "    \"\"\"\n",
    "    return {\n",
    "        'negro': 'black',\n",
    "        'borgoña': 'burgundy',\n",
    "        'platino': 'platinum',\n",
    "        'gris': 'grey',\n",
    "        'blanco': 'white',\n",
    "        'plata transparente': 'transparent silver',\n",
    "    }\n",
    "\n",
    "\n",
    "def fetch_default_color_replace_map() -> dict[str, str]:\n",
    "    \"\"\"\n",
    "    Retrieves the color replacement map for various shorthand or alternative color representations.\n",
    "\n",
    "    This function returns a dictionary where keys represent color names in shorthand or variant forms,\n",
    "    and values represent the standardized color names. The map includes commonly used abbreviations as well\n",
    "    as Spanish-to-English translations to ensure consistency across different color-related data entries.\n",
    "    This map is essential for normalizing color inputs and improving data consistency in applications requiring\n",
    "    standardized color representations.\n",
    "\n",
    "    Returns:\n",
    "        dict[str, str]: A dictionary mapping color shorthands or variants to standardized color names.\n",
    "\n",
    "    Example:\n",
    "        >>> color_replace_map = fetch_default_color_replace_map()\n",
    "        >>> color_replace_map['blk']\n",
    "        'black'\n",
    "        >>> color_replace_map['multi']\n",
    "        'multicolor'\n",
    "    \"\"\"\n",
    "    return {\n",
    "        'multi': 'multicolor',\n",
    "        'multi-color': 'multicolor',\n",
    "        'blk': 'black',\n",
    "        **fetch__spanish_to_english_colors_translation(),\n",
    "    }\n"
   ],
   "id": "452bed20d6300232",
   "outputs": [],
   "execution_count": 52
  },
  {
   "metadata": {
    "ExecuteTime": {
     "end_time": "2025-04-04T01:26:30.766397Z",
     "start_time": "2025-04-04T01:26:30.761064Z"
    }
   },
   "cell_type": "code",
   "source": [
    "def clean_colors(color: str, valid_colors_list: list[str] = None) -> str:\n",
    "    \"\"\"\n",
    "    Cleans and categorizes the input color string based on a predefined list of valid colors.\n",
    "\n",
    "    This function processes the input color string (`color`) to determine its category based on matching\n",
    "    valid color values. It performs the following checks:\n",
    "    - If the input color string matches multiple valid colors, it returns 'multicolor'.\n",
    "    - If it matches exactly one valid color, it returns that specific color (e.g., 'red').\n",
    "    - If no valid colors are found, it returns 'other'.\n",
    "\n",
    "    The function is useful for standardizing and categorizing color values, especially when handling product descriptions,\n",
    "    inventory data, or user inputs with potentially varied or unstandardized color names.\n",
    "\n",
    "    Args:\n",
    "        color (str): The input color string to be cleaned and categorized. It may include color names in different formats or case.\n",
    "        valid_colors_list (list[str], optional): A list of valid color values to check against. If not provided, the function uses\n",
    "                                                  the `valid_color_values` list returned by `fetch_valid_colors_list()`.\n",
    "\n",
    "    Returns:\n",
    "        str: The cleaned and categorized color. Possible values are:\n",
    "             - A valid color name from the `valid_colors_list` (e.g., 'red')\n",
    "             - 'multicolor' if multiple valid colors are found in the input\n",
    "             - 'other' if no valid color matches.\n",
    "\n",
    "    Example:\n",
    "        >>> clean_colors('Red and black shoes')\n",
    "        'multicolor'\n",
    "        >>> clean_colors('Pink', fetch_valid_colors_list())\n",
    "        'pink'\n",
    "        >>> clean_colors('Sky Blue')\n",
    "        'blue'\n",
    "    \"\"\"\n",
    "    if valid_colors_list is None:\n",
    "        valid_colors_list = fetch_valid_colors_list()\n",
    "\n",
    "    color_count = sum(1 for c in valid_colors_list if c in color.lower())\n",
    "\n",
    "    if color_count > 1:\n",
    "        return 'multicolor'\n",
    "    elif color_count == 1:\n",
    "        return next((c for c in valid_colors_list if c in color.lower()), 'other')\n",
    "    else:\n",
    "        return 'other'\n",
    "\n",
    "\n",
    "def get_valid_color_string_pattern() -> str:\n",
    "    \"\"\"\n",
    "    Generates a regular expression pattern to match valid color names.\n",
    "\n",
    "    This function constructs a regular expression pattern by joining all valid color names\n",
    "    (fetched from `fetch_valid_colors_list`) using the `|` (OR) operator. The result is a pattern\n",
    "    that can be used to match any of the valid color names in a string, ensuring that only recognized\n",
    "    colors are identified.\n",
    "\n",
    "    The function also escapes special characters in the color names to ensure they are treated as literal\n",
    "    values in the regular expression.\n",
    "\n",
    "    Returns:\n",
    "        str: A regular expression pattern that matches any valid color name.\n",
    "\n",
    "    Example:\n",
    "        >>> pattern = get_valid_color_string_pattern()\n",
    "        >>> pattern\n",
    "        'beige|black|blue|bronze|brown|burgundy|gold|gray|green|grey|orange|pink|platinum|purple|red|silver|teal|white|yellow'\n",
    "    \"\"\"\n",
    "    return \"|\".join(re.escape(color) for color in fetch_valid_colors_list())\n",
    "\n",
    "\n",
    "def clean_colors_with_multicolor_and_rare_encoding(\n",
    "        colors: pl.Expr,\n",
    "        color_cleaning_function: Callable[[Any], Any] = clean_colors,\n",
    "        multicolor_label: str = 'multicolor',\n",
    "        rare_label: str = 'other',\n",
    "        valid_color_string_pattern: str = get_valid_color_string_pattern(),\n",
    "        return_dtype: pl.DataType = pl.Utf8,\n",
    ") -> pl.Expr:\n",
    "    \"\"\"\n",
    "    Cleans and classifies color values into valid colors, multicolor, or rare categories.\n",
    "\n",
    "    This function processes a series of color values by first checking if they match a\n",
    "    valid color pattern. If they do, it applies the provided color cleaning function to\n",
    "    standardize the color value. If the color is a valid single color, it returns the cleaned color.\n",
    "    If the color is 'multicolor', it returns the label for multicolor. Any other colors or invalid\n",
    "    values are classified as 'rare' and assigned a specified rare label.\n",
    "\n",
    "    Args:\n",
    "        colors (pl.Expr): A Polars expression representing the series of color values to be processed.\n",
    "        color_cleaning_function (Callable[[Any], Any], optional): A function to clean or standardize valid color values.\n",
    "            Defaults to `clean_colors`.\n",
    "        multicolor_label (str, optional): The label used for multicolor values. Defaults to 'multicolor'.\n",
    "        rare_label (str, optional): The label used for colors that don't match the valid or multicolor criteria. Defaults to 'other'.\n",
    "        valid_color_string_pattern (str, optional): A regex pattern used to validate the color strings. Defaults to `get_valid_color_string_pattern()`.\n",
    "        return_dtype (pl.DataType, optional): The data type to return after the color cleaning. Defaults to `pl.Utf8` (string).\n",
    "\n",
    "    Returns:\n",
    "        pl.Expr: A Polars expression with the cleaned and labeled color values, either valid color, multicolor, or rare.\n",
    "\n",
    "    Example:\n",
    "        >>> cleaned_colors = clean_colors_with_multicolor_and_rare_encoding(colors)\n",
    "        >>> cleaned_colors\n",
    "        <Polars expression with cleaned and labeled colors>\n",
    "    \"\"\"\n",
    "    return pl.coalesce(\n",
    "        # If color is valid then apply the `clean_color` function, and map its value to a valid color, multicolor or other (rare label, for invalid color categories)\n",
    "        pl.when(colors.str.contains(valid_color_string_pattern))\n",
    "        .then(colors.map_elements(color_cleaning_function, return_dtype=return_dtype)),\n",
    "        # If color value is set to multicolor, then return multicolor\n",
    "        pl.when(colors.eq(multicolor_label))\n",
    "        .then(pl.lit(multicolor_label))\n",
    "        # If value is not multicolor nor a single color,then assign it to `other`\n",
    "        .otherwise(pl.lit(rare_label))\n",
    "    )\n"
   ],
   "id": "fdb9df01cfded863",
   "outputs": [],
   "execution_count": 53
  },
  {
   "metadata": {
    "ExecuteTime": {
     "end_time": "2025-04-04T01:26:30.893221Z",
     "start_time": "2025-04-04T01:26:30.885668Z"
    }
   },
   "cell_type": "code",
   "source": [
    "# Prepare the color column by converting to lowercase and applying the color replacements\n",
    "manufacturer_color_reformatted = (\n",
    "    pl.col('manufacturer_color')\n",
    "    .str.to_lowercase()\n",
    "    .replace(fetch_default_color_replace_map())\n",
    ")\n",
    "\n",
    "df = df.with_columns(\n",
    "    clean_colors_with_multicolor_and_rare_encoding(colors=manufacturer_color_reformatted)\n",
    "    .str.replace('grey',\n",
    "                 'gray')  # Naturally, we need to map grey to gray (or vice versa) as it represents the same color\n",
    "    .cast(pl.Categorical) # Casting to categorical data type\n",
    "    .alias('manufacturer_color_clean')\n",
    ")\n",
    "\n",
    "# Printing the unique values for our new manufacturer color clean variable.\n",
    "print_series(df['manufacturer_color_clean'], unique=True)"
   ],
   "id": "4ea4e9042bf766d2",
   "outputs": [
    {
     "name": "stdout",
     "output_type": "stream",
     "text": [
      "Series Shape: (4475,)\n",
      "Series Type: Categorical(ordering='physical')\n"
     ]
    },
    {
     "data": {
      "text/plain": [
       "shape: (8,)\n",
       "Series: 'manufacturer_color_clean' [cat]\n",
       "[\n",
       "\t\"other\"\n",
       "\t\"black\"\n",
       "\t\"silver\"\n",
       "\t\"gray\"\n",
       "\t\"multicolor\"\n",
       "\t\"blue\"\n",
       "\t\"teal\"\n",
       "\t\"platinum\"\n",
       "]"
      ],
      "text/html": [
       "<div><style>\n",
       ".dataframe > thead > tr,\n",
       ".dataframe > tbody > tr {\n",
       "  text-align: right;\n",
       "  white-space: pre-wrap;\n",
       "}\n",
       "</style>\n",
       "<small>shape: (8,)</small><table border=\"1\" class=\"dataframe\"><thead><tr><th>manufacturer_color_clean</th></tr><tr><td>cat</td></tr></thead><tbody><tr><td>&quot;other&quot;</td></tr><tr><td>&quot;black&quot;</td></tr><tr><td>&quot;silver&quot;</td></tr><tr><td>&quot;gray&quot;</td></tr><tr><td>&quot;multicolor&quot;</td></tr><tr><td>&quot;blue&quot;</td></tr><tr><td>&quot;teal&quot;</td></tr><tr><td>&quot;platinum&quot;</td></tr></tbody></table></div>"
      ]
     },
     "metadata": {},
     "output_type": "display_data"
    }
   ],
   "execution_count": 54
  },
  {
   "metadata": {},
   "cell_type": "markdown",
   "source": "We further inspect the original unique values of the `manufacturer_color` column, and its correspondent mapping in `manufacturer_color_clean`:",
   "id": "73e090dd2977ed44"
  },
  {
   "metadata": {
    "ExecuteTime": {
     "end_time": "2025-04-04T01:26:31.112622Z",
     "start_time": "2025-04-04T01:26:31.107878Z"
    }
   },
   "cell_type": "code",
   "source": [
    "# Taking a look at all the transformed color labels\n",
    "df.select(\n",
    "    'manufacturer_color', 'manufacturer_color_clean',\n",
    ").unique(\n",
    "    subset='manufacturer_color',\n",
    "    maintain_order=True,\n",
    ").sort(\n",
    "    by='manufacturer_color',\n",
    ").transpose(\n",
    "    include_header=True,\n",
    "    header_name='column_name',\n",
    ")"
   ],
   "id": "709b3972686a4a02",
   "outputs": [
    {
     "data": {
      "text/plain": [
       "shape: (2, 52)\n",
       "┌────────────┬──────────┬──────────┬──────────┬───┬────────────┬───────────┬───────────┬───────────┐\n",
       "│ column_nam ┆ column_0 ┆ column_1 ┆ column_2 ┆ … ┆ column_47  ┆ column_48 ┆ column_49 ┆ column_50 │\n",
       "│ e          ┆ ---      ┆ ---      ┆ ---      ┆   ┆ ---        ┆ ---       ┆ ---       ┆ ---       │\n",
       "│ ---        ┆ str      ┆ str      ┆ str      ┆   ┆ str        ┆ str       ┆ str       ┆ str       │\n",
       "│ str        ┆          ┆          ┆          ┆   ┆            ┆           ┆           ┆           │\n",
       "╞════════════╪══════════╪══════════╪══════════╪═══╪════════════╪═══════════╪═══════════╪═══════════╡\n",
       "│ manufactur ┆ null     ┆ 3000     ┆ 5000     ┆ … ┆ Titanium   ┆ Yes       ┆ black     ┆ onyx      │\n",
       "│ er_color   ┆          ┆          ┆          ┆   ┆ Gray       ┆           ┆           ┆ black     │\n",
       "│ manufactur ┆ other    ┆ other    ┆ other    ┆ … ┆ gray       ┆ other     ┆ black     ┆ black     │\n",
       "│ er_color_c ┆          ┆          ┆          ┆   ┆            ┆           ┆           ┆           │\n",
       "│ lean       ┆          ┆          ┆          ┆   ┆            ┆           ┆           ┆           │\n",
       "└────────────┴──────────┴──────────┴──────────┴───┴────────────┴───────────┴───────────┴───────────┘"
      ],
      "text/html": [
       "<div><style>\n",
       ".dataframe > thead > tr,\n",
       ".dataframe > tbody > tr {\n",
       "  text-align: right;\n",
       "  white-space: pre-wrap;\n",
       "}\n",
       "</style>\n",
       "<small>shape: (2, 52)</small><table border=\"1\" class=\"dataframe\"><thead><tr><th>column_name</th><th>column_0</th><th>column_1</th><th>column_2</th><th>column_3</th><th>column_4</th><th>column_5</th><th>column_6</th><th>column_7</th><th>column_8</th><th>column_9</th><th>column_10</th><th>column_11</th><th>column_12</th><th>column_13</th><th>column_14</th><th>column_15</th><th>column_16</th><th>column_17</th><th>column_18</th><th>column_19</th><th>column_20</th><th>column_21</th><th>column_22</th><th>column_23</th><th>column_24</th><th>column_25</th><th>column_26</th><th>column_27</th><th>column_28</th><th>column_29</th><th>column_30</th><th>column_31</th><th>column_32</th><th>column_33</th><th>column_34</th><th>column_35</th><th>column_36</th><th>column_37</th><th>column_38</th><th>column_39</th><th>column_40</th><th>column_41</th><th>column_42</th><th>column_43</th><th>column_44</th><th>column_45</th><th>column_46</th><th>column_47</th><th>column_48</th><th>column_49</th><th>column_50</th></tr><tr><td>str</td><td>str</td><td>str</td><td>str</td><td>str</td><td>str</td><td>str</td><td>str</td><td>str</td><td>str</td><td>str</td><td>str</td><td>str</td><td>str</td><td>str</td><td>str</td><td>str</td><td>str</td><td>str</td><td>str</td><td>str</td><td>str</td><td>str</td><td>str</td><td>str</td><td>str</td><td>str</td><td>str</td><td>str</td><td>str</td><td>str</td><td>str</td><td>str</td><td>str</td><td>str</td><td>str</td><td>str</td><td>str</td><td>str</td><td>str</td><td>str</td><td>str</td><td>str</td><td>str</td><td>str</td><td>str</td><td>str</td><td>str</td><td>str</td><td>str</td><td>str</td><td>str</td></tr></thead><tbody><tr><td>&quot;manufacturer_color&quot;</td><td>null</td><td>&quot;3000&quot;</td><td>&quot;5000&quot;</td><td>&quot;Abyss Blue&quot;</td><td>&quot;Arctic Gray&quot;</td><td>&quot;Black&quot;</td><td>&quot;Black &amp; Silver&quot;</td><td>&quot;Brushed Black&quot;</td><td>&quot;Carbon Black&quot;</td><td>&quot;Dark Teal&quot;</td><td>&quot;Deep Black&quot;</td><td>&quot;Graphite Black&quot;</td><td>&quot;Graphite Gray&quot;</td><td>&quot;Gray&quot;</td><td>&quot;Gray / Black&quot;</td><td>&quot;Grey&quot;</td><td>&quot;Ice Blue/Iron Gray&quot;</td><td>&quot;Iron Grey&quot;</td><td>&quot;Iron Grey, Ice Blue&quot;</td><td>&quot;Jet Black&quot;</td><td>&quot;Matte Black&quot;</td><td>&quot;Mica Silver&quot;</td><td>&quot;Mineral Silver&quot;</td><td>&quot;Moonstone Grey&quot;</td><td>&quot;Natural Silver&quot;</td><td>&quot;Neptune Blue&quot;</td><td>&quot;Nightfall Black&quot;</td><td>&quot;Peacock Teal&quot;</td><td>&quot;Performance Blue&quot;</td><td>&quot;Phantom Black&quot;</td><td>&quot;Phantom Gray&quot;</td><td>&quot;Platinum&quot;</td><td>&quot;Platinum Gray&quot;</td><td>&quot;Platinum Grey&quot;</td><td>&quot;Platinum Silver&quot;</td><td>&quot;Poseidon Blue&quot;</td><td>&quot;Prism Black&quot;</td><td>&quot;Pure Silver&quot;</td><td>&quot;Royal Blue&quot;</td><td>&quot;Sandstone&quot;</td><td>&quot;Scarlet red cover and base, na…</td><td>&quot;Silver&quot;</td><td>&quot;Silver/Grey&quot;</td><td>&quot;Sky&quot;</td><td>&quot;Space Gray&quot;</td><td>&quot;Steel Gray&quot;</td><td>&quot;Storm Gray&quot;</td><td>&quot;Titanium Gray&quot;</td><td>&quot;Yes&quot;</td><td>&quot;black&quot;</td><td>&quot;onyx black&quot;</td></tr><tr><td>&quot;manufacturer_color_clean&quot;</td><td>&quot;other&quot;</td><td>&quot;other&quot;</td><td>&quot;other&quot;</td><td>&quot;blue&quot;</td><td>&quot;gray&quot;</td><td>&quot;black&quot;</td><td>&quot;multicolor&quot;</td><td>&quot;black&quot;</td><td>&quot;black&quot;</td><td>&quot;teal&quot;</td><td>&quot;black&quot;</td><td>&quot;black&quot;</td><td>&quot;gray&quot;</td><td>&quot;gray&quot;</td><td>&quot;multicolor&quot;</td><td>&quot;gray&quot;</td><td>&quot;multicolor&quot;</td><td>&quot;gray&quot;</td><td>&quot;multicolor&quot;</td><td>&quot;black&quot;</td><td>&quot;black&quot;</td><td>&quot;silver&quot;</td><td>&quot;silver&quot;</td><td>&quot;gray&quot;</td><td>&quot;silver&quot;</td><td>&quot;blue&quot;</td><td>&quot;black&quot;</td><td>&quot;teal&quot;</td><td>&quot;blue&quot;</td><td>&quot;black&quot;</td><td>&quot;gray&quot;</td><td>&quot;platinum&quot;</td><td>&quot;multicolor&quot;</td><td>&quot;multicolor&quot;</td><td>&quot;multicolor&quot;</td><td>&quot;blue&quot;</td><td>&quot;black&quot;</td><td>&quot;silver&quot;</td><td>&quot;blue&quot;</td><td>&quot;other&quot;</td><td>&quot;multicolor&quot;</td><td>&quot;silver&quot;</td><td>&quot;multicolor&quot;</td><td>&quot;other&quot;</td><td>&quot;gray&quot;</td><td>&quot;gray&quot;</td><td>&quot;gray&quot;</td><td>&quot;gray&quot;</td><td>&quot;other&quot;</td><td>&quot;black&quot;</td><td>&quot;black&quot;</td></tr></tbody></table></div>"
      ]
     },
     "execution_count": 55,
     "metadata": {},
     "output_type": "execute_result"
    }
   ],
   "execution_count": 55
  },
  {
   "metadata": {},
   "cell_type": "markdown",
   "source": [
    "### **Reformatting `color`:**\n",
    "We do similarly with `color` as we did with `manufacturer_color` by translating, reducing cardinality and standardizing its format in the following manner:\n",
    "- **Translating from Spanish to English:** We translate color names from Spanish to English to ensure that all color information is standardized, regardless of the language it was originally provided in.\n",
    "- **Reducing cardinality:** The color data may contain variations or inconsistencies in how colors are labeled (e.g., `multi-color` vs. `multicolor`). We address this by grouping similar colors under consistent labels, reducing the number of unique color categories. We also map color variations (e.g, `sky blue`, `light blue`) to a single color (`blue`).\n",
    "- **Standardizing format:** check whether the color listed for each item matches a set of predefined valid colors. Ensures that all color data follows a consistent format."
   ],
   "id": "53e2234dd918f7fc"
  },
  {
   "metadata": {
    "ExecuteTime": {
     "end_time": "2025-04-04T01:26:31.332151Z",
     "start_time": "2025-04-04T01:26:31.315253Z"
    }
   },
   "cell_type": "code",
   "source": [
    "# Prepare the color column by converting to lowercase and applying the color replacements\n",
    "color_reformatted = (\n",
    "    pl.col('color')\n",
    "    .str.to_lowercase()\n",
    "    .replace(fetch_default_color_replace_map())\n",
    ")\n",
    "\n",
    "df = df.with_columns(\n",
    "    clean_colors_with_multicolor_and_rare_encoding(colors=color_reformatted)\n",
    "    .str.replace('grey',\n",
    "                 'gray')  # Naturally, we need to map grey to gray (or vice versa) as it represents the same color\n",
    "    .cast(pl.Categorical) # Casting to categorical data type\n",
    "    .alias('color_clean')\n",
    ")\n",
    "\n",
    "print_series(df['color_clean'], unique=True)"
   ],
   "id": "d5ba306c70b2812c",
   "outputs": [
    {
     "name": "stdout",
     "output_type": "stream",
     "text": [
      "Series Shape: (4475,)\n",
      "Series Type: Categorical(ordering='physical')\n"
     ]
    },
    {
     "data": {
      "text/plain": [
       "shape: (10,)\n",
       "Series: 'color_clean' [cat]\n",
       "[\n",
       "\t\"other\"\n",
       "\t\"gray\"\n",
       "\t\"black\"\n",
       "\t\"silver\"\n",
       "\t\"multicolor\"\n",
       "\t\"blue\"\n",
       "\t\"white\"\n",
       "\t\"yellow\"\n",
       "\t\"teal\"\n",
       "\t\"brown\"\n",
       "]"
      ],
      "text/html": [
       "<div><style>\n",
       ".dataframe > thead > tr,\n",
       ".dataframe > tbody > tr {\n",
       "  text-align: right;\n",
       "  white-space: pre-wrap;\n",
       "}\n",
       "</style>\n",
       "<small>shape: (10,)</small><table border=\"1\" class=\"dataframe\"><thead><tr><th>color_clean</th></tr><tr><td>cat</td></tr></thead><tbody><tr><td>&quot;other&quot;</td></tr><tr><td>&quot;gray&quot;</td></tr><tr><td>&quot;black&quot;</td></tr><tr><td>&quot;silver&quot;</td></tr><tr><td>&quot;multicolor&quot;</td></tr><tr><td>&quot;blue&quot;</td></tr><tr><td>&quot;white&quot;</td></tr><tr><td>&quot;yellow&quot;</td></tr><tr><td>&quot;teal&quot;</td></tr><tr><td>&quot;brown&quot;</td></tr></tbody></table></div>"
      ]
     },
     "metadata": {},
     "output_type": "display_data"
    }
   ],
   "execution_count": 56
  },
  {
   "metadata": {},
   "cell_type": "markdown",
   "source": "We further inspect the original unique values of the `color` column, and its correspondent mapping in `color_clean`:",
   "id": "784212be2e1b0dfa"
  },
  {
   "metadata": {
    "ExecuteTime": {
     "end_time": "2025-04-04T01:26:31.516877Z",
     "start_time": "2025-04-04T01:26:31.511245Z"
    }
   },
   "cell_type": "code",
   "source": [
    "# Taking a look at all the transformed color labels\n",
    "df.select(\n",
    "    'color', 'color_clean',\n",
    ").unique(\n",
    "    subset='color',\n",
    "    maintain_order=True,\n",
    ").sort(\n",
    "    by='color',\n",
    ").transpose(\n",
    "    include_header=True,\n",
    "    header_name='column_name',\n",
    ")"
   ],
   "id": "ebeb5c83af38d860",
   "outputs": [
    {
     "data": {
      "text/plain": [
       "shape: (2, 84)\n",
       "┌───────────┬──────────┬───────────┬───────────┬───┬───────────┬───────────┬───────────┬───────────┐\n",
       "│ column_na ┆ column_0 ┆ column_1  ┆ column_2  ┆ … ┆ column_79 ┆ column_80 ┆ column_81 ┆ column_82 │\n",
       "│ me        ┆ ---      ┆ ---       ┆ ---       ┆   ┆ ---       ┆ ---       ┆ ---       ┆ ---       │\n",
       "│ ---       ┆ str      ┆ str       ┆ str       ┆   ┆ str       ┆ str       ┆ str       ┆ str       │\n",
       "│ str       ┆          ┆           ┆           ┆   ┆           ┆           ┆           ┆           │\n",
       "╞═══════════╪══════════╪═══════════╪═══════════╪═══╪═══════════╪═══════════╪═══════════╪═══════════╡\n",
       "│ color     ┆ null     ┆ Abyss     ┆ Arctic    ┆ … ┆ Yellow    ┆ black     ┆ borgoña   ┆ see       │\n",
       "│           ┆          ┆ Blue      ┆ Grey      ┆   ┆           ┆           ┆           ┆ pictures  │\n",
       "│ color_cle ┆ other    ┆ blue      ┆ gray      ┆ … ┆ yellow    ┆ black     ┆ burgundy  ┆ other     │\n",
       "│ an        ┆          ┆           ┆           ┆   ┆           ┆           ┆           ┆           │\n",
       "└───────────┴──────────┴───────────┴───────────┴───┴───────────┴───────────┴───────────┴───────────┘"
      ],
      "text/html": [
       "<div><style>\n",
       ".dataframe > thead > tr,\n",
       ".dataframe > tbody > tr {\n",
       "  text-align: right;\n",
       "  white-space: pre-wrap;\n",
       "}\n",
       "</style>\n",
       "<small>shape: (2, 84)</small><table border=\"1\" class=\"dataframe\"><thead><tr><th>column_name</th><th>column_0</th><th>column_1</th><th>column_2</th><th>column_3</th><th>column_4</th><th>column_5</th><th>column_6</th><th>column_7</th><th>column_8</th><th>column_9</th><th>column_10</th><th>column_11</th><th>column_12</th><th>column_13</th><th>column_14</th><th>column_15</th><th>column_16</th><th>column_17</th><th>column_18</th><th>column_19</th><th>column_20</th><th>column_21</th><th>column_22</th><th>column_23</th><th>column_24</th><th>column_25</th><th>column_26</th><th>column_27</th><th>column_28</th><th>column_29</th><th>column_30</th><th>column_31</th><th>column_32</th><th>column_33</th><th>column_34</th><th>column_35</th><th>&hellip;</th><th>column_46</th><th>column_47</th><th>column_48</th><th>column_49</th><th>column_50</th><th>column_51</th><th>column_52</th><th>column_53</th><th>column_54</th><th>column_55</th><th>column_56</th><th>column_57</th><th>column_58</th><th>column_59</th><th>column_60</th><th>column_61</th><th>column_62</th><th>column_63</th><th>column_64</th><th>column_65</th><th>column_66</th><th>column_67</th><th>column_68</th><th>column_69</th><th>column_70</th><th>column_71</th><th>column_72</th><th>column_73</th><th>column_74</th><th>column_75</th><th>column_76</th><th>column_77</th><th>column_78</th><th>column_79</th><th>column_80</th><th>column_81</th><th>column_82</th></tr><tr><td>str</td><td>str</td><td>str</td><td>str</td><td>str</td><td>str</td><td>str</td><td>str</td><td>str</td><td>str</td><td>str</td><td>str</td><td>str</td><td>str</td><td>str</td><td>str</td><td>str</td><td>str</td><td>str</td><td>str</td><td>str</td><td>str</td><td>str</td><td>str</td><td>str</td><td>str</td><td>str</td><td>str</td><td>str</td><td>str</td><td>str</td><td>str</td><td>str</td><td>str</td><td>str</td><td>str</td><td>str</td><td>&hellip;</td><td>str</td><td>str</td><td>str</td><td>str</td><td>str</td><td>str</td><td>str</td><td>str</td><td>str</td><td>str</td><td>str</td><td>str</td><td>str</td><td>str</td><td>str</td><td>str</td><td>str</td><td>str</td><td>str</td><td>str</td><td>str</td><td>str</td><td>str</td><td>str</td><td>str</td><td>str</td><td>str</td><td>str</td><td>str</td><td>str</td><td>str</td><td>str</td><td>str</td><td>str</td><td>str</td><td>str</td><td>str</td></tr></thead><tbody><tr><td>&quot;color&quot;</td><td>null</td><td>&quot;Abyss Blue&quot;</td><td>&quot;Arctic Grey&quot;</td><td>&quot;BLACK&quot;</td><td>&quot;BLK&quot;</td><td>&quot;Beige&quot;</td><td>&quot;Black&quot;</td><td>&quot;Black / Gray&quot;</td><td>&quot;Black / Grey&quot;</td><td>&quot;Black / Silver&quot;</td><td>&quot;Black/ Blue / Sandtone / Plati…</td><td>&quot;Black/Blue&quot;</td><td>&quot;Black/Gray&quot;</td><td>&quot;Black/Red&quot;</td><td>&quot;Blanco&quot;</td><td>&quot;Blue&quot;</td><td>&quot;Bronze&quot;</td><td>&quot;Brown&quot;</td><td>&quot;Carbon Black&quot;</td><td>&quot;Charcoal Gray&quot;</td><td>&quot;Cloud Grey&quot;</td><td>&quot;Dark Brown&quot;</td><td>&quot;Dark Grey&quot;</td><td>&quot;Dark Metallic Moon&quot;</td><td>&quot;Eclipse Gray&quot;</td><td>&quot;Fog Blue Aluminum&quot;</td><td>&quot;Gold&quot;</td><td>&quot;Gray&quot;</td><td>&quot;Gray / Silver&quot;</td><td>&quot;Gray and Black&quot;</td><td>&quot;Gray, Blue&quot;</td><td>&quot;Gray, Granite Gray&quot;</td><td>&quot;Gray, Platinum Silver&quot;</td><td>&quot;Green&quot;</td><td>&quot;Grey&quot;</td><td>&quot;Grey/Black&quot;</td><td>&hellip;</td><td>&quot;Multicolor&quot;</td><td>&quot;Natural Silver&quot;</td><td>&quot;Negro&quot;</td><td>&quot;Orange&quot;</td><td>&quot;Pink&quot;</td><td>&quot;Plata Transparente&quot;</td><td>&quot;Platino&quot;</td><td>&quot;Platinum&quot;</td><td>&quot;Platinum Silver&quot;</td><td>&quot;Pure Silver&quot;</td><td>&quot;Purple&quot;</td><td>&quot;Quiet Blue&quot;</td><td>&quot;Red&quot;</td><td>&quot;STEEL GRAY&quot;</td><td>&quot;Sandstone&quot;</td><td>&quot;See Photos&quot;</td><td>&quot;Silver&quot;</td><td>&quot;Silver &amp; Black&quot;</td><td>&quot;Silver + Black&quot;</td><td>&quot;Silver / Black&quot;</td><td>&quot;Silver and Black&quot;</td><td>&quot;Silver, Black&quot;</td><td>&quot;Silver, Metallic Silver&quot;</td><td>&quot;Silver, Platinum Silver&quot;</td><td>&quot;Silver/Black&quot;</td><td>&quot;Space Gray&quot;</td><td>&quot;Standard&quot;</td><td>&quot;Steam Blue&quot;</td><td>&quot;Storm Gray&quot;</td><td>&quot;Teal&quot;</td><td>&quot;Tech Black&quot;</td><td>&quot;Warm Gold&quot;</td><td>&quot;White&quot;</td><td>&quot;Yellow&quot;</td><td>&quot;black&quot;</td><td>&quot;borgoña&quot;</td><td>&quot;see pictures&quot;</td></tr><tr><td>&quot;color_clean&quot;</td><td>&quot;other&quot;</td><td>&quot;blue&quot;</td><td>&quot;gray&quot;</td><td>&quot;black&quot;</td><td>&quot;black&quot;</td><td>&quot;beige&quot;</td><td>&quot;black&quot;</td><td>&quot;multicolor&quot;</td><td>&quot;multicolor&quot;</td><td>&quot;multicolor&quot;</td><td>&quot;multicolor&quot;</td><td>&quot;multicolor&quot;</td><td>&quot;multicolor&quot;</td><td>&quot;multicolor&quot;</td><td>&quot;white&quot;</td><td>&quot;blue&quot;</td><td>&quot;bronze&quot;</td><td>&quot;brown&quot;</td><td>&quot;black&quot;</td><td>&quot;gray&quot;</td><td>&quot;gray&quot;</td><td>&quot;brown&quot;</td><td>&quot;gray&quot;</td><td>&quot;other&quot;</td><td>&quot;gray&quot;</td><td>&quot;blue&quot;</td><td>&quot;gold&quot;</td><td>&quot;gray&quot;</td><td>&quot;multicolor&quot;</td><td>&quot;multicolor&quot;</td><td>&quot;multicolor&quot;</td><td>&quot;gray&quot;</td><td>&quot;multicolor&quot;</td><td>&quot;green&quot;</td><td>&quot;gray&quot;</td><td>&quot;multicolor&quot;</td><td>&hellip;</td><td>&quot;multicolor&quot;</td><td>&quot;silver&quot;</td><td>&quot;black&quot;</td><td>&quot;orange&quot;</td><td>&quot;pink&quot;</td><td>&quot;silver&quot;</td><td>&quot;platinum&quot;</td><td>&quot;platinum&quot;</td><td>&quot;multicolor&quot;</td><td>&quot;silver&quot;</td><td>&quot;purple&quot;</td><td>&quot;blue&quot;</td><td>&quot;red&quot;</td><td>&quot;gray&quot;</td><td>&quot;other&quot;</td><td>&quot;other&quot;</td><td>&quot;silver&quot;</td><td>&quot;multicolor&quot;</td><td>&quot;multicolor&quot;</td><td>&quot;multicolor&quot;</td><td>&quot;multicolor&quot;</td><td>&quot;multicolor&quot;</td><td>&quot;silver&quot;</td><td>&quot;multicolor&quot;</td><td>&quot;multicolor&quot;</td><td>&quot;gray&quot;</td><td>&quot;other&quot;</td><td>&quot;blue&quot;</td><td>&quot;gray&quot;</td><td>&quot;teal&quot;</td><td>&quot;black&quot;</td><td>&quot;gold&quot;</td><td>&quot;white&quot;</td><td>&quot;yellow&quot;</td><td>&quot;black&quot;</td><td>&quot;burgundy&quot;</td><td>&quot;other&quot;</td></tr></tbody></table></div>"
      ]
     },
     "execution_count": 57,
     "metadata": {},
     "output_type": "execute_result"
    }
   ],
   "execution_count": 57
  },
  {
   "metadata": {},
   "cell_type": "markdown",
   "source": "We can also visualize its new value counts:",
   "id": "451e58b02c029244"
  },
  {
   "metadata": {
    "ExecuteTime": {
     "end_time": "2025-04-04T01:26:31.811491Z",
     "start_time": "2025-04-04T01:26:31.807551Z"
    }
   },
   "cell_type": "code",
   "source": [
    "# Color cleaned value counts and their proportion\n",
    "value_counts_with_proportion(df['color_clean'])"
   ],
   "id": "bf0f1c29994479c1",
   "outputs": [
    {
     "data": {
      "text/plain": [
       "shape: (20, 3)\n",
       "┌─────────────┬───────┬────────────┐\n",
       "│ color_clean ┆ count ┆ proportion │\n",
       "│ ---         ┆ ---   ┆ ---        │\n",
       "│ cat         ┆ u32   ┆ f64        │\n",
       "╞═════════════╪═══════╪════════════╡\n",
       "│ other       ┆ 2831  ┆ 0.63       │\n",
       "│ black       ┆ 962   ┆ 0.21       │\n",
       "│ silver      ┆ 315   ┆ 0.07       │\n",
       "│ gray        ┆ 222   ┆ 0.05       │\n",
       "│ blue        ┆ 49    ┆ 0.01       │\n",
       "│ …           ┆ …     ┆ …          │\n",
       "│ orange      ┆ 2     ┆ 0.0        │\n",
       "│ beige       ┆ 2     ┆ 0.0        │\n",
       "│ yellow      ┆ 1     ┆ 0.0        │\n",
       "│ teal        ┆ 1     ┆ 0.0        │\n",
       "│ bronze      ┆ 1     ┆ 0.0        │\n",
       "└─────────────┴───────┴────────────┘"
      ],
      "text/html": [
       "<div><style>\n",
       ".dataframe > thead > tr,\n",
       ".dataframe > tbody > tr {\n",
       "  text-align: right;\n",
       "  white-space: pre-wrap;\n",
       "}\n",
       "</style>\n",
       "<small>shape: (20, 3)</small><table border=\"1\" class=\"dataframe\"><thead><tr><th>color_clean</th><th>count</th><th>proportion</th></tr><tr><td>cat</td><td>u32</td><td>f64</td></tr></thead><tbody><tr><td>&quot;other&quot;</td><td>2831</td><td>0.63</td></tr><tr><td>&quot;black&quot;</td><td>962</td><td>0.21</td></tr><tr><td>&quot;silver&quot;</td><td>315</td><td>0.07</td></tr><tr><td>&quot;gray&quot;</td><td>222</td><td>0.05</td></tr><tr><td>&quot;blue&quot;</td><td>49</td><td>0.01</td></tr><tr><td>&hellip;</td><td>&hellip;</td><td>&hellip;</td></tr><tr><td>&quot;orange&quot;</td><td>2</td><td>0.0</td></tr><tr><td>&quot;beige&quot;</td><td>2</td><td>0.0</td></tr><tr><td>&quot;yellow&quot;</td><td>1</td><td>0.0</td></tr><tr><td>&quot;teal&quot;</td><td>1</td><td>0.0</td></tr><tr><td>&quot;bronze&quot;</td><td>1</td><td>0.0</td></tr></tbody></table></div>"
      ]
     },
     "execution_count": 58,
     "metadata": {},
     "output_type": "execute_result"
    }
   ],
   "execution_count": 58
  },
  {
   "metadata": {},
   "cell_type": "markdown",
   "source": [
    "Observations:\n",
    "- **Lower cardinality and higher frequencies**: As a consequence of mapping colors into broader color categories and the rare category (`other`) the cardinality has decreased from more than 80 different colors to 20. This has also caused the increase in the proportion of several categories, such as `black` increasing from 15% to 19%."
   ],
   "id": "11ca1ec1e0e16066"
  },
  {
   "metadata": {},
   "cell_type": "markdown",
   "source": [
    "## Cleaning `ram_size`, `ssd_capacity` & `hard_drive_capacity`\n",
    "\n",
    "### **Understanding the Variables**\n",
    "These three variables represent key hardware specifications of a laptop, which are crucial for performance assessment:\n",
    "- **`ram_size`**: Represents the amount of Random Access Memory (RAM) available in the laptop, typically measured in gigabytes (GB). Higher RAM allows for better multitasking and performance.\n",
    "- **`ssd_capacity`**: Indicates the storage capacity of the Solid-State Drive (SSD), measured in GB or TB. SSDs provide faster read/write speeds compared to traditional hard drives.\n",
    "- **`hard_drive_capacity`**: Represents the storage capacity of traditional Hard Disk Drives (HDDs), also measured in GB or TB. HDDs are slower than SSDs but provide larger storage at a lower cost.\n",
    "\n",
    "### **Observations:**\n",
    "- **Data Format Variability**: Storage and memory values can be represented in different formats (e.g., `8GB`, `16 GB`, `1 TB`, `256GB SSD`). Standardizing these formats ensures consistency.\n",
    "- **Mixed Numerical and Text Values**: Some entries include both numerical values and units (`GB`, `TB`), which need to be extracted and converted into a standardized numeric format.\n",
    "- **NULL or Missing Data**: Some laptops may have missing values for these fields. If a laptop has an `ssd_capacity`, but no `hard_drive_capacity`, it likely has only an SSD and vice versa.\n",
    "- **Overlapping Storage Types**: Some entries might list both `ssd_capacity` and `hard_drive_capacity`, indicating hybrid storage (both SSD and HDD). We need to ensure such cases are handled properly.\n",
    "- **Extreme or Unusual Values**: Some listings might contain errors, such as `4GB SSD` (which is likely incorrect). Detecting and handling anomalies is essential."
   ],
   "id": "a483fefd0c34c5b3"
  },
  {
   "metadata": {
    "ExecuteTime": {
     "end_time": "2025-04-04T01:26:31.986418Z",
     "start_time": "2025-04-04T01:26:31.982291Z"
    }
   },
   "cell_type": "code",
   "source": "value_counts_with_proportion(df['ram_size'])",
   "id": "948207a939c441d0",
   "outputs": [
    {
     "data": {
      "text/plain": [
       "shape: (59, 3)\n",
       "┌─────────────────────────────────┬───────┬────────────┐\n",
       "│ ram_size                        ┆ count ┆ proportion │\n",
       "│ ---                             ┆ ---   ┆ ---        │\n",
       "│ str                             ┆ u32   ┆ f64        │\n",
       "╞═════════════════════════════════╪═══════╪════════════╡\n",
       "│ null                            ┆ 2814  ┆ 0.63       │\n",
       "│ 8 GB                            ┆ 507   ┆ 0.11       │\n",
       "│ 16 GB                           ┆ 457   ┆ 0.1        │\n",
       "│ 4 GB                            ┆ 369   ┆ 0.08       │\n",
       "│ 32 GB                           ┆ 95    ┆ 0.02       │\n",
       "│ …                               ┆ …     ┆ …          │\n",
       "│ Up to 40GB                      ┆ 1     ┆ 0.0        │\n",
       "│ 4 GB DDR4                       ┆ 1     ┆ 0.0        │\n",
       "│ 8 GB DDR4 Installed---Can upgr… ┆ 1     ┆ 0.0        │\n",
       "│ 4gb                             ┆ 1     ┆ 0.0        │\n",
       "│ 1GB                             ┆ 1     ┆ 0.0        │\n",
       "└─────────────────────────────────┴───────┴────────────┘"
      ],
      "text/html": [
       "<div><style>\n",
       ".dataframe > thead > tr,\n",
       ".dataframe > tbody > tr {\n",
       "  text-align: right;\n",
       "  white-space: pre-wrap;\n",
       "}\n",
       "</style>\n",
       "<small>shape: (59, 3)</small><table border=\"1\" class=\"dataframe\"><thead><tr><th>ram_size</th><th>count</th><th>proportion</th></tr><tr><td>str</td><td>u32</td><td>f64</td></tr></thead><tbody><tr><td>null</td><td>2814</td><td>0.63</td></tr><tr><td>&quot;8 GB&quot;</td><td>507</td><td>0.11</td></tr><tr><td>&quot;16 GB&quot;</td><td>457</td><td>0.1</td></tr><tr><td>&quot;4 GB&quot;</td><td>369</td><td>0.08</td></tr><tr><td>&quot;32 GB&quot;</td><td>95</td><td>0.02</td></tr><tr><td>&hellip;</td><td>&hellip;</td><td>&hellip;</td></tr><tr><td>&quot;Up to 40GB&quot;</td><td>1</td><td>0.0</td></tr><tr><td>&quot;4 GB DDR4&quot;</td><td>1</td><td>0.0</td></tr><tr><td>&quot;8 GB DDR4 Installed---Can upgr…</td><td>1</td><td>0.0</td></tr><tr><td>&quot;4gb&quot;</td><td>1</td><td>0.0</td></tr><tr><td>&quot;1GB&quot;</td><td>1</td><td>0.0</td></tr></tbody></table></div>"
      ]
     },
     "execution_count": 59,
     "metadata": {},
     "output_type": "execute_result"
    }
   ],
   "execution_count": 59
  },
  {
   "metadata": {
    "ExecuteTime": {
     "end_time": "2025-04-04T01:26:32.254314Z",
     "start_time": "2025-04-04T01:26:32.250110Z"
    }
   },
   "cell_type": "code",
   "source": "value_counts_with_proportion(df['ssd_capacity'])",
   "id": "4b842ee92df99e7b",
   "outputs": [
    {
     "data": {
      "text/plain": [
       "shape: (74, 3)\n",
       "┌──────────────┬───────┬────────────┐\n",
       "│ ssd_capacity ┆ count ┆ proportion │\n",
       "│ ---          ┆ ---   ┆ ---        │\n",
       "│ str          ┆ u32   ┆ f64        │\n",
       "╞══════════════╪═══════╪════════════╡\n",
       "│ null         ┆ 2246  ┆ 0.5        │\n",
       "│ 256 GB       ┆ 418   ┆ 0.09       │\n",
       "│ 512 GB       ┆ 332   ┆ 0.07       │\n",
       "│ 240GB        ┆ 268   ┆ 0.06       │\n",
       "│ 120GB        ┆ 180   ┆ 0.04       │\n",
       "│ …            ┆ …     ┆ …          │\n",
       "│ 476GB        ┆ 1     ┆ 0.0        │\n",
       "│ 16 GB SSD    ┆ 1     ┆ 0.0        │\n",
       "│ No SSD       ┆ 1     ┆ 0.0        │\n",
       "│ 500GB        ┆ 1     ┆ 0.0        │\n",
       "│ 800gb        ┆ 1     ┆ 0.0        │\n",
       "└──────────────┴───────┴────────────┘"
      ],
      "text/html": [
       "<div><style>\n",
       ".dataframe > thead > tr,\n",
       ".dataframe > tbody > tr {\n",
       "  text-align: right;\n",
       "  white-space: pre-wrap;\n",
       "}\n",
       "</style>\n",
       "<small>shape: (74, 3)</small><table border=\"1\" class=\"dataframe\"><thead><tr><th>ssd_capacity</th><th>count</th><th>proportion</th></tr><tr><td>str</td><td>u32</td><td>f64</td></tr></thead><tbody><tr><td>null</td><td>2246</td><td>0.5</td></tr><tr><td>&quot;256 GB&quot;</td><td>418</td><td>0.09</td></tr><tr><td>&quot;512 GB&quot;</td><td>332</td><td>0.07</td></tr><tr><td>&quot;240GB&quot;</td><td>268</td><td>0.06</td></tr><tr><td>&quot;120GB&quot;</td><td>180</td><td>0.04</td></tr><tr><td>&hellip;</td><td>&hellip;</td><td>&hellip;</td></tr><tr><td>&quot;476GB&quot;</td><td>1</td><td>0.0</td></tr><tr><td>&quot;16 GB SSD&quot;</td><td>1</td><td>0.0</td></tr><tr><td>&quot;No SSD&quot;</td><td>1</td><td>0.0</td></tr><tr><td>&quot;500GB&quot;</td><td>1</td><td>0.0</td></tr><tr><td>&quot;800gb&quot;</td><td>1</td><td>0.0</td></tr></tbody></table></div>"
      ]
     },
     "execution_count": 60,
     "metadata": {},
     "output_type": "execute_result"
    }
   ],
   "execution_count": 60
  },
  {
   "metadata": {
    "ExecuteTime": {
     "end_time": "2025-04-04T01:26:32.439370Z",
     "start_time": "2025-04-04T01:26:32.435073Z"
    }
   },
   "cell_type": "code",
   "source": "value_counts_with_proportion(df['hard_drive_capacity'])",
   "id": "a6c2418320572c40",
   "outputs": [
    {
     "data": {
      "text/plain": [
       "shape: (114, 3)\n",
       "┌─────────────────────────────────┬───────┬────────────┐\n",
       "│ hard_drive_capacity             ┆ count ┆ proportion │\n",
       "│ ---                             ┆ ---   ┆ ---        │\n",
       "│ str                             ┆ u32   ┆ f64        │\n",
       "╞═════════════════════════════════╪═══════╪════════════╡\n",
       "│ null                            ┆ 2592  ┆ 0.58       │\n",
       "│ NO                              ┆ 710   ┆ 0.16       │\n",
       "│ 256 GB                          ┆ 226   ┆ 0.05       │\n",
       "│ 512 GB                          ┆ 176   ┆ 0.04       │\n",
       "│ 16 GB                           ┆ 99    ┆ 0.02       │\n",
       "│ …                               ┆ …     ┆ …          │\n",
       "│ 800 GB                          ┆ 1     ┆ 0.0        │\n",
       "│ Non                             ┆ 1     ┆ 0.0        │\n",
       "│ 81GB                            ┆ 1     ┆ 0.0        │\n",
       "│ 256GB/512GB/1TB SSD (as select… ┆ 1     ┆ 0.0        │\n",
       "│ 0GB                             ┆ 1     ┆ 0.0        │\n",
       "└─────────────────────────────────┴───────┴────────────┘"
      ],
      "text/html": [
       "<div><style>\n",
       ".dataframe > thead > tr,\n",
       ".dataframe > tbody > tr {\n",
       "  text-align: right;\n",
       "  white-space: pre-wrap;\n",
       "}\n",
       "</style>\n",
       "<small>shape: (114, 3)</small><table border=\"1\" class=\"dataframe\"><thead><tr><th>hard_drive_capacity</th><th>count</th><th>proportion</th></tr><tr><td>str</td><td>u32</td><td>f64</td></tr></thead><tbody><tr><td>null</td><td>2592</td><td>0.58</td></tr><tr><td>&quot;NO&quot;</td><td>710</td><td>0.16</td></tr><tr><td>&quot;256 GB&quot;</td><td>226</td><td>0.05</td></tr><tr><td>&quot;512 GB&quot;</td><td>176</td><td>0.04</td></tr><tr><td>&quot;16 GB&quot;</td><td>99</td><td>0.02</td></tr><tr><td>&hellip;</td><td>&hellip;</td><td>&hellip;</td></tr><tr><td>&quot;800 GB&quot;</td><td>1</td><td>0.0</td></tr><tr><td>&quot;Non&quot;</td><td>1</td><td>0.0</td></tr><tr><td>&quot;81GB&quot;</td><td>1</td><td>0.0</td></tr><tr><td>&quot;256GB/512GB/1TB SSD (as select…</td><td>1</td><td>0.0</td></tr><tr><td>&quot;0GB&quot;</td><td>1</td><td>0.0</td></tr></tbody></table></div>"
      ]
     },
     "execution_count": 61,
     "metadata": {},
     "output_type": "execute_result"
    }
   ],
   "execution_count": 61
  },
  {
   "metadata": {},
   "cell_type": "markdown",
   "source": [
    "### **Reformatting & Cleaning Process:**\n",
    "To clean and standardize these variables, we apply the following steps:\n",
    "- **Extract Numeric Values**: Strip out text (e.g., `GB`, `TB`) and convert values into a numerical format for consistency.\n",
    "- **Extract Units**: Extract the unit of data being used to measure the size (e.g., `GB`, `TB`, `MB`).\n",
    "\n",
    "By applying these transformations, we ensure that these key specifications are cleaned, standardized, and usable for further analysis or modeling.\n",
    "\n"
   ],
   "id": "3c85c45396978338"
  },
  {
   "metadata": {
    "ExecuteTime": {
     "end_time": "2025-04-04T01:26:32.789471Z",
     "start_time": "2025-04-04T01:26:32.781782Z"
    }
   },
   "cell_type": "code",
   "source": [
    "def find_size(split_str: str, unit_match_str: str, unit_name: str) -> Tuple[Optional[float], str]:\n",
    "    \"\"\"\n",
    "    Extracts the numerical value of a given storage capacity from a string.\n",
    "\n",
    "    Args:\n",
    "        split_str (str): The cleaned and lowercased capacity string.\n",
    "        unit_match_str (str): The unit identifier to match (e.g., 'gb', 'tb', 'mb').\n",
    "        unit_name (str): The readable name of the unit.\n",
    "\n",
    "    Returns:\n",
    "        Tuple[Optional[float], str]: A tuple containing:\n",
    "            - The extracted capacity as a float, or None if parsing fails.\n",
    "            - The unit name.\n",
    "    \"\"\"\n",
    "    try:\n",
    "        if unit_match_str in split_str:\n",
    "            capacity = re.sub('[a-z]', '', split_str[:split_str.find(unit_match_str)])\n",
    "            return float(capacity), unit_name\n",
    "        return None, unit_name\n",
    "    except ValueError:\n",
    "        return None, unit_name\n",
    "\n",
    "\n",
    "def clean_size_from_str(capacity: str) -> Tuple[Optional[float], str]:\n",
    "    \"\"\"\n",
    "    Cleans and extracts storage capacity from a raw string.\n",
    "\n",
    "    Args:\n",
    "        capacity (str): The raw storage capacity string.\n",
    "\n",
    "    Returns:\n",
    "        Tuple[Optional[float], str]: A tuple containing:\n",
    "            - The extracted storage capacity as a float, or None if it cannot be determined.\n",
    "            - The detected unit (e.g., 'gigabytes', 'terabytes', 'megabytes', or 'unknown').\n",
    "    \"\"\"\n",
    "    # If capacity is none or a blank string\n",
    "    if capacity is None or not capacity.strip():\n",
    "        return None, 'unknown'\n",
    "\n",
    "    # String for caseless comparisons\n",
    "    capacity_casefold = capacity.casefold()\n",
    "    # Splitting the casefolded string\n",
    "    split_str = ''.join(capacity_casefold.split())\n",
    "\n",
    "    # Checks for gigabytes\n",
    "    if 'gb' in split_str:\n",
    "        return find_size(split_str=split_str, unit_match_str='gb', unit_name='gigabytes')\n",
    "    # Checks for terabytes\n",
    "    elif 'tb' in split_str:\n",
    "        capacity_in_tb = split_str[split_str.find('tb') - 1:split_str.find('tb')]\n",
    "        return float(capacity_in_tb), 'terabytes'\n",
    "    # Checks for megabytes\n",
    "    elif 'mb' in split_str:\n",
    "        return find_size(split_str=split_str, unit_match_str='mb', unit_name='megabytes')\n",
    "    # Checks for capacity values without a unit (e.g., '128', '389', or '128 SSD')\n",
    "    else:\n",
    "        # Remove alphabetic characters (like 'SSD') from the string\n",
    "        numeric_str = re.sub(r'[a-zA-Z]', '', split_str)\n",
    "\n",
    "        # Check if the remaining string is a valid number (integer or float)\n",
    "        is_numeric = re.match(r'^\\d+(\\.\\d+)?$', numeric_str)\n",
    "\n",
    "        if is_numeric:\n",
    "            return float(numeric_str), 'unknown'\n",
    "    # Unspecified capacity nor unit\n",
    "    return None, 'unknown'\n",
    "\n",
    "\n",
    "def extract_capacity_value(capacity: str) -> float:\n",
    "    \"\"\"\n",
    "    Extracts the numerical value of a storage capacity from a given string.\n",
    "\n",
    "    Args:\n",
    "        capacity (str): The raw storage capacity string.\n",
    "\n",
    "    Returns:\n",
    "        float: The extracted storage capacity as a float, or None if parsing fails.\n",
    "    \"\"\"\n",
    "    return clean_size_from_str(capacity)[0]\n",
    "\n",
    "\n",
    "def extract_capacity_unit(capacity: str) -> str:\n",
    "    \"\"\"\n",
    "    Extracts the unit of a storage capacity from a given string.\n",
    "\n",
    "    Args:\n",
    "        capacity (str): The raw storage capacity string.\n",
    "\n",
    "    Returns:\n",
    "        str: The extracted unit ('gigabytes', 'terabytes', 'megabytes', or 'unknown').\n",
    "    \"\"\"\n",
    "    return clean_size_from_str(capacity)[1]\n"
   ],
   "id": "a91e6e26248408b4",
   "outputs": [],
   "execution_count": 62
  },
  {
   "metadata": {
    "ExecuteTime": {
     "end_time": "2025-04-04T01:26:33.131537Z",
     "start_time": "2025-04-04T01:26:33.119527Z"
    }
   },
   "cell_type": "code",
   "source": [
    "# Extracting the hard drive size (numerical) and its unit\n",
    "df = df.with_columns(\n",
    "    pl.col('hard_drive_capacity')\n",
    "    .str.to_lowercase()\n",
    "    .map_elements(function=extract_capacity_value, return_dtype=pl.Float64)\n",
    "    .alias('hard_drive_size_clean'),\n",
    "    pl.col('hard_drive_capacity')\n",
    "    .str.to_lowercase()\n",
    "    .map_elements(function=extract_capacity_unit, return_dtype=pl.String)\n",
    "    .cast(pl.Enum(['unknown', 'megabytes', 'gigabytes', 'terabytes']))\n",
    "    .alias('hard_drive_size_unit_clean')\n",
    ")\n",
    "\n",
    "df.select(\n",
    "    'hard_drive_capacity', 'hard_drive_size_clean', 'hard_drive_size_unit_clean'\n",
    ").unique(\n",
    "    subset='hard_drive_capacity'\n",
    ")"
   ],
   "id": "dbe1b0ac9aec4d13",
   "outputs": [
    {
     "data": {
      "text/plain": [
       "shape: (114, 3)\n",
       "┌──────────────────────────────┬───────────────────────┬────────────────────────────┐\n",
       "│ hard_drive_capacity          ┆ hard_drive_size_clean ┆ hard_drive_size_unit_clean │\n",
       "│ ---                          ┆ ---                   ┆ ---                        │\n",
       "│ str                          ┆ f64                   ┆ enum                       │\n",
       "╞══════════════════════════════╪═══════════════════════╪════════════════════════════╡\n",
       "│ Non                          ┆ null                  ┆ unknown                    │\n",
       "│ 256 GB SSD                   ┆ 256.0                 ┆ gigabytes                  │\n",
       "│ 16GB                         ┆ 16.0                  ┆ gigabytes                  │\n",
       "│ 256 GB 512 GB 1 TB 2 TB      ┆ 256.0                 ┆ gigabytes                  │\n",
       "│ 512 GB SSD Solid State Drive ┆ 512.0                 ┆ gigabytes                  │\n",
       "│ …                            ┆ …                     ┆ …                          │\n",
       "│ 120 GB                       ┆ 120.0                 ┆ gigabytes                  │\n",
       "│ 800 GB                       ┆ 800.0                 ┆ gigabytes                  │\n",
       "│ 2 TB                         ┆ 2.0                   ┆ terabytes                  │\n",
       "│ 32 GB                        ┆ 32.0                  ┆ gigabytes                  │\n",
       "│ 500 GB 1 TB 2 TB             ┆ 500.0                 ┆ gigabytes                  │\n",
       "└──────────────────────────────┴───────────────────────┴────────────────────────────┘"
      ],
      "text/html": [
       "<div><style>\n",
       ".dataframe > thead > tr,\n",
       ".dataframe > tbody > tr {\n",
       "  text-align: right;\n",
       "  white-space: pre-wrap;\n",
       "}\n",
       "</style>\n",
       "<small>shape: (114, 3)</small><table border=\"1\" class=\"dataframe\"><thead><tr><th>hard_drive_capacity</th><th>hard_drive_size_clean</th><th>hard_drive_size_unit_clean</th></tr><tr><td>str</td><td>f64</td><td>enum</td></tr></thead><tbody><tr><td>&quot;Non&quot;</td><td>null</td><td>&quot;unknown&quot;</td></tr><tr><td>&quot;256 GB SSD&quot;</td><td>256.0</td><td>&quot;gigabytes&quot;</td></tr><tr><td>&quot;16GB&quot;</td><td>16.0</td><td>&quot;gigabytes&quot;</td></tr><tr><td>&quot;256 GB 512 GB 1 TB 2 TB&quot;</td><td>256.0</td><td>&quot;gigabytes&quot;</td></tr><tr><td>&quot;512 GB SSD Solid State Drive&quot;</td><td>512.0</td><td>&quot;gigabytes&quot;</td></tr><tr><td>&hellip;</td><td>&hellip;</td><td>&hellip;</td></tr><tr><td>&quot;120 GB&quot;</td><td>120.0</td><td>&quot;gigabytes&quot;</td></tr><tr><td>&quot;800 GB&quot;</td><td>800.0</td><td>&quot;gigabytes&quot;</td></tr><tr><td>&quot;2 TB&quot;</td><td>2.0</td><td>&quot;terabytes&quot;</td></tr><tr><td>&quot;32 GB&quot;</td><td>32.0</td><td>&quot;gigabytes&quot;</td></tr><tr><td>&quot;500 GB 1 TB 2 TB&quot;</td><td>500.0</td><td>&quot;gigabytes&quot;</td></tr></tbody></table></div>"
      ]
     },
     "execution_count": 63,
     "metadata": {},
     "output_type": "execute_result"
    }
   ],
   "execution_count": 63
  },
  {
   "metadata": {
    "ExecuteTime": {
     "end_time": "2025-04-04T01:26:33.321225Z",
     "start_time": "2025-04-04T01:26:33.308549Z"
    }
   },
   "cell_type": "code",
   "source": [
    "df = df.with_columns(\n",
    "    pl.col('ram_size')\n",
    "    .str.to_lowercase()\n",
    "    .map_elements(function=extract_capacity_value, return_dtype=pl.Float64)\n",
    "    .alias('ram_size_clean'),\n",
    "    pl.col('ram_size')\n",
    "    .str.to_lowercase()\n",
    "    .map_elements(function=extract_capacity_unit, return_dtype=pl.String)\n",
    "    .cast(pl.Enum(['unknown', 'megabytes', 'gigabytes', 'terabytes']))\n",
    "    .alias('ram_size_unit_clean')\n",
    ")\n",
    "\n",
    "df.select(\n",
    "    'ram_size', 'ram_size_clean', 'ram_size_unit_clean'\n",
    ").unique(\n",
    "    subset='ram_size'\n",
    ")"
   ],
   "id": "bf8db2fd57270604",
   "outputs": [
    {
     "data": {
      "text/plain": [
       "shape: (59, 3)\n",
       "┌───────────────────┬────────────────┬─────────────────────┐\n",
       "│ ram_size          ┆ ram_size_clean ┆ ram_size_unit_clean │\n",
       "│ ---               ┆ ---            ┆ ---                 │\n",
       "│ str               ┆ f64            ┆ enum                │\n",
       "╞═══════════════════╪════════════════╪═════════════════════╡\n",
       "│ 8 GB RAM          ┆ 8.0            ┆ gigabytes           │\n",
       "│ Up to 40GB        ┆ 40.0           ┆ gigabytes           │\n",
       "│ 1 GB              ┆ 1.0            ┆ gigabytes           │\n",
       "│ 16 GB DDR4        ┆ 16.0           ┆ gigabytes           │\n",
       "│ up to 32GBGB DDR4 ┆ 32.0           ┆ gigabytes           │\n",
       "│ …                 ┆ …              ┆ …                   │\n",
       "│ 40 GB             ┆ 40.0           ┆ gigabytes           │\n",
       "│ 32GB              ┆ 32.0           ┆ gigabytes           │\n",
       "│ 1Gb               ┆ 1.0            ┆ gigabytes           │\n",
       "│ 2 GB              ┆ 2.0            ┆ gigabytes           │\n",
       "│ 256 GB            ┆ 256.0          ┆ gigabytes           │\n",
       "└───────────────────┴────────────────┴─────────────────────┘"
      ],
      "text/html": [
       "<div><style>\n",
       ".dataframe > thead > tr,\n",
       ".dataframe > tbody > tr {\n",
       "  text-align: right;\n",
       "  white-space: pre-wrap;\n",
       "}\n",
       "</style>\n",
       "<small>shape: (59, 3)</small><table border=\"1\" class=\"dataframe\"><thead><tr><th>ram_size</th><th>ram_size_clean</th><th>ram_size_unit_clean</th></tr><tr><td>str</td><td>f64</td><td>enum</td></tr></thead><tbody><tr><td>&quot;8 GB RAM&quot;</td><td>8.0</td><td>&quot;gigabytes&quot;</td></tr><tr><td>&quot;Up to 40GB&quot;</td><td>40.0</td><td>&quot;gigabytes&quot;</td></tr><tr><td>&quot;1 GB&quot;</td><td>1.0</td><td>&quot;gigabytes&quot;</td></tr><tr><td>&quot;16 GB DDR4&quot;</td><td>16.0</td><td>&quot;gigabytes&quot;</td></tr><tr><td>&quot;up to 32GBGB DDR4&quot;</td><td>32.0</td><td>&quot;gigabytes&quot;</td></tr><tr><td>&hellip;</td><td>&hellip;</td><td>&hellip;</td></tr><tr><td>&quot;40 GB&quot;</td><td>40.0</td><td>&quot;gigabytes&quot;</td></tr><tr><td>&quot;32GB&quot;</td><td>32.0</td><td>&quot;gigabytes&quot;</td></tr><tr><td>&quot;1Gb&quot;</td><td>1.0</td><td>&quot;gigabytes&quot;</td></tr><tr><td>&quot;2 GB&quot;</td><td>2.0</td><td>&quot;gigabytes&quot;</td></tr><tr><td>&quot;256 GB&quot;</td><td>256.0</td><td>&quot;gigabytes&quot;</td></tr></tbody></table></div>"
      ]
     },
     "execution_count": 64,
     "metadata": {},
     "output_type": "execute_result"
    }
   ],
   "execution_count": 64
  },
  {
   "metadata": {
    "ExecuteTime": {
     "end_time": "2025-04-04T01:26:33.639922Z",
     "start_time": "2025-04-04T01:26:33.625334Z"
    }
   },
   "cell_type": "code",
   "source": [
    "df = df.with_columns(\n",
    "    pl.col('ssd_capacity')\n",
    "    .str.to_lowercase()\n",
    "    .map_elements(function=extract_capacity_value, return_dtype=pl.Float64)\n",
    "    .alias('ssd_size_clean'),\n",
    "    pl.col('ssd_capacity')\n",
    "    .str.to_lowercase()\n",
    "    .map_elements(function=extract_capacity_unit, return_dtype=pl.String)\n",
    "    .cast(pl.Enum(['unknown', 'megabytes', 'gigabytes', 'terabytes']))\n",
    "    .alias('ssd_size_unit_clean')\n",
    ")\n",
    "\n",
    "df.select(\n",
    "    'ssd_capacity', 'ssd_size_clean', 'ssd_size_unit_clean'\n",
    ").unique(\n",
    "    subset='ssd_capacity'\n",
    ")"
   ],
   "id": "e22a2450fe116bb9",
   "outputs": [
    {
     "data": {
      "text/plain": [
       "shape: (74, 3)\n",
       "┌─────────────────┬────────────────┬─────────────────────┐\n",
       "│ ssd_capacity    ┆ ssd_size_clean ┆ ssd_size_unit_clean │\n",
       "│ ---             ┆ ---            ┆ ---                 │\n",
       "│ str             ┆ f64            ┆ enum                │\n",
       "╞═════════════════╪════════════════╪═════════════════════╡\n",
       "│ 32GB            ┆ 32.0           ┆ gigabytes           │\n",
       "│ 120             ┆ 120.0          ┆ unknown             │\n",
       "│ 2TB             ┆ 2.0            ┆ terabytes           │\n",
       "│ 4 tb            ┆ 4.0            ┆ terabytes           │\n",
       "│ 120 GB - 500 GB ┆ 120.0          ┆ gigabytes           │\n",
       "│ …               ┆ …              ┆ …                   │\n",
       "│ 32 GB           ┆ 32.0           ┆ gigabytes           │\n",
       "│ 1 TB            ┆ 1.0            ┆ terabytes           │\n",
       "│ 512GB           ┆ 512.0          ┆ gigabytes           │\n",
       "│ 180GB           ┆ 180.0          ┆ gigabytes           │\n",
       "│ 800gb           ┆ 800.0          ┆ gigabytes           │\n",
       "└─────────────────┴────────────────┴─────────────────────┘"
      ],
      "text/html": [
       "<div><style>\n",
       ".dataframe > thead > tr,\n",
       ".dataframe > tbody > tr {\n",
       "  text-align: right;\n",
       "  white-space: pre-wrap;\n",
       "}\n",
       "</style>\n",
       "<small>shape: (74, 3)</small><table border=\"1\" class=\"dataframe\"><thead><tr><th>ssd_capacity</th><th>ssd_size_clean</th><th>ssd_size_unit_clean</th></tr><tr><td>str</td><td>f64</td><td>enum</td></tr></thead><tbody><tr><td>&quot;32GB&quot;</td><td>32.0</td><td>&quot;gigabytes&quot;</td></tr><tr><td>&quot;120&quot;</td><td>120.0</td><td>&quot;unknown&quot;</td></tr><tr><td>&quot;2TB&quot;</td><td>2.0</td><td>&quot;terabytes&quot;</td></tr><tr><td>&quot;4 tb&quot;</td><td>4.0</td><td>&quot;terabytes&quot;</td></tr><tr><td>&quot;120 GB - 500 GB&quot;</td><td>120.0</td><td>&quot;gigabytes&quot;</td></tr><tr><td>&hellip;</td><td>&hellip;</td><td>&hellip;</td></tr><tr><td>&quot;32 GB&quot;</td><td>32.0</td><td>&quot;gigabytes&quot;</td></tr><tr><td>&quot;1 TB&quot;</td><td>1.0</td><td>&quot;terabytes&quot;</td></tr><tr><td>&quot;512GB&quot;</td><td>512.0</td><td>&quot;gigabytes&quot;</td></tr><tr><td>&quot;180GB&quot;</td><td>180.0</td><td>&quot;gigabytes&quot;</td></tr><tr><td>&quot;800gb&quot;</td><td>800.0</td><td>&quot;gigabytes&quot;</td></tr></tbody></table></div>"
      ]
     },
     "execution_count": 65,
     "metadata": {},
     "output_type": "execute_result"
    }
   ],
   "execution_count": 65
  },
  {
   "metadata": {},
   "cell_type": "markdown",
   "source": [
    "## Cleaning `gpu`\n",
    "\n",
    "The `gpu` variable represents the graphics processing unit (GPU) present in each device. This is a crucial feature for determining the performance capabilities of a device, particularly for tasks like gaming, video editing, and AI computations."
   ],
   "id": "7cb90a7884479042"
  },
  {
   "metadata": {
    "ExecuteTime": {
     "end_time": "2025-04-04T01:26:33.822275Z",
     "start_time": "2025-04-04T01:26:33.817896Z"
    }
   },
   "cell_type": "code",
   "source": "value_counts_with_proportion(df['gpu'])",
   "id": "6941ead0fe5f05e2",
   "outputs": [
    {
     "data": {
      "text/plain": [
       "shape: (271, 3)\n",
       "┌─────────────────────────────────┬───────┬────────────┐\n",
       "│ gpu                             ┆ count ┆ proportion │\n",
       "│ ---                             ┆ ---   ┆ ---        │\n",
       "│ str                             ┆ u32   ┆ f64        │\n",
       "╞═════════════════════════════════╪═══════╪════════════╡\n",
       "│ null                            ┆ 2089  ┆ 0.47       │\n",
       "│ Intel HD Graphics 520           ┆ 230   ┆ 0.05       │\n",
       "│ Intel HD Graphics               ┆ 196   ┆ 0.04       │\n",
       "│ Intel HD Graphics 4400          ┆ 156   ┆ 0.03       │\n",
       "│ Intel UHD Graphics              ┆ 143   ┆ 0.03       │\n",
       "│ …                               ┆ …     ┆ …          │\n",
       "│ NVIDIA GeForce MX450            ┆ 1     ┆ 0.0        │\n",
       "│ NVIDIA GeForce GT 730M          ┆ 1     ┆ 0.0        │\n",
       "│ Intel Celeron N4020             ┆ 1     ┆ 0.0        │\n",
       "│ Integrated Qualcomm Adreno 690… ┆ 1     ┆ 0.0        │\n",
       "│ NVIDIA GeForce RTX 3070 Ti      ┆ 1     ┆ 0.0        │\n",
       "└─────────────────────────────────┴───────┴────────────┘"
      ],
      "text/html": [
       "<div><style>\n",
       ".dataframe > thead > tr,\n",
       ".dataframe > tbody > tr {\n",
       "  text-align: right;\n",
       "  white-space: pre-wrap;\n",
       "}\n",
       "</style>\n",
       "<small>shape: (271, 3)</small><table border=\"1\" class=\"dataframe\"><thead><tr><th>gpu</th><th>count</th><th>proportion</th></tr><tr><td>str</td><td>u32</td><td>f64</td></tr></thead><tbody><tr><td>null</td><td>2089</td><td>0.47</td></tr><tr><td>&quot;Intel HD Graphics 520&quot;</td><td>230</td><td>0.05</td></tr><tr><td>&quot;Intel HD Graphics&quot;</td><td>196</td><td>0.04</td></tr><tr><td>&quot;Intel HD Graphics 4400&quot;</td><td>156</td><td>0.03</td></tr><tr><td>&quot;Intel UHD Graphics&quot;</td><td>143</td><td>0.03</td></tr><tr><td>&hellip;</td><td>&hellip;</td><td>&hellip;</td></tr><tr><td>&quot;NVIDIA GeForce MX450&quot;</td><td>1</td><td>0.0</td></tr><tr><td>&quot;NVIDIA GeForce GT 730M&quot;</td><td>1</td><td>0.0</td></tr><tr><td>&quot;Intel Celeron N4020&quot;</td><td>1</td><td>0.0</td></tr><tr><td>&quot;Integrated Qualcomm Adreno 690…</td><td>1</td><td>0.0</td></tr><tr><td>&quot;NVIDIA GeForce RTX 3070 Ti&quot;</td><td>1</td><td>0.0</td></tr></tbody></table></div>"
      ]
     },
     "execution_count": 66,
     "metadata": {},
     "output_type": "execute_result"
    }
   ],
   "execution_count": 66
  },
  {
   "metadata": {},
   "cell_type": "markdown",
   "source": [
    "Observations:\n",
    "- **Missing Values**: The most frequent entry in the dataset is `null` (3532 occurrences, ~53%). This means more than half of the dataset lacks GPU information, which might require imputation or categorization into a \"Missing\" category.\n",
    "- **Inconsistent Naming and Variations**:\n",
    "   - Multiple ways of writing the same GPU exist due to differences in formatting, spelling, and capitalization. Examples include:\n",
    "     - \"Intel HD Graphics 520\" vs. \"INTEL HD GRAPHICS 520\" vs. \"Intel(R) HD Graphics 520\"\n",
    "     - \"Intel UHD Graphics 620\" vs. \"Carte graphique Intel UHD 620\" vs. \"Gr"
   ],
   "id": "8f8115e193a7bc0e"
  },
  {
   "metadata": {
    "ExecuteTime": {
     "end_time": "2025-04-04T01:26:34.219961Z",
     "start_time": "2025-04-04T01:26:34.215769Z"
    }
   },
   "cell_type": "code",
   "source": [
    "def map_gpu_type(gpu_str: str) -> str:\n",
    "    \"\"\"\n",
    "    Maps GPU names to broader categories based on brand.\n",
    "\n",
    "    - 'intel' if the GPU name contains 'intel'.\n",
    "    - 'amd' if the GPU name contains 'amd' or 'radeon'.\n",
    "    - 'nvidia' if the GPU name contains 'nvidia' or 'geforce'.\n",
    "    - 'mali' if the GPU name contains 'mali'.\n",
    "    - 'other' for unknown or unclassified GPU names.\n",
    "\n",
    "    Args:\n",
    "        gpu_str (str): The GPU name.\n",
    "\n",
    "    Returns:\n",
    "        str: Mapped GPU category.\n",
    "\n",
    "    Examples:\n",
    "        >>> map_gpu_type(\"Intel UHD Graphics\")\n",
    "        'intel'\n",
    "        >>> map_gpu_type(\"AMD Radeon RX 6800\")\n",
    "        'amd'\n",
    "        >>> map_gpu_type(\"NVIDIA GeForce RTX 3080\")\n",
    "        'nvidia'\n",
    "        >>> map_gpu_type(\"ARM Mali-G76\")\n",
    "        'mali'\n",
    "        >>> map_gpu_type(\"Elmo GPU\")\n",
    "        'other'\n",
    "    \"\"\"\n",
    "    if gpu_str is None or gpu_str == \"\":\n",
    "        return \"unknown\"\n",
    "\n",
    "    str_casefold = gpu_str.casefold()\n",
    "\n",
    "    if \"intel\" in str_casefold:\n",
    "        return \"intel\"\n",
    "    elif \"amd\" in str_casefold or \"radeon\" in str_casefold:\n",
    "        return \"amd\"\n",
    "    elif \"nvidia\" in str_casefold or \"geforce\" in str_casefold:\n",
    "        return \"nvidia\"\n",
    "    elif \"mali\" in str_casefold:\n",
    "        return \"mali\"\n",
    "    else:\n",
    "        return \"other\""
   ],
   "id": "de33c40cd46345ec",
   "outputs": [],
   "execution_count": 67
  },
  {
   "metadata": {
    "ExecuteTime": {
     "end_time": "2025-04-04T01:26:34.589314Z",
     "start_time": "2025-04-04T01:26:34.582517Z"
    }
   },
   "cell_type": "code",
   "source": [
    "df = df.with_columns(\n",
    "    pl.col(\"gpu\")\n",
    "    .map_elements(map_gpu_type, skip_nulls=False, return_dtype=pl.Utf8)\n",
    "    .cast(pl.Categorical())\n",
    "    .alias(\"gpu_type_clean\")\n",
    ")\n",
    "\n",
    "value_counts_with_proportion(df['gpu_type_clean'])"
   ],
   "id": "6af05bc421ed84b3",
   "outputs": [
    {
     "data": {
      "text/plain": [
       "shape: (6, 3)\n",
       "┌────────────────┬───────┬────────────┐\n",
       "│ gpu_type_clean ┆ count ┆ proportion │\n",
       "│ ---            ┆ ---   ┆ ---        │\n",
       "│ cat            ┆ u32   ┆ f64        │\n",
       "╞════════════════╪═══════╪════════════╡\n",
       "│ unknown        ┆ 2089  ┆ 0.47       │\n",
       "│ intel          ┆ 2022  ┆ 0.45       │\n",
       "│ nvidia         ┆ 190   ┆ 0.04       │\n",
       "│ amd            ┆ 112   ┆ 0.03       │\n",
       "│ other          ┆ 59    ┆ 0.01       │\n",
       "│ mali           ┆ 3     ┆ 0.0        │\n",
       "└────────────────┴───────┴────────────┘"
      ],
      "text/html": [
       "<div><style>\n",
       ".dataframe > thead > tr,\n",
       ".dataframe > tbody > tr {\n",
       "  text-align: right;\n",
       "  white-space: pre-wrap;\n",
       "}\n",
       "</style>\n",
       "<small>shape: (6, 3)</small><table border=\"1\" class=\"dataframe\"><thead><tr><th>gpu_type_clean</th><th>count</th><th>proportion</th></tr><tr><td>cat</td><td>u32</td><td>f64</td></tr></thead><tbody><tr><td>&quot;unknown&quot;</td><td>2089</td><td>0.47</td></tr><tr><td>&quot;intel&quot;</td><td>2022</td><td>0.45</td></tr><tr><td>&quot;nvidia&quot;</td><td>190</td><td>0.04</td></tr><tr><td>&quot;amd&quot;</td><td>112</td><td>0.03</td></tr><tr><td>&quot;other&quot;</td><td>59</td><td>0.01</td></tr><tr><td>&quot;mali&quot;</td><td>3</td><td>0.0</td></tr></tbody></table></div>"
      ]
     },
     "execution_count": 68,
     "metadata": {},
     "output_type": "execute_result"
    }
   ],
   "execution_count": 68
  },
  {
   "metadata": {},
   "cell_type": "markdown",
   "source": [
    "## Cleaning `processor_speed`\n",
    "\n",
    "The variable `processor_speed` represents the clock speed of a computer's processor, typically measured in GHz (gigahertz). It reflects how fast the processor can perform tasks, with higher values generally indicating faster performance. However, the variable in this dataset presents several challenges that need to be addressed during data cleaning:"
   ],
   "id": "c1773a2bbc41f54e"
  },
  {
   "metadata": {
    "ExecuteTime": {
     "end_time": "2025-04-04T01:26:34.709012Z",
     "start_time": "2025-04-04T01:26:34.704776Z"
    }
   },
   "cell_type": "code",
   "source": "value_counts_with_proportion(df['processor_speed'])",
   "id": "bb629439545ddebe",
   "outputs": [
    {
     "data": {
      "text/plain": [
       "shape: (195, 3)\n",
       "┌─────────────────┬───────┬────────────┐\n",
       "│ processor_speed ┆ count ┆ proportion │\n",
       "│ ---             ┆ ---   ┆ ---        │\n",
       "│ str             ┆ u32   ┆ f64        │\n",
       "╞═════════════════╪═══════╪════════════╡\n",
       "│ null            ┆ 2328  ┆ 0.52       │\n",
       "│ 2.60 GHz        ┆ 263   ┆ 0.06       │\n",
       "│ 2.00-3.00GHz    ┆ 178   ┆ 0.04       │\n",
       "│ 2.40 GHz        ┆ 139   ┆ 0.03       │\n",
       "│ 2.80 GHz        ┆ 133   ┆ 0.03       │\n",
       "│ …               ┆ …     ┆ …          │\n",
       "│ 2.8GHz          ┆ 1     ┆ 0.0        │\n",
       "│ 1.9GHz          ┆ 1     ┆ 0.0        │\n",
       "│ 1.8GHz          ┆ 1     ┆ 0.0        │\n",
       "│ 1.1-2.8 GHz     ┆ 1     ┆ 0.0        │\n",
       "│ 1.46 GHz        ┆ 1     ┆ 0.0        │\n",
       "└─────────────────┴───────┴────────────┘"
      ],
      "text/html": [
       "<div><style>\n",
       ".dataframe > thead > tr,\n",
       ".dataframe > tbody > tr {\n",
       "  text-align: right;\n",
       "  white-space: pre-wrap;\n",
       "}\n",
       "</style>\n",
       "<small>shape: (195, 3)</small><table border=\"1\" class=\"dataframe\"><thead><tr><th>processor_speed</th><th>count</th><th>proportion</th></tr><tr><td>str</td><td>u32</td><td>f64</td></tr></thead><tbody><tr><td>null</td><td>2328</td><td>0.52</td></tr><tr><td>&quot;2.60 GHz&quot;</td><td>263</td><td>0.06</td></tr><tr><td>&quot;2.00-3.00GHz&quot;</td><td>178</td><td>0.04</td></tr><tr><td>&quot;2.40 GHz&quot;</td><td>139</td><td>0.03</td></tr><tr><td>&quot;2.80 GHz&quot;</td><td>133</td><td>0.03</td></tr><tr><td>&hellip;</td><td>&hellip;</td><td>&hellip;</td></tr><tr><td>&quot;2.8GHz&quot;</td><td>1</td><td>0.0</td></tr><tr><td>&quot;1.9GHz&quot;</td><td>1</td><td>0.0</td></tr><tr><td>&quot;1.8GHz&quot;</td><td>1</td><td>0.0</td></tr><tr><td>&quot;1.1-2.8 GHz&quot;</td><td>1</td><td>0.0</td></tr><tr><td>&quot;1.46 GHz&quot;</td><td>1</td><td>0.0</td></tr></tbody></table></div>"
      ]
     },
     "execution_count": 69,
     "metadata": {},
     "output_type": "execute_result"
    }
   ],
   "execution_count": 69
  },
  {
   "metadata": {},
   "cell_type": "markdown",
   "source": [
    "Observations:\n",
    "- **Null Values**: There are null values present, which represent missing or unavailable data.\n",
    "- **Inconsistent Formats**: The values are recorded in various formats, e.g., `2.60 GHz`, `2.60GHz`, `2.00-3.00GHz`, `Core 2 Duo Processor`, etc. These discrepancies need to be standardized.\n",
    "- **Irrelevant Entries**: Some entries are not processor speeds at all (e.g., `Various`, `See Title/Description`, or `Good`)."
   ],
   "id": "6a36928278a4f63a"
  },
  {
   "metadata": {
    "ExecuteTime": {
     "end_time": "2025-04-04T01:26:35.037948Z",
     "start_time": "2025-04-04T01:26:35.033161Z"
    }
   },
   "cell_type": "code",
   "source": [
    "# Helper function to extract the processor speed unit (GHz, MHz, or unknown)\n",
    "def extract_processor_speed_unit(processor_speed: str) -> Optional[str]:\n",
    "    \"\"\"\n",
    "    Extracts the unit (GHz, MHz, or 'unknown') from the processor speed string.\n",
    "\n",
    "    Args:\n",
    "        processor_speed (str): The processor speed string to process (e.g., '2.5 GHz', '2500 MHz').\n",
    "\n",
    "    Returns:\n",
    "        Optional[str]: The unit of the processor speed (GHz, MHz, or 'unknown').\n",
    "    \"\"\"\n",
    "    # Null check to guard against None values\n",
    "    if processor_speed is None:\n",
    "        return 'unknown'\n",
    "\n",
    "    # String useful for caseless comparisons\n",
    "    processor_speed = processor_speed.casefold()\n",
    "\n",
    "    # Check for GHz or MHz\n",
    "    if 'ghz' in processor_speed:\n",
    "        return 'GHz'\n",
    "    elif 'mhz' in processor_speed:\n",
    "        return 'MHz'\n",
    "    else:\n",
    "        return 'unknown'\n",
    "\n",
    "\n",
    "# Helper function to extract the numeric value of the processor speed\n",
    "def extract_processor_speed_value(processor_speed: str) -> Optional[float]:\n",
    "    \"\"\"\n",
    "    Extracts the numeric value of the processor speed from the string (e.g., '2.5 GHz' -> 2.5).\n",
    "\n",
    "    Args:\n",
    "        processor_speed (str): The processor speed string to process (e.g., '2.5 GHz', '2500 MHz').\n",
    "\n",
    "    Returns:\n",
    "        Optional[float]: The numeric value of the processor speed or None if invalid format.\n",
    "    \"\"\"\n",
    "    if processor_speed is None:\n",
    "        return None\n",
    "\n",
    "    # Normalize the string by removing spaces and converting to lowercase\n",
    "    processor_speed = ''.join(processor_speed.split()).lower()\n",
    "\n",
    "    # Check if 'hz' is in the processor speed and extract the numeric value\n",
    "    if 'hz' in processor_speed:\n",
    "        # Remove spaces and check if the 'hz' is present\n",
    "        processor_speed = ''.join(processor_speed.split())  # Remove spaces\n",
    "\n",
    "        # Try to extract the numeric value by looking for the part before 'hz'\n",
    "        hz_index = processor_speed.find('hz')\n",
    "\n",
    "        # If there are enough characters before 'hz' (e.g., '2.5 GHz')\n",
    "        if hz_index - 5 < 0:\n",
    "            # Extract the part before 'hz'\n",
    "            number_part = processor_speed[:hz_index]\n",
    "        else:\n",
    "            # Extract 5 characters before 'hz' (to cover cases like '2500 MHz')\n",
    "            number_part = processor_speed[hz_index - 5:hz_index]\n",
    "\n",
    "        # Try to convert the extracted part to a float\n",
    "        try:\n",
    "            return float(number_part)\n",
    "        except ValueError:\n",
    "            return None\n",
    "    else:\n",
    "        return None"
   ],
   "id": "eb9572a11a916e0d",
   "outputs": [],
   "execution_count": 70
  },
  {
   "metadata": {
    "ExecuteTime": {
     "end_time": "2025-04-04T01:26:35.323764Z",
     "start_time": "2025-04-04T01:26:35.316920Z"
    }
   },
   "cell_type": "code",
   "source": [
    "df = df.with_columns(\n",
    "    # Extract the numeric value of the processor speed using regex\n",
    "    pl.col('processor_speed')\n",
    "    .str.extract(r\"(\\d+\\.\\d+|\\d+)\", group_index=1)  # Extract numeric value (e.g., 2.60 or 2)\n",
    "    .cast(pl.Float64)  # Convert the result to a float\n",
    "    .alias('processor_speed_clean'),\n",
    "    # Extract the unit of the processor speed (GHz, MHz, or unknown)\n",
    "    pl.col('processor_speed')\n",
    "    .map_elements(function=extract_processor_speed_unit, skip_nulls=False, return_dtype=pl.String)  # Extract unit part\n",
    "    .cast(pl.Enum(['unknown', 'MHz', 'GHz'])) # Cast to enum data type\n",
    "    .alias('processor_speed_unit_clean')\n",
    ")"
   ],
   "id": "38db1769a33257fb",
   "outputs": [],
   "execution_count": 71
  },
  {
   "metadata": {
    "ExecuteTime": {
     "end_time": "2025-04-04T01:26:35.487872Z",
     "start_time": "2025-04-04T01:26:35.483301Z"
    }
   },
   "cell_type": "code",
   "source": "value_counts_with_proportion(df['processor_speed_clean'])",
   "id": "803116ee42dc0847",
   "outputs": [
    {
     "data": {
      "text/plain": [
       "shape: (66, 3)\n",
       "┌───────────────────────┬───────┬────────────┐\n",
       "│ processor_speed_clean ┆ count ┆ proportion │\n",
       "│ ---                   ┆ ---   ┆ ---        │\n",
       "│ f64                   ┆ u32   ┆ f64        │\n",
       "╞═══════════════════════╪═══════╪════════════╡\n",
       "│ null                  ┆ 2336  ┆ 0.52       │\n",
       "│ 2.6                   ┆ 272   ┆ 0.06       │\n",
       "│ 2.0                   ┆ 232   ┆ 0.05       │\n",
       "│ 2.4                   ┆ 172   ┆ 0.04       │\n",
       "│ 1.6                   ┆ 165   ┆ 0.04       │\n",
       "│ …                     ┆ …     ┆ …          │\n",
       "│ 5.2                   ┆ 1     ┆ 0.0        │\n",
       "│ 2.399                 ┆ 1     ┆ 0.0        │\n",
       "│ 7.0                   ┆ 1     ┆ 0.0        │\n",
       "│ 5.1                   ┆ 1     ┆ 0.0        │\n",
       "│ 1.46                  ┆ 1     ┆ 0.0        │\n",
       "└───────────────────────┴───────┴────────────┘"
      ],
      "text/html": [
       "<div><style>\n",
       ".dataframe > thead > tr,\n",
       ".dataframe > tbody > tr {\n",
       "  text-align: right;\n",
       "  white-space: pre-wrap;\n",
       "}\n",
       "</style>\n",
       "<small>shape: (66, 3)</small><table border=\"1\" class=\"dataframe\"><thead><tr><th>processor_speed_clean</th><th>count</th><th>proportion</th></tr><tr><td>f64</td><td>u32</td><td>f64</td></tr></thead><tbody><tr><td>null</td><td>2336</td><td>0.52</td></tr><tr><td>2.6</td><td>272</td><td>0.06</td></tr><tr><td>2.0</td><td>232</td><td>0.05</td></tr><tr><td>2.4</td><td>172</td><td>0.04</td></tr><tr><td>1.6</td><td>165</td><td>0.04</td></tr><tr><td>&hellip;</td><td>&hellip;</td><td>&hellip;</td></tr><tr><td>5.2</td><td>1</td><td>0.0</td></tr><tr><td>2.399</td><td>1</td><td>0.0</td></tr><tr><td>7.0</td><td>1</td><td>0.0</td></tr><tr><td>5.1</td><td>1</td><td>0.0</td></tr><tr><td>1.46</td><td>1</td><td>0.0</td></tr></tbody></table></div>"
      ]
     },
     "execution_count": 72,
     "metadata": {},
     "output_type": "execute_result"
    }
   ],
   "execution_count": 72
  },
  {
   "metadata": {
    "ExecuteTime": {
     "end_time": "2025-04-04T01:26:35.721187Z",
     "start_time": "2025-04-04T01:26:35.717426Z"
    }
   },
   "cell_type": "code",
   "source": "value_counts_with_proportion(df['processor_speed_unit_clean'])",
   "id": "b4d7ca6a85f848d1",
   "outputs": [
    {
     "data": {
      "text/plain": [
       "shape: (3, 3)\n",
       "┌────────────────────────────┬───────┬────────────┐\n",
       "│ processor_speed_unit_clean ┆ count ┆ proportion │\n",
       "│ ---                        ┆ ---   ┆ ---        │\n",
       "│ enum                       ┆ u32   ┆ f64        │\n",
       "╞════════════════════════════╪═══════╪════════════╡\n",
       "│ unknown                    ┆ 2342  ┆ 0.52       │\n",
       "│ GHz                        ┆ 2129  ┆ 0.48       │\n",
       "│ MHz                        ┆ 4     ┆ 0.0        │\n",
       "└────────────────────────────┴───────┴────────────┘"
      ],
      "text/html": [
       "<div><style>\n",
       ".dataframe > thead > tr,\n",
       ".dataframe > tbody > tr {\n",
       "  text-align: right;\n",
       "  white-space: pre-wrap;\n",
       "}\n",
       "</style>\n",
       "<small>shape: (3, 3)</small><table border=\"1\" class=\"dataframe\"><thead><tr><th>processor_speed_unit_clean</th><th>count</th><th>proportion</th></tr><tr><td>enum</td><td>u32</td><td>f64</td></tr></thead><tbody><tr><td>&quot;unknown&quot;</td><td>2342</td><td>0.52</td></tr><tr><td>&quot;GHz&quot;</td><td>2129</td><td>0.48</td></tr><tr><td>&quot;MHz&quot;</td><td>4</td><td>0.0</td></tr></tbody></table></div>"
      ]
     },
     "execution_count": 73,
     "metadata": {},
     "output_type": "execute_result"
    }
   ],
   "execution_count": 73
  },
  {
   "metadata": {},
   "cell_type": "markdown",
   "source": [
    "## Cleaning `type`\n",
    "\n",
    "The `type` variable represents the specific type of laptop, such as notebook, ultrabook, 2-in-1, gaming laptop, etc. It is a categorical variable that helps categorize laptops based on their physical design, usage, or form factor.\n",
    "\n",
    "The main issues with this variable are:\n",
    "- **Inconsistent format**: The values in the `type` column may not follow a consistent format or include variations in the naming convention (e.g., `Notebook` vs `notebook` or `Ultrabook` vs `ultrabook`).\n",
    "- **Missing Data**: Like many other columns, the `type` column may also contain missing or null values, which need to be handled.\n",
    "- **Ambiguity and Overlap**: Some types may overlap or be ambiguous (e.g., laptops that could be classified as both a `notebook` and `ultrabook`), leading to potential confusion or misclassification.\n",
    "\n",
    "Therefore, it is essential to clean this variable by *standardizing* the names, *handling missing values* & *grouping* similar types."
   ],
   "id": "793c7d759d9c4cc9"
  },
  {
   "metadata": {
    "ExecuteTime": {
     "end_time": "2025-04-04T01:26:35.973669Z",
     "start_time": "2025-04-04T01:26:35.968737Z"
    }
   },
   "cell_type": "code",
   "source": "value_counts_with_proportion(df['type'])",
   "id": "f69014da74186e42",
   "outputs": [
    {
     "data": {
      "text/plain": [
       "shape: (78, 3)\n",
       "┌─────────────────────────────────┬───────┬────────────┐\n",
       "│ type                            ┆ count ┆ proportion │\n",
       "│ ---                             ┆ ---   ┆ ---        │\n",
       "│ str                             ┆ u32   ┆ f64        │\n",
       "╞═════════════════════════════════╪═══════╪════════════╡\n",
       "│ Notebook/Laptop                 ┆ 2044  ┆ 0.46       │\n",
       "│ null                            ┆ 1859  ┆ 0.42       │\n",
       "│ Ordinateur portable/Pc portabl… ┆ 150   ┆ 0.03       │\n",
       "│ Laptop                          ┆ 105   ┆ 0.02       │\n",
       "│ Chromebook                      ┆ 52    ┆ 0.01       │\n",
       "│ …                               ┆ …     ┆ …          │\n",
       "│ 2 IN 1 CHROMEBOOK               ┆ 1     ┆ 0.0        │\n",
       "│ N/A, Notebook/Laptop            ┆ 1     ┆ 0.0        │\n",
       "│ Macbook Pro                     ┆ 1     ┆ 0.0        │\n",
       "│ CARDBUS ADAPTER                 ┆ 1     ┆ 0.0        │\n",
       "│ Ultra Rugged Toughbook          ┆ 1     ┆ 0.0        │\n",
       "└─────────────────────────────────┴───────┴────────────┘"
      ],
      "text/html": [
       "<div><style>\n",
       ".dataframe > thead > tr,\n",
       ".dataframe > tbody > tr {\n",
       "  text-align: right;\n",
       "  white-space: pre-wrap;\n",
       "}\n",
       "</style>\n",
       "<small>shape: (78, 3)</small><table border=\"1\" class=\"dataframe\"><thead><tr><th>type</th><th>count</th><th>proportion</th></tr><tr><td>str</td><td>u32</td><td>f64</td></tr></thead><tbody><tr><td>&quot;Notebook/Laptop&quot;</td><td>2044</td><td>0.46</td></tr><tr><td>null</td><td>1859</td><td>0.42</td></tr><tr><td>&quot;Ordinateur portable/Pc portabl…</td><td>150</td><td>0.03</td></tr><tr><td>&quot;Laptop&quot;</td><td>105</td><td>0.02</td></tr><tr><td>&quot;Chromebook&quot;</td><td>52</td><td>0.01</td></tr><tr><td>&hellip;</td><td>&hellip;</td><td>&hellip;</td></tr><tr><td>&quot;2 IN 1 CHROMEBOOK&quot;</td><td>1</td><td>0.0</td></tr><tr><td>&quot;N/A, Notebook/Laptop&quot;</td><td>1</td><td>0.0</td></tr><tr><td>&quot;Macbook Pro&quot;</td><td>1</td><td>0.0</td></tr><tr><td>&quot;CARDBUS ADAPTER&quot;</td><td>1</td><td>0.0</td></tr><tr><td>&quot;Ultra Rugged Toughbook&quot;</td><td>1</td><td>0.0</td></tr></tbody></table></div>"
      ]
     },
     "execution_count": 74,
     "metadata": {},
     "output_type": "execute_result"
    }
   ],
   "execution_count": 74
  },
  {
   "metadata": {},
   "cell_type": "markdown",
   "source": [
    "We will clean the variable as aforementioned, by:\n",
    "- **Standardizing** the names (e.g., converting everything to `lowercase`, trimming, removing whitespaces).\n",
    "- **Handling missing values** (e.g., by imputing or categorizing them as 'unknown').\n",
    "- **Grouping similar types** into broader categories to ensure consistency and ease of analysis (e.g: `chromebook` and `notebooks` both get mapped to the general label `laptop`)).\n"
   ],
   "id": "10d92c5a0e8fbb76"
  },
  {
   "metadata": {
    "ExecuteTime": {
     "end_time": "2025-04-04T01:26:36.131067Z",
     "start_time": "2025-04-04T01:26:36.127215Z"
    }
   },
   "cell_type": "code",
   "source": [
    "def map_laptop_type(type_str: str) -> str:\n",
    "    \"\"\"\n",
    "    Maps the input string representing the type of device to a standard category.\n",
    "\n",
    "    The function processes the input string to determine the device type based on the following categories:\n",
    "    - 'laptop' if any of the terms related to laptops are found (e.g., 'netbook', 'notebook', 'laptop', 'macbook', etc.).\n",
    "    - 'pc' if any of the terms related to personal computers are found (e.g., 'pc', 'computer').\n",
    "    - 'tablet' if the string mentions 'tablet'.\n",
    "    - 'other' for any other cases or unrecognized device types.\n",
    "\n",
    "    If the input string is None, empty, or contains no recognizable device type, the function returns 'unknown'.\n",
    "\n",
    "    Args:\n",
    "        type_str (str): The device type string to be processed.\n",
    "\n",
    "    Returns:\n",
    "        str: A standardized device type category.\n",
    "\n",
    "    Example Usage:\n",
    "    --------------\n",
    "    >>> map_laptop_type(\"Macbook Pro 16\")\n",
    "    'laptop'\n",
    "\n",
    "    >>> map_laptop_type(\"Desktop PC\")\n",
    "    'pc'\n",
    "\n",
    "    >>> map_laptop_type(\"Samsung Tablet\")\n",
    "    'tablet'\n",
    "\n",
    "    >>> map_laptop_type(\"Unknown Device\")\n",
    "    'other'\n",
    "\n",
    "    >>> map_laptop_type(\"\")\n",
    "    'unknown'\n",
    "    \"\"\"\n",
    "    if type_str is None or type_str == \"\":  # Check for None or blank\n",
    "        return 'unknown'\n",
    "\n",
    "    str_casefold = type_str.casefold()\n",
    "\n",
    "    laptops = ('netbook', 'notebook', 'laptop', 'macbook', 'thinkpad', 'chromebook', 'ultrabook')\n",
    "    if any(laptop in str_casefold for laptop in laptops):\n",
    "        return 'laptop'\n",
    "\n",
    "    computers = ('pc', 'computer')\n",
    "    if any(pc in str_casefold for pc in computers):\n",
    "        return 'pc'\n",
    "\n",
    "    if 'tablet' in str_casefold:\n",
    "        return 'tablet'\n",
    "\n",
    "    return 'other'\n"
   ],
   "id": "a1abb16740508f08",
   "outputs": [],
   "execution_count": 75
  },
  {
   "metadata": {
    "ExecuteTime": {
     "end_time": "2025-04-04T01:26:36.407275Z",
     "start_time": "2025-04-04T01:26:36.400152Z"
    }
   },
   "cell_type": "code",
   "source": [
    "df = df.with_columns(\n",
    "    pl.col('type')\n",
    "    .map_elements(map_laptop_type, skip_nulls=False, return_dtype=pl.Utf8)  # Map the function to the 'Type' column\n",
    "    .cast(pl.Categorical) # Casting to categorical data type\n",
    "    .alias('laptop_type_clean')  # Create the new column\n",
    ")"
   ],
   "id": "1307f6f9e22fede4",
   "outputs": [],
   "execution_count": 76
  },
  {
   "metadata": {
    "ExecuteTime": {
     "end_time": "2025-04-04T01:26:36.627259Z",
     "start_time": "2025-04-04T01:26:36.621931Z"
    }
   },
   "cell_type": "code",
   "source": "value_counts_with_proportion(df['laptop_type_clean'])",
   "id": "f286cef60766286c",
   "outputs": [
    {
     "data": {
      "text/plain": [
       "shape: (5, 3)\n",
       "┌───────────────────┬───────┬────────────┐\n",
       "│ laptop_type_clean ┆ count ┆ proportion │\n",
       "│ ---               ┆ ---   ┆ ---        │\n",
       "│ cat               ┆ u32   ┆ f64        │\n",
       "╞═══════════════════╪═══════╪════════════╡\n",
       "│ laptop            ┆ 2349  ┆ 0.52       │\n",
       "│ unknown           ┆ 1859  ┆ 0.42       │\n",
       "│ pc                ┆ 184   ┆ 0.04       │\n",
       "│ other             ┆ 69    ┆ 0.02       │\n",
       "│ tablet            ┆ 14    ┆ 0.0        │\n",
       "└───────────────────┴───────┴────────────┘"
      ],
      "text/html": [
       "<div><style>\n",
       ".dataframe > thead > tr,\n",
       ".dataframe > tbody > tr {\n",
       "  text-align: right;\n",
       "  white-space: pre-wrap;\n",
       "}\n",
       "</style>\n",
       "<small>shape: (5, 3)</small><table border=\"1\" class=\"dataframe\"><thead><tr><th>laptop_type_clean</th><th>count</th><th>proportion</th></tr><tr><td>cat</td><td>u32</td><td>f64</td></tr></thead><tbody><tr><td>&quot;laptop&quot;</td><td>2349</td><td>0.52</td></tr><tr><td>&quot;unknown&quot;</td><td>1859</td><td>0.42</td></tr><tr><td>&quot;pc&quot;</td><td>184</td><td>0.04</td></tr><tr><td>&quot;other&quot;</td><td>69</td><td>0.02</td></tr><tr><td>&quot;tablet&quot;</td><td>14</td><td>0.0</td></tr></tbody></table></div>"
      ]
     },
     "execution_count": 77,
     "metadata": {},
     "output_type": "execute_result"
    }
   ],
   "execution_count": 77
  },
  {
   "metadata": {},
   "cell_type": "markdown",
   "source": [
    "Observations:\n",
    "- **Missing Data**: 50% of the data was missing, now mapped to `unknown`, making the dataset more consistent.\n",
    "- **Consolidation**: Similar types like `Notebook`, `Laptop`, and `Pc Portable` were grouped into broader categories like `laptop` and `pc`, reducing noise. Similarly, rare categories were mapped to the `other` label.\n",
    "- **Dominant Categories**: The majority of the data now falls into `laptop` (44%), with `unknown` (50%) remaining the largest category due to missing values. Both these categories contain more than 90% of the data.\n"
   ],
   "id": "dc49d2488a902958"
  },
  {
   "metadata": {},
   "cell_type": "markdown",
   "source": [
    "## Cleaning `release_year`\n",
    "\n",
    "The `release_year` variable represents the year when a laptop was originally released or refurbished. \\\n",
    "As this data was scraped from eBay listings, where sellers often provide information about the release year of the laptops. However, some of the values are ambiguous, indicating either refurbishment dates, invalid data, or text labels that don't correspond to specific years."
   ],
   "id": "8b4a845a9b542338"
  },
  {
   "metadata": {
    "ExecuteTime": {
     "end_time": "2025-04-04T01:26:36.780111Z",
     "start_time": "2025-04-04T01:26:36.775962Z"
    }
   },
   "cell_type": "code",
   "source": "value_counts_with_proportion(df['release_year'])",
   "id": "2d4b46126887cbe2",
   "outputs": [
    {
     "data": {
      "text/plain": [
       "shape: (39, 3)\n",
       "┌──────────────────┬───────┬────────────┐\n",
       "│ release_year     ┆ count ┆ proportion │\n",
       "│ ---              ┆ ---   ┆ ---        │\n",
       "│ str              ┆ u32   ┆ f64        │\n",
       "╞══════════════════╪═══════╪════════════╡\n",
       "│ null             ┆ 3850  ┆ 0.86       │\n",
       "│ 2019             ┆ 93    ┆ 0.02       │\n",
       "│ 2023             ┆ 82    ┆ 0.02       │\n",
       "│ 2021             ┆ 71    ┆ 0.02       │\n",
       "│ 2022             ┆ 67    ┆ 0.01       │\n",
       "│ …                ┆ …     ┆ …          │\n",
       "│ 2005             ┆ 1     ┆ 0.0        │\n",
       "│ 2000             ┆ 1     ┆ 0.0        │\n",
       "│ 2022 Refurbished ┆ 1     ┆ 0.0        │\n",
       "│ 6/11/2021        ┆ 1     ┆ 0.0        │\n",
       "│ 2023 Refurbished ┆ 1     ┆ 0.0        │\n",
       "└──────────────────┴───────┴────────────┘"
      ],
      "text/html": [
       "<div><style>\n",
       ".dataframe > thead > tr,\n",
       ".dataframe > tbody > tr {\n",
       "  text-align: right;\n",
       "  white-space: pre-wrap;\n",
       "}\n",
       "</style>\n",
       "<small>shape: (39, 3)</small><table border=\"1\" class=\"dataframe\"><thead><tr><th>release_year</th><th>count</th><th>proportion</th></tr><tr><td>str</td><td>u32</td><td>f64</td></tr></thead><tbody><tr><td>null</td><td>3850</td><td>0.86</td></tr><tr><td>&quot;2019&quot;</td><td>93</td><td>0.02</td></tr><tr><td>&quot;2023&quot;</td><td>82</td><td>0.02</td></tr><tr><td>&quot;2021&quot;</td><td>71</td><td>0.02</td></tr><tr><td>&quot;2022&quot;</td><td>67</td><td>0.01</td></tr><tr><td>&hellip;</td><td>&hellip;</td><td>&hellip;</td></tr><tr><td>&quot;2005&quot;</td><td>1</td><td>0.0</td></tr><tr><td>&quot;2000&quot;</td><td>1</td><td>0.0</td></tr><tr><td>&quot;2022 Refurbished&quot;</td><td>1</td><td>0.0</td></tr><tr><td>&quot;6/11/2021&quot;</td><td>1</td><td>0.0</td></tr><tr><td>&quot;2023 Refurbished&quot;</td><td>1</td><td>0.0</td></tr></tbody></table></div>"
      ]
     },
     "execution_count": 78,
     "metadata": {},
     "output_type": "execute_result"
    }
   ],
   "execution_count": 78
  },
  {
   "metadata": {},
   "cell_type": "markdown",
   "source": [
    "### Observations:\n",
    "- The `null` values make up a significant portion of the data (88%), indicating missing or unrecorded release year information.\n",
    "- There are various non-standard values, such as `Refurbished in 2023`, `Any`, `N/a`, and even product names like `Acer Aspire V3-571G`. These values will need to be cleaned or mapped to a valid year or category."
   ],
   "id": "e9615bf20ea4f585"
  },
  {
   "metadata": {
    "ExecuteTime": {
     "end_time": "2025-04-04T01:26:37.090846Z",
     "start_time": "2025-04-04T01:26:37.088008Z"
    }
   },
   "cell_type": "code",
   "source": [
    "df = df.with_columns(\n",
    "    pl.col(\"release_year\")\n",
    "    .str.extract(r\"\\b(20[0-2][0-9]|200[0-9])\\b\")  # Extracts valid years (2000-2024)\n",
    "    .cast(pl.Int64)  # Convert to integer\n",
    "    .alias(\"release_year_clean\")\n",
    ")"
   ],
   "id": "e5384328a3a9c8c4",
   "outputs": [],
   "execution_count": 79
  },
  {
   "metadata": {
    "ExecuteTime": {
     "end_time": "2025-04-04T01:26:37.241396Z",
     "start_time": "2025-04-04T01:26:37.237140Z"
    }
   },
   "cell_type": "code",
   "source": "value_counts_with_proportion(df['release_year_clean'])",
   "id": "58af595532f2429c",
   "outputs": [
    {
     "data": {
      "text/plain": [
       "shape: (21, 3)\n",
       "┌────────────────────┬───────┬────────────┐\n",
       "│ release_year_clean ┆ count ┆ proportion │\n",
       "│ ---                ┆ ---   ┆ ---        │\n",
       "│ i64                ┆ u32   ┆ f64        │\n",
       "╞════════════════════╪═══════╪════════════╡\n",
       "│ null               ┆ 3867  ┆ 0.86       │\n",
       "│ 2023               ┆ 102   ┆ 0.02       │\n",
       "│ 2019               ┆ 93    ┆ 0.02       │\n",
       "│ 2021               ┆ 72    ┆ 0.02       │\n",
       "│ 2022               ┆ 70    ┆ 0.02       │\n",
       "│ …                  ┆ …     ┆ …          │\n",
       "│ 2024               ┆ 1     ┆ 0.0        │\n",
       "│ 2008               ┆ 1     ┆ 0.0        │\n",
       "│ 2009               ┆ 1     ┆ 0.0        │\n",
       "│ 2005               ┆ 1     ┆ 0.0        │\n",
       "│ 2000               ┆ 1     ┆ 0.0        │\n",
       "└────────────────────┴───────┴────────────┘"
      ],
      "text/html": [
       "<div><style>\n",
       ".dataframe > thead > tr,\n",
       ".dataframe > tbody > tr {\n",
       "  text-align: right;\n",
       "  white-space: pre-wrap;\n",
       "}\n",
       "</style>\n",
       "<small>shape: (21, 3)</small><table border=\"1\" class=\"dataframe\"><thead><tr><th>release_year_clean</th><th>count</th><th>proportion</th></tr><tr><td>i64</td><td>u32</td><td>f64</td></tr></thead><tbody><tr><td>null</td><td>3867</td><td>0.86</td></tr><tr><td>2023</td><td>102</td><td>0.02</td></tr><tr><td>2019</td><td>93</td><td>0.02</td></tr><tr><td>2021</td><td>72</td><td>0.02</td></tr><tr><td>2022</td><td>70</td><td>0.02</td></tr><tr><td>&hellip;</td><td>&hellip;</td><td>&hellip;</td></tr><tr><td>2024</td><td>1</td><td>0.0</td></tr><tr><td>2008</td><td>1</td><td>0.0</td></tr><tr><td>2009</td><td>1</td><td>0.0</td></tr><tr><td>2005</td><td>1</td><td>0.0</td></tr><tr><td>2000</td><td>1</td><td>0.0</td></tr></tbody></table></div>"
      ]
     },
     "execution_count": 80,
     "metadata": {},
     "output_type": "execute_result"
    }
   ],
   "execution_count": 80
  },
  {
   "metadata": {},
   "cell_type": "markdown",
   "source": [
    "Observations:\n",
    "- **Standardization of release years**: The non-standard values (e.g., \"Refurbished\", \"Any\", \"Acer Aspire V3-571G\") have been removed, leaving only valid years. This improves the consistency and accuracy of the `release_year_clean` variable, now focusing solely on actual release years.\n",
    "- **Persistence of some outlier years**: Some outlier years like `2024`, `2000`, and `2005` remain in the dataset.\n"
   ],
   "id": "77c3b3bc7e3bfa46"
  },
  {
   "metadata": {},
   "cell_type": "markdown",
   "source": [
    "## Cleaning `maximum_resolution`\n",
    "\n",
    "The `maximum_resolution` variable represents the display resolution of laptops listed on eBay, typically shown as a combination of width and height in pixels (e.g., `'1920 x 1080'` or `'Full HD'`).\n",
    "\n",
    "However, this column contains various inconsistencies, including multiple ways of representing resolutions, variations in spacing, and occasional non-resolution data (like `'See Title/Description'`). These inconsistencies can hinder analysis and require cleaning to standardize the values."
   ],
   "id": "7947bf259566100c"
  },
  {
   "metadata": {
    "ExecuteTime": {
     "end_time": "2025-04-04T01:26:37.474690Z",
     "start_time": "2025-04-04T01:26:37.469590Z"
    }
   },
   "cell_type": "code",
   "source": "value_counts_with_proportion(df['maximum_resolution'])",
   "id": "8b0ac42f937fb5cc",
   "outputs": [
    {
     "data": {
      "text/plain": [
       "shape: (79, 3)\n",
       "┌────────────────────┬───────┬────────────┐\n",
       "│ maximum_resolution ┆ count ┆ proportion │\n",
       "│ ---                ┆ ---   ┆ ---        │\n",
       "│ str                ┆ u32   ┆ f64        │\n",
       "╞════════════════════╪═══════╪════════════╡\n",
       "│ null               ┆ 2487  ┆ 0.56       │\n",
       "│ 1920 x 1080        ┆ 553   ┆ 0.12       │\n",
       "│ HD                 ┆ 476   ┆ 0.11       │\n",
       "│ 1366 x 768         ┆ 390   ┆ 0.09       │\n",
       "│ Full HD            ┆ 214   ┆ 0.05       │\n",
       "│ …                  ┆ …     ┆ …          │\n",
       "│ 2220x1080          ┆ 1     ┆ 0.0        │\n",
       "│ 1920×1080          ┆ 1     ┆ 0.0        │\n",
       "│ 3200 x 1800        ┆ 1     ┆ 0.0        │\n",
       "│ 1900x600           ┆ 1     ┆ 0.0        │\n",
       "│ 2256x1504          ┆ 1     ┆ 0.0        │\n",
       "└────────────────────┴───────┴────────────┘"
      ],
      "text/html": [
       "<div><style>\n",
       ".dataframe > thead > tr,\n",
       ".dataframe > tbody > tr {\n",
       "  text-align: right;\n",
       "  white-space: pre-wrap;\n",
       "}\n",
       "</style>\n",
       "<small>shape: (79, 3)</small><table border=\"1\" class=\"dataframe\"><thead><tr><th>maximum_resolution</th><th>count</th><th>proportion</th></tr><tr><td>str</td><td>u32</td><td>f64</td></tr></thead><tbody><tr><td>null</td><td>2487</td><td>0.56</td></tr><tr><td>&quot;1920 x 1080&quot;</td><td>553</td><td>0.12</td></tr><tr><td>&quot;HD&quot;</td><td>476</td><td>0.11</td></tr><tr><td>&quot;1366 x 768&quot;</td><td>390</td><td>0.09</td></tr><tr><td>&quot;Full HD&quot;</td><td>214</td><td>0.05</td></tr><tr><td>&hellip;</td><td>&hellip;</td><td>&hellip;</td></tr><tr><td>&quot;2220x1080&quot;</td><td>1</td><td>0.0</td></tr><tr><td>&quot;1920×1080&quot;</td><td>1</td><td>0.0</td></tr><tr><td>&quot;3200 x 1800&quot;</td><td>1</td><td>0.0</td></tr><tr><td>&quot;1900x600&quot;</td><td>1</td><td>0.0</td></tr><tr><td>&quot;2256x1504&quot;</td><td>1</td><td>0.0</td></tr></tbody></table></div>"
      ]
     },
     "execution_count": 81,
     "metadata": {},
     "output_type": "execute_result"
    }
   ],
   "execution_count": 81
  },
  {
   "metadata": {},
   "cell_type": "markdown",
   "source": [
    "Observations:\n",
    "- **High Proportion of Missing Values**: The `null` values account for 63% of the dataset, indicating that a significant portion of listings does not provide resolution information. These null values will need to be handled appropriately, either by imputation or removal based on the analysis goals.\n",
    "- **Multiple Representations of Resolution**: The same resolution is often written in various formats. For example:\n",
    "   - `1920 x 1080` vs `1920x1080` vs `1920x1080 FHD` (all represent `Full HD`).\n",
    "   - `HD`, `Full HD`, and other text-based representations for resolutions.\n",
    "- **Outlier/Irrelevant Entries**: There are several non-resolution strings like `Like New` and `See Title/Description` that will not contribute to the analysis and need to be removed or mapped to a null value."
   ],
   "id": "bc77f472e97b4ee0"
  },
  {
   "metadata": {
    "ExecuteTime": {
     "end_time": "2025-04-04T01:26:37.730737Z",
     "start_time": "2025-04-04T01:26:37.726835Z"
    }
   },
   "cell_type": "code",
   "source": [
    "# Dictionary mapping resolution types to their corresponding width and height values\n",
    "def fetch_default_resolution_replace_map() -> dict[str, list[str]]:\n",
    "    \"\"\"\n",
    "    Retrieves the default resolution replacement map.\n",
    "\n",
    "    This function returns a dictionary mapping common resolution labels (e.g., 'full hd', 'hd', '2k', '4k')\n",
    "    to their respective width and height values as strings. The returned map is useful for standardizing\n",
    "    or translating resolution labels into actual numerical resolution dimensions, which can be utilized\n",
    "    in various contexts such as media display, video processing, or product descriptions.\n",
    "\n",
    "    Returns:\n",
    "        dict[str, list[str]]: A dictionary where the keys are resolution labels (e.g., 'full hd') and the values\n",
    "                              are lists containing the corresponding width and height values as strings.\n",
    "                              Example:\n",
    "                              {\n",
    "                                  'full hd': ['1920', '1080'],\n",
    "                                  'hd': ['1280', '720'],\n",
    "                                  '2k': ['2048', '1080'],\n",
    "                                  '4k': ['3840', '2160']\n",
    "                              }\n",
    "\n",
    "    Example:\n",
    "        >>> resolution_map = fetch_default_resolution_replace_map()\n",
    "        >>> resolution_map['hd']\n",
    "        ['1280', '720']\n",
    "    \"\"\"\n",
    "    return {\n",
    "        'full hd': ['1920', '1080'],\n",
    "        'hd': ['1280', '720'],\n",
    "        '2k': ['2048', '1080'],\n",
    "        '4k': ['3840', '2160']\n",
    "    }\n",
    "\n",
    "\n",
    "def try_get_resolution_value(resolution: str, resolution_dict: dict[str, list[str]], index: int) -> Optional[str]:\n",
    "    \"\"\"\n",
    "    Helper function to retrieve the width or height from the resolution dictionary or the 'width x height' format.\n",
    "\n",
    "    Args:\n",
    "        resolution (str): The resolution string to process (e.g., '1920x1080', 'full hd').\n",
    "        resolution_dict (dict): A dictionary mapping resolution names to their respective width and height.\n",
    "        index (int): The index (0 for width, 1 for height) to retrieve from the dictionary.\n",
    "\n",
    "    Returns:\n",
    "        Optional[str]: The width or height of the resolution as a string, or None if no valid resolution can be extracted.\n",
    "    \"\"\"\n",
    "    # Null check to guard against None values\n",
    "    if resolution is None:\n",
    "        return None\n",
    "\n",
    "    # Normalize the resolution string by removing spaces and converting to lowercase\n",
    "    resolution = ''.join(resolution.split()).lower()\n",
    "\n",
    "    # Check if the resolution matches one of the predefined names in the dictionary\n",
    "    if resolution in resolution_dict:\n",
    "        return resolution_dict[resolution][index]\n",
    "\n",
    "    # Check if the resolution contains 'k' and is in the dictionary (e.g., '4k')\n",
    "    elif 'k' in resolution and resolution in resolution_dict:\n",
    "        return resolution_dict[resolution][index]\n",
    "\n",
    "    # Check if the resolution is in the format 'width x height'\n",
    "    elif 'x' in resolution:\n",
    "        parts = resolution.split('x')\n",
    "        if len(parts) == 2:\n",
    "            # Return the corresponding part (width or height) based on the index\n",
    "            return re.sub(\"[a-z()]\", '', parts[index]).strip()\n",
    "\n",
    "    return 'unknown'"
   ],
   "id": "20d6a2c626b6c4bf",
   "outputs": [],
   "execution_count": 82
  },
  {
   "metadata": {
    "ExecuteTime": {
     "end_time": "2025-04-04T01:26:37.901041Z",
     "start_time": "2025-04-04T01:26:37.897524Z"
    }
   },
   "cell_type": "code",
   "source": [
    "def extract_width_from_resolution_str(resolution: str,\n",
    "                                      resolution_dict: dict[str, list[str]] = None) -> Optional[str]:\n",
    "    \"\"\"\n",
    "    Extract the width of a display from a resolution string.\n",
    "\n",
    "    Uses the helper function to retrieve the width from the resolution dictionary or from the 'width x height' format.\n",
    "\n",
    "    Args:\n",
    "        resolution (str): The resolution string to process (e.g., '1920x1080', 'full hd').\n",
    "        resolution_dict (dict, optional): A dictionary mapping resolution names to their respective width and height.\n",
    "\n",
    "    Returns:\n",
    "        Optional[str]: The width of the resolution as a string, or None if no valid resolution can be extracted.\n",
    "    \"\"\"\n",
    "    if resolution_dict is None:\n",
    "        resolution_dict = fetch_default_resolution_replace_map()\n",
    "\n",
    "    # Try getting the width using the helper function\n",
    "    return try_get_resolution_value(resolution, resolution_dict, index=0)\n",
    "\n",
    "\n",
    "def extract_height_from_resolution_str(resolution: str,\n",
    "                                       resolution_dict: dict[str, list[str]] = None) -> Optional[str]:\n",
    "    \"\"\"\n",
    "    Extract the height of a display from a resolution string.\n",
    "\n",
    "    Uses the helper function to retrieve the height from the resolution dictionary or from the 'width x height' format.\n",
    "\n",
    "    Args:\n",
    "        resolution (str): The resolution string to process (e.g., '1920x1080', 'full hd').\n",
    "        resolution_dict (dict, optional): A dictionary mapping resolution names to their respective width and height.\n",
    "\n",
    "    Returns:\n",
    "        Optional[str]: The height of the resolution as a string, or None if no valid resolution can be extracted.\n",
    "    \"\"\"\n",
    "    if resolution_dict is None:\n",
    "        resolution_dict = fetch_default_resolution_replace_map()\n",
    "\n",
    "    # Try getting the height using the helper function\n",
    "    return try_get_resolution_value(resolution, resolution_dict, index=1)"
   ],
   "id": "a0f99d95dc12524b",
   "outputs": [],
   "execution_count": 83
  },
  {
   "metadata": {
    "ExecuteTime": {
     "end_time": "2025-04-04T01:26:38.122317Z",
     "start_time": "2025-04-04T01:26:38.108260Z"
    }
   },
   "cell_type": "code",
   "source": [
    "df = df.with_columns(\n",
    "    # Transform the 'maximum_resolution' column to extract the display width\n",
    "    pl.col('maximum_resolution')\n",
    "    .str.to_lowercase()  # Convert the resolution string to lowercase for uniformity\n",
    "    .map_elements(function=extract_width_from_resolution_str, skip_nulls=False,\n",
    "                  return_dtype=pl.String)  # Apply the width extraction function\n",
    "    .cast(dtype=pl.Int64, strict=False)  # Cast the result to an integer type\n",
    "    .shrink_dtype()  # Shrink the data type to the smallest possible type to save memory (if applicable)\n",
    "    .alias('display_width_clean'),\n",
    "    # Transform the 'maximum_resolution' column to extract the display height\n",
    "    pl.col('maximum_resolution')\n",
    "    .str.to_lowercase()  # Convert the resolution string to lowercase for uniformity\n",
    "    .map_elements(function=extract_height_from_resolution_str, skip_nulls=False,\n",
    "                  return_dtype=pl.String)  # Apply the height extraction function\n",
    "    .cast(dtype=pl.Int64, strict=False)  # Cast the result to an integer type\n",
    "    .shrink_dtype()  # Shrink the data type to the smallest possible type to save memory (if applicable)\n",
    "    .alias('display_height_clean')\n",
    ")"
   ],
   "id": "825f89e870d896d7",
   "outputs": [],
   "execution_count": 84
  },
  {
   "metadata": {},
   "cell_type": "markdown",
   "source": "Now, we take a look at the newly created `display_heigth_clean` & `display_width_clean` variables:",
   "id": "580fb834997867c9"
  },
  {
   "metadata": {
    "ExecuteTime": {
     "end_time": "2025-04-04T01:26:38.244056Z",
     "start_time": "2025-04-04T01:26:38.238661Z"
    }
   },
   "cell_type": "code",
   "source": "value_counts_with_proportion(df['display_height_clean'])",
   "id": "b212b4b6516d5380",
   "outputs": [
    {
     "data": {
      "text/plain": [
       "shape: (29, 3)\n",
       "┌──────────────────────┬───────┬────────────┐\n",
       "│ display_height_clean ┆ count ┆ proportion │\n",
       "│ ---                  ┆ ---   ┆ ---        │\n",
       "│ i16                  ┆ u32   ┆ f64        │\n",
       "╞══════════════════════╪═══════╪════════════╡\n",
       "│ null                 ┆ 2718  ┆ 0.61       │\n",
       "│ 1080                 ┆ 578   ┆ 0.13       │\n",
       "│ 720                  ┆ 478   ┆ 0.11       │\n",
       "│ 768                  ┆ 414   ┆ 0.09       │\n",
       "│ 1200                 ┆ 61    ┆ 0.01       │\n",
       "│ …                    ┆ …     ┆ …          │\n",
       "│ 1350                 ┆ 1     ┆ 0.0        │\n",
       "│ 1024                 ┆ 1     ┆ 0.0        │\n",
       "│ 788                  ┆ 1     ┆ 0.0        │\n",
       "│ 576                  ┆ 1     ┆ 0.0        │\n",
       "│ 1650                 ┆ 1     ┆ 0.0        │\n",
       "└──────────────────────┴───────┴────────────┘"
      ],
      "text/html": [
       "<div><style>\n",
       ".dataframe > thead > tr,\n",
       ".dataframe > tbody > tr {\n",
       "  text-align: right;\n",
       "  white-space: pre-wrap;\n",
       "}\n",
       "</style>\n",
       "<small>shape: (29, 3)</small><table border=\"1\" class=\"dataframe\"><thead><tr><th>display_height_clean</th><th>count</th><th>proportion</th></tr><tr><td>i16</td><td>u32</td><td>f64</td></tr></thead><tbody><tr><td>null</td><td>2718</td><td>0.61</td></tr><tr><td>1080</td><td>578</td><td>0.13</td></tr><tr><td>720</td><td>478</td><td>0.11</td></tr><tr><td>768</td><td>414</td><td>0.09</td></tr><tr><td>1200</td><td>61</td><td>0.01</td></tr><tr><td>&hellip;</td><td>&hellip;</td><td>&hellip;</td></tr><tr><td>1350</td><td>1</td><td>0.0</td></tr><tr><td>1024</td><td>1</td><td>0.0</td></tr><tr><td>788</td><td>1</td><td>0.0</td></tr><tr><td>576</td><td>1</td><td>0.0</td></tr><tr><td>1650</td><td>1</td><td>0.0</td></tr></tbody></table></div>"
      ]
     },
     "execution_count": 85,
     "metadata": {},
     "output_type": "execute_result"
    }
   ],
   "execution_count": 85
  },
  {
   "metadata": {
    "ExecuteTime": {
     "end_time": "2025-04-04T01:26:38.386192Z",
     "start_time": "2025-04-04T01:26:38.381758Z"
    }
   },
   "cell_type": "code",
   "source": "value_counts_with_proportion(df['display_width_clean'])",
   "id": "77886e746c716840",
   "outputs": [
    {
     "data": {
      "text/plain": [
       "shape: (28, 3)\n",
       "┌─────────────────────┬───────┬────────────┐\n",
       "│ display_width_clean ┆ count ┆ proportion │\n",
       "│ ---                 ┆ ---   ┆ ---        │\n",
       "│ i16                 ┆ u32   ┆ f64        │\n",
       "╞═════════════════════╪═══════╪════════════╡\n",
       "│ null                ┆ 2718  ┆ 0.61       │\n",
       "│ 1920                ┆ 644   ┆ 0.14       │\n",
       "│ 1280                ┆ 497   ┆ 0.11       │\n",
       "│ 1366                ┆ 405   ┆ 0.09       │\n",
       "│ 1600                ┆ 34    ┆ 0.01       │\n",
       "│ …                   ┆ …     ┆ …          │\n",
       "│ 1028                ┆ 1     ┆ 0.0        │\n",
       "│ 1368                ┆ 1     ┆ 0.0        │\n",
       "│ 2200                ┆ 1     ┆ 0.0        │\n",
       "│ 800                 ┆ 1     ┆ 0.0        │\n",
       "│ 2220                ┆ 1     ┆ 0.0        │\n",
       "└─────────────────────┴───────┴────────────┘"
      ],
      "text/html": [
       "<div><style>\n",
       ".dataframe > thead > tr,\n",
       ".dataframe > tbody > tr {\n",
       "  text-align: right;\n",
       "  white-space: pre-wrap;\n",
       "}\n",
       "</style>\n",
       "<small>shape: (28, 3)</small><table border=\"1\" class=\"dataframe\"><thead><tr><th>display_width_clean</th><th>count</th><th>proportion</th></tr><tr><td>i16</td><td>u32</td><td>f64</td></tr></thead><tbody><tr><td>null</td><td>2718</td><td>0.61</td></tr><tr><td>1920</td><td>644</td><td>0.14</td></tr><tr><td>1280</td><td>497</td><td>0.11</td></tr><tr><td>1366</td><td>405</td><td>0.09</td></tr><tr><td>1600</td><td>34</td><td>0.01</td></tr><tr><td>&hellip;</td><td>&hellip;</td><td>&hellip;</td></tr><tr><td>1028</td><td>1</td><td>0.0</td></tr><tr><td>1368</td><td>1</td><td>0.0</td></tr><tr><td>2200</td><td>1</td><td>0.0</td></tr><tr><td>800</td><td>1</td><td>0.0</td></tr><tr><td>2220</td><td>1</td><td>0.0</td></tr></tbody></table></div>"
      ]
     },
     "execution_count": 86,
     "metadata": {},
     "output_type": "execute_result"
    }
   ],
   "execution_count": 86
  },
  {
   "metadata": {},
   "cell_type": "markdown",
   "source": [
    "## Cleaning `model`\n",
    "\n",
    "The `model` column represents the specific model name or number of the laptop. This could include a combination of words, numbers, and special characters that uniquely identify each laptop model. These values typically provide detailed information about the device, such as the brand, series, generation, and specifications. However, it is essential to understand the structure and characteristics of the data before cleaning it.\n",
    "\n",
    "Hence, we clean and standardize these model names to ensure consistency and meaningful analysis."
   ],
   "id": "7d2ca4c7baa4d5c"
  },
  {
   "metadata": {
    "ExecuteTime": {
     "end_time": "2025-04-04T01:26:38.548648Z",
     "start_time": "2025-04-04T01:26:38.544248Z"
    }
   },
   "cell_type": "code",
   "source": "value_counts_with_proportion(df['model'])",
   "id": "f309789bd0263a09",
   "outputs": [
    {
     "data": {
      "text/plain": [
       "shape: (1_100, 3)\n",
       "┌─────────────────────────────────┬───────┬────────────┐\n",
       "│ model                           ┆ count ┆ proportion │\n",
       "│ ---                             ┆ ---   ┆ ---        │\n",
       "│ str                             ┆ u32   ┆ f64        │\n",
       "╞═════════════════════════════════╪═══════╪════════════╡\n",
       "│ null                            ┆ 1959  ┆ 0.44       │\n",
       "│ E5440                           ┆ 165   ┆ 0.04       │\n",
       "│ E7270                           ┆ 70    ┆ 0.02       │\n",
       "│ E7450                           ┆ 57    ┆ 0.01       │\n",
       "│ Samsung ChromeBook              ┆ 42    ┆ 0.01       │\n",
       "│ …                               ┆ …     ┆ …          │\n",
       "│ 15-dw0081wm                     ┆ 1     ┆ 0.0        │\n",
       "│ Latitude 13 7330 Rugged Extrem… ┆ 1     ┆ 0.0        │\n",
       "│ Dell Inspiron 15 3000           ┆ 1     ┆ 0.0        │\n",
       "│ Lenovo IdeaPad Duet 3 10IGL5    ┆ 1     ┆ 0.0        │\n",
       "│ Dell G7 7700                    ┆ 1     ┆ 0.0        │\n",
       "└─────────────────────────────────┴───────┴────────────┘"
      ],
      "text/html": [
       "<div><style>\n",
       ".dataframe > thead > tr,\n",
       ".dataframe > tbody > tr {\n",
       "  text-align: right;\n",
       "  white-space: pre-wrap;\n",
       "}\n",
       "</style>\n",
       "<small>shape: (1_100, 3)</small><table border=\"1\" class=\"dataframe\"><thead><tr><th>model</th><th>count</th><th>proportion</th></tr><tr><td>str</td><td>u32</td><td>f64</td></tr></thead><tbody><tr><td>null</td><td>1959</td><td>0.44</td></tr><tr><td>&quot;E5440&quot;</td><td>165</td><td>0.04</td></tr><tr><td>&quot;E7270&quot;</td><td>70</td><td>0.02</td></tr><tr><td>&quot;E7450&quot;</td><td>57</td><td>0.01</td></tr><tr><td>&quot;Samsung ChromeBook&quot;</td><td>42</td><td>0.01</td></tr><tr><td>&hellip;</td><td>&hellip;</td><td>&hellip;</td></tr><tr><td>&quot;15-dw0081wm&quot;</td><td>1</td><td>0.0</td></tr><tr><td>&quot;Latitude 13 7330 Rugged Extrem…</td><td>1</td><td>0.0</td></tr><tr><td>&quot;Dell Inspiron 15 3000&quot;</td><td>1</td><td>0.0</td></tr><tr><td>&quot;Lenovo IdeaPad Duet 3 10IGL5&quot;</td><td>1</td><td>0.0</td></tr><tr><td>&quot;Dell G7 7700&quot;</td><td>1</td><td>0.0</td></tr></tbody></table></div>"
      ]
     },
     "execution_count": 87,
     "metadata": {},
     "output_type": "execute_result"
    }
   ],
   "execution_count": 87
  },
  {
   "metadata": {
    "ExecuteTime": {
     "end_time": "2025-04-04T01:26:38.824110Z",
     "start_time": "2025-04-04T01:26:38.815516Z"
    }
   },
   "cell_type": "code",
   "source": [
    "# Cleaning and standardizing the `model` variable\n",
    "df = df.with_columns(\n",
    "    pl.col('model')\n",
    "    .str.to_lowercase()  # Convert the string to lowercase\n",
    "    .str.replace_all(r'\\s+', '_')  # Replace spaces with underscores\n",
    "    .str.replace_all(r'[^a-z0-9_]', '')  # Remove non-alphanumeric characters (except underscores)\n",
    "    .cast(pl.Categorical) # Casting to categorical data type\n",
    "    .alias('model_clean')  # Create a new column with the cleaned model names\n",
    ")\n",
    "\n",
    "df.select(\n",
    "    'model', 'model_clean'\n",
    ").filter(\n",
    "    pl.col('model').is_not_null()\n",
    ").head(n=10)"
   ],
   "id": "d5ea7bc3dd79b5ed",
   "outputs": [
    {
     "data": {
      "text/plain": [
       "shape: (10, 2)\n",
       "┌──────────────────────────┬──────────────────────────┐\n",
       "│ model                    ┆ model_clean              │\n",
       "│ ---                      ┆ ---                      │\n",
       "│ str                      ┆ cat                      │\n",
       "╞══════════════════════════╪══════════════════════════╡\n",
       "│ Dell Latitude 3410       ┆ dell_latitude_3410       │\n",
       "│ HP 15 Inch Laptop        ┆ hp_15_inch_laptop        │\n",
       "│ Dell Latitude 7290       ┆ dell_latitude_7290       │\n",
       "│ Dell Latitude 5480       ┆ dell_latitude_5480       │\n",
       "│ Dell Inspiron 3558       ┆ dell_inspiron_3558       │\n",
       "│ Lenovo ThinkPad L13 Yoga ┆ lenovo_thinkpad_l13_yoga │\n",
       "│ Dell Latitude 7490       ┆ dell_latitude_7490       │\n",
       "│ 5414 i5-6300U            ┆ 5414_i56300u             │\n",
       "│ Chromebook C738T         ┆ chromebook_c738t         │\n",
       "│ Dell Latitude 3190       ┆ dell_latitude_3190       │\n",
       "└──────────────────────────┴──────────────────────────┘"
      ],
      "text/html": [
       "<div><style>\n",
       ".dataframe > thead > tr,\n",
       ".dataframe > tbody > tr {\n",
       "  text-align: right;\n",
       "  white-space: pre-wrap;\n",
       "}\n",
       "</style>\n",
       "<small>shape: (10, 2)</small><table border=\"1\" class=\"dataframe\"><thead><tr><th>model</th><th>model_clean</th></tr><tr><td>str</td><td>cat</td></tr></thead><tbody><tr><td>&quot;Dell Latitude 3410&quot;</td><td>&quot;dell_latitude_3410&quot;</td></tr><tr><td>&quot;HP 15 Inch Laptop&quot;</td><td>&quot;hp_15_inch_laptop&quot;</td></tr><tr><td>&quot;Dell Latitude 7290&quot;</td><td>&quot;dell_latitude_7290&quot;</td></tr><tr><td>&quot;Dell Latitude 5480&quot;</td><td>&quot;dell_latitude_5480&quot;</td></tr><tr><td>&quot;Dell Inspiron 3558&quot;</td><td>&quot;dell_inspiron_3558&quot;</td></tr><tr><td>&quot;Lenovo ThinkPad L13 Yoga&quot;</td><td>&quot;lenovo_thinkpad_l13_yoga&quot;</td></tr><tr><td>&quot;Dell Latitude 7490&quot;</td><td>&quot;dell_latitude_7490&quot;</td></tr><tr><td>&quot;5414 i5-6300U&quot;</td><td>&quot;5414_i56300u&quot;</td></tr><tr><td>&quot;Chromebook C738T&quot;</td><td>&quot;chromebook_c738t&quot;</td></tr><tr><td>&quot;Dell Latitude 3190&quot;</td><td>&quot;dell_latitude_3190&quot;</td></tr></tbody></table></div>"
      ]
     },
     "execution_count": 88,
     "metadata": {},
     "output_type": "execute_result"
    }
   ],
   "execution_count": 88
  },
  {
   "metadata": {
    "ExecuteTime": {
     "end_time": "2025-04-04T01:26:39.024950Z",
     "start_time": "2025-04-04T01:26:39.019763Z"
    }
   },
   "cell_type": "code",
   "source": "value_counts_with_proportion(df['model_clean'])",
   "id": "f06b1987baaa88fa",
   "outputs": [
    {
     "data": {
      "text/plain": [
       "shape: (1_068, 3)\n",
       "┌─────────────────────────────────┬───────┬────────────┐\n",
       "│ model_clean                     ┆ count ┆ proportion │\n",
       "│ ---                             ┆ ---   ┆ ---        │\n",
       "│ cat                             ┆ u32   ┆ f64        │\n",
       "╞═════════════════════════════════╪═══════╪════════════╡\n",
       "│ null                            ┆ 1959  ┆ 0.44       │\n",
       "│ e5440                           ┆ 165   ┆ 0.04       │\n",
       "│ e7270                           ┆ 70    ┆ 0.02       │\n",
       "│ e7450                           ┆ 57    ┆ 0.01       │\n",
       "│ samsung_chromebook              ┆ 42    ┆ 0.01       │\n",
       "│ …                               ┆ …     ┆ …          │\n",
       "│ 15dw0081wm                      ┆ 1     ┆ 0.0        │\n",
       "│ latitude_13_7330_rugged_extrem… ┆ 1     ┆ 0.0        │\n",
       "│ dell_inspiron_15_3000           ┆ 1     ┆ 0.0        │\n",
       "│ lenovo_ideapad_duet_3_10igl5    ┆ 1     ┆ 0.0        │\n",
       "│ dell_g7_7700                    ┆ 1     ┆ 0.0        │\n",
       "└─────────────────────────────────┴───────┴────────────┘"
      ],
      "text/html": [
       "<div><style>\n",
       ".dataframe > thead > tr,\n",
       ".dataframe > tbody > tr {\n",
       "  text-align: right;\n",
       "  white-space: pre-wrap;\n",
       "}\n",
       "</style>\n",
       "<small>shape: (1_068, 3)</small><table border=\"1\" class=\"dataframe\"><thead><tr><th>model_clean</th><th>count</th><th>proportion</th></tr><tr><td>cat</td><td>u32</td><td>f64</td></tr></thead><tbody><tr><td>null</td><td>1959</td><td>0.44</td></tr><tr><td>&quot;e5440&quot;</td><td>165</td><td>0.04</td></tr><tr><td>&quot;e7270&quot;</td><td>70</td><td>0.02</td></tr><tr><td>&quot;e7450&quot;</td><td>57</td><td>0.01</td></tr><tr><td>&quot;samsung_chromebook&quot;</td><td>42</td><td>0.01</td></tr><tr><td>&hellip;</td><td>&hellip;</td><td>&hellip;</td></tr><tr><td>&quot;15dw0081wm&quot;</td><td>1</td><td>0.0</td></tr><tr><td>&quot;latitude_13_7330_rugged_extrem…</td><td>1</td><td>0.0</td></tr><tr><td>&quot;dell_inspiron_15_3000&quot;</td><td>1</td><td>0.0</td></tr><tr><td>&quot;lenovo_ideapad_duet_3_10igl5&quot;</td><td>1</td><td>0.0</td></tr><tr><td>&quot;dell_g7_7700&quot;</td><td>1</td><td>0.0</td></tr></tbody></table></div>"
      ]
     },
     "execution_count": 89,
     "metadata": {},
     "output_type": "execute_result"
    }
   ],
   "execution_count": 89
  },
  {
   "metadata": {},
   "cell_type": "markdown",
   "source": [
    "## Cleaning `os`\n",
    "\n",
    "#### What does it represent?\n",
    "The `os` column represents the operating system installed on the device. This could include common OS types such as `Windows`, `macOS`, `Linux`, `ChromeOS`, and `Android`.\n",
    "\n",
    "#### What is wrong with it?\n",
    "- **Inconsistent formatting**: Some values might be uppercase, lowercase, or a mix.\n",
    "- **Synonyms and variations**: For example, `\"Windows 10\"`, `\"Win 10\"`, and `\"Windows10\"` should all be grouped under `Windows`.\n",
    "- **Noisy or irrelevant values**: Some entries might not be valid OS names (e.g., `\"See Description\"`, `\"N/A\"`, or random text).\n",
    "- **Null values**: Devices with no recorded `os`\n",
    "\n",
    "We now proceed to take a further look at the value counts of the `os` variable:"
   ],
   "id": "d2fd84def0c09f99"
  },
  {
   "metadata": {
    "ExecuteTime": {
     "end_time": "2025-04-04T01:26:39.329418Z",
     "start_time": "2025-04-04T01:26:39.324058Z"
    }
   },
   "cell_type": "code",
   "source": [
    "# Operating system value counts and their proportion.\n",
    "value_counts_with_proportion(df['os'])"
   ],
   "id": "4af45e1de4df6d81",
   "outputs": [
    {
     "data": {
      "text/plain": [
       "shape: (78, 3)\n",
       "┌──────────────────────────┬───────┬────────────┐\n",
       "│ os                       ┆ count ┆ proportion │\n",
       "│ ---                      ┆ ---   ┆ ---        │\n",
       "│ str                      ┆ u32   ┆ f64        │\n",
       "╞══════════════════════════╪═══════╪════════════╡\n",
       "│ null                     ┆ 2051  ┆ 0.46       │\n",
       "│ Windows 11 Pro           ┆ 504   ┆ 0.11       │\n",
       "│ Windows 10 Pro           ┆ 344   ┆ 0.08       │\n",
       "│ Windows 10 Pros          ┆ 293   ┆ 0.07       │\n",
       "│ Chrome OS                ┆ 257   ┆ 0.06       │\n",
       "│ …                        ┆ …     ┆ …          │\n",
       "│ Windows 8.1, Windows 7   ┆ 1     ┆ 0.0        │\n",
       "│ Ubuntu/Linux+2nd OS      ┆ 1     ┆ 0.0        │\n",
       "│ Windows 10 Pro Academic  ┆ 1     ┆ 0.0        │\n",
       "│ Window 11 Pro            ┆ 1     ┆ 0.0        │\n",
       "│ Windows 10 professionals ┆ 1     ┆ 0.0        │\n",
       "└──────────────────────────┴───────┴────────────┘"
      ],
      "text/html": [
       "<div><style>\n",
       ".dataframe > thead > tr,\n",
       ".dataframe > tbody > tr {\n",
       "  text-align: right;\n",
       "  white-space: pre-wrap;\n",
       "}\n",
       "</style>\n",
       "<small>shape: (78, 3)</small><table border=\"1\" class=\"dataframe\"><thead><tr><th>os</th><th>count</th><th>proportion</th></tr><tr><td>str</td><td>u32</td><td>f64</td></tr></thead><tbody><tr><td>null</td><td>2051</td><td>0.46</td></tr><tr><td>&quot;Windows 11 Pro&quot;</td><td>504</td><td>0.11</td></tr><tr><td>&quot;Windows 10 Pro&quot;</td><td>344</td><td>0.08</td></tr><tr><td>&quot;Windows 10 Pros&quot;</td><td>293</td><td>0.07</td></tr><tr><td>&quot;Chrome OS&quot;</td><td>257</td><td>0.06</td></tr><tr><td>&hellip;</td><td>&hellip;</td><td>&hellip;</td></tr><tr><td>&quot;Windows 8.1, Windows 7&quot;</td><td>1</td><td>0.0</td></tr><tr><td>&quot;Ubuntu/Linux+2nd OS&quot;</td><td>1</td><td>0.0</td></tr><tr><td>&quot;Windows 10 Pro Academic&quot;</td><td>1</td><td>0.0</td></tr><tr><td>&quot;Window 11 Pro&quot;</td><td>1</td><td>0.0</td></tr><tr><td>&quot;Windows 10 professionals&quot;</td><td>1</td><td>0.0</td></tr></tbody></table></div>"
      ]
     },
     "execution_count": 90,
     "metadata": {},
     "output_type": "execute_result"
    }
   ],
   "execution_count": 90
  },
  {
   "metadata": {},
   "cell_type": "markdown",
   "source": [
    "Observations:\n",
    "- **Missing Data**: A significant portion of the data is missing, with 54% of instances marked as `null`. This indicates that more than half of the `os` information is unavailable, which will require appropriate handling, such as imputing missing values with an `'unknown'` category or further investigation into why the data is missing.\n",
    "- **Multiple Variations**: The `os` column contains several variations of the same operating system name, such as `Windows 10 Pro`, `Windows 10`, `Windows 10 Pros`, `Windows 11 Pro`, and `Windows 11 Home`. These should be standardized and mapped to a common label, such as `Windows 10` and `Windows 11` or even `Windows`, in order to reduce redundancy and ensure consistency.\n",
    "- **Inconsistent Labels**: Entries like `Not Included` or `null` indicate missing or unspecified data that should be grouped as `unknown`. These values should be mapped to a uniform label that indicates the absence of OS information."
   ],
   "id": "80f6cbefadce2b77"
  },
  {
   "metadata": {},
   "cell_type": "markdown",
   "source": "We now map the `os` variable to common categories: `linux`, `windows`, `chrome`, `android`, `mac` and `other`.",
   "id": "e3e2519f8b328f96"
  },
  {
   "metadata": {
    "ExecuteTime": {
     "end_time": "2025-04-04T01:26:39.701216Z",
     "start_time": "2025-04-04T01:26:39.697565Z"
    }
   },
   "cell_type": "code",
   "source": [
    "# Define a function that maps the OS types based on the text\n",
    "def map_os_type(os: str) -> str:\n",
    "    \"\"\"\n",
    "    Maps a given operating system string to a predefined category.\n",
    "\n",
    "    The function checks for various operating system names within the input string\n",
    "    and returns a simplified category. It handles different variations of OS names\n",
    "    and returns an 'unknown' category for missing or non-recognized values.\n",
    "\n",
    "    Parameters:\n",
    "    os (str): The input string representing the operating system. This can include\n",
    "              different OS names such as 'Windows', 'Linux', 'macOS', etc.\n",
    "\n",
    "    Returns:\n",
    "    str: A standardized operating system category. Possible categories include:\n",
    "         'linux', 'windows', 'chrome', 'android', 'mac', 'other', 'unknown'.\n",
    "\n",
    "    Example:\n",
    "    >>> map_os_type(\"Windows 10 Pro\")\n",
    "    'windows'\n",
    "\n",
    "    >>> map_os_type(\"Ubuntu 20.04\")\n",
    "    'linux'\n",
    "\n",
    "    >>> map_os_type(\"Android 11\")\n",
    "    'android'\n",
    "\n",
    "    >>> map_os_type(\"Not Included\")\n",
    "    'unknown'\n",
    "    \"\"\"\n",
    "    if os is None or isinstance(os, float) or os == \"\":  # Check for None or NaN (float type)\n",
    "        return 'unknown'\n",
    "\n",
    "    str_casefold = os.casefold()\n",
    "\n",
    "    # Check for various OS types\n",
    "    if 'linux' in str_casefold or 'kali' in str_casefold or 'ubuntu' in str_casefold:\n",
    "        return 'linux'\n",
    "    elif 'window' in str_casefold or 'windows' in str_casefold or 'win' in str_casefold:\n",
    "        return 'windows'\n",
    "    elif 'chrome' in str_casefold:\n",
    "        return 'chrome'\n",
    "    elif 'android' in str_casefold:\n",
    "        return 'android'\n",
    "    elif 'mac' in str_casefold or 'macos' in str_casefold:\n",
    "        return 'mac'\n",
    "    else:\n",
    "        return 'other'"
   ],
   "id": "2dd5f6e934f2c798",
   "outputs": [],
   "execution_count": 91
  },
  {
   "metadata": {
    "ExecuteTime": {
     "end_time": "2025-04-04T01:26:39.993177Z",
     "start_time": "2025-04-04T01:26:39.985759Z"
    }
   },
   "cell_type": "code",
   "source": [
    "df = df.with_columns(\n",
    "    pl.col(\"os\")  # Select the OS column\n",
    "    .map_elements(map_os_type, skip_nulls=False, return_dtype=pl.Utf8)  # Apply the function using map_elements\n",
    "    .cast(pl.Enum(['unknown', 'other', 'mac', 'android', 'chrome', 'windows', 'linux'])) # Casting to enum data type\n",
    "    .alias(\"os_clean\")  # Create a new column with the mapped values\n",
    ")\n",
    "\n",
    "# Operating system cleaned value counts and their proportion.\n",
    "value_counts_with_proportion(df['os_clean'])"
   ],
   "id": "1205e7e43f20f8b4",
   "outputs": [
    {
     "data": {
      "text/plain": [
       "shape: (7, 3)\n",
       "┌──────────┬───────┬────────────┐\n",
       "│ os_clean ┆ count ┆ proportion │\n",
       "│ ---      ┆ ---   ┆ ---        │\n",
       "│ enum     ┆ u32   ┆ f64        │\n",
       "╞══════════╪═══════╪════════════╡\n",
       "│ unknown  ┆ 2051  ┆ 0.46       │\n",
       "│ windows  ┆ 2027  ┆ 0.45       │\n",
       "│ chrome   ┆ 259   ┆ 0.06       │\n",
       "│ other    ┆ 102   ┆ 0.02       │\n",
       "│ linux    ┆ 21    ┆ 0.0        │\n",
       "│ mac      ┆ 8     ┆ 0.0        │\n",
       "│ android  ┆ 7     ┆ 0.0        │\n",
       "└──────────┴───────┴────────────┘"
      ],
      "text/html": [
       "<div><style>\n",
       ".dataframe > thead > tr,\n",
       ".dataframe > tbody > tr {\n",
       "  text-align: right;\n",
       "  white-space: pre-wrap;\n",
       "}\n",
       "</style>\n",
       "<small>shape: (7, 3)</small><table border=\"1\" class=\"dataframe\"><thead><tr><th>os_clean</th><th>count</th><th>proportion</th></tr><tr><td>enum</td><td>u32</td><td>f64</td></tr></thead><tbody><tr><td>&quot;unknown&quot;</td><td>2051</td><td>0.46</td></tr><tr><td>&quot;windows&quot;</td><td>2027</td><td>0.45</td></tr><tr><td>&quot;chrome&quot;</td><td>259</td><td>0.06</td></tr><tr><td>&quot;other&quot;</td><td>102</td><td>0.02</td></tr><tr><td>&quot;linux&quot;</td><td>21</td><td>0.0</td></tr><tr><td>&quot;mac&quot;</td><td>8</td><td>0.0</td></tr><tr><td>&quot;android&quot;</td><td>7</td><td>0.0</td></tr></tbody></table></div>"
      ]
     },
     "execution_count": 92,
     "metadata": {},
     "output_type": "execute_result"
    }
   ],
   "execution_count": 92
  },
  {
   "metadata": {},
   "cell_type": "markdown",
   "source": [
    "## Cleaning `features`\n",
    "\n",
    "The `features` column represents a collection of technical specifications or attributes related to devices in the dataset. Each entry in this column describes various characteristics of the device, such as connectivity options (e.g., Wi-Fi, Bluetooth), hardware features (e.g., SD Card), or other relevant capabilities that define the device's specifications.\n",
    "\n",
    "Features such as \"Wi-Fi\" might appear in different forms (e.g., \"Wi-Fi\", \"wi-fi\", \"WIFI\"). Standardizing these variations into a single, consistent format (e.g., \"wi-fi\") will help in reducing redundancy and improving the quality of the dataset for analysis. If there are entries that are empty or `null`, this indicates that the device's features are not available. This could be due to incomplete data collection or missing information for certain devices."
   ],
   "id": "9275e3d26ba861bf"
  },
  {
   "metadata": {
    "ExecuteTime": {
     "end_time": "2025-04-04T01:26:40.170056Z",
     "start_time": "2025-04-04T01:26:40.165854Z"
    }
   },
   "cell_type": "code",
   "source": [
    "# Operating system cleaned value counts and their proportion.\n",
    "value_counts_with_proportion(df['features'])"
   ],
   "id": "ca5099ceaad918cb",
   "outputs": [
    {
     "data": {
      "text/plain": [
       "shape: (710, 3)\n",
       "┌─────────────────────────────────┬───────┬────────────┐\n",
       "│ features                        ┆ count ┆ proportion │\n",
       "│ ---                             ┆ ---   ┆ ---        │\n",
       "│ str                             ┆ u32   ┆ f64        │\n",
       "╞═════════════════════════════════╪═══════╪════════════╡\n",
       "│ null                            ┆ 2435  ┆ 0.54       │\n",
       "│ Touchscreen                     ┆ 79    ┆ 0.02       │\n",
       "│ 10/100 LAN Card,  Wi-Fi,  SD C… ┆ 76    ┆ 0.02       │\n",
       "│ 10/100 LAN Card, Wi-Fi, SD Car… ┆ 70    ┆ 0.02       │\n",
       "│ Wi-Fi                           ┆ 55    ┆ 0.01       │\n",
       "│ …                               ┆ …     ┆ …          │\n",
       "│ Touchscreen, 5G, Bluetooth, Bu… ┆ 1     ┆ 0.0        │\n",
       "│ Backlit Keyboard,  Bluetooth, … ┆ 1     ┆ 0.0        │\n",
       "│ Bluetooth,  Built-in Microphon… ┆ 1     ┆ 0.0        │\n",
       "│ Built-in Webcam, Built-in Micr… ┆ 1     ┆ 0.0        │\n",
       "│ Bluetooth, Built-in Webcam, Wi… ┆ 1     ┆ 0.0        │\n",
       "└─────────────────────────────────┴───────┴────────────┘"
      ],
      "text/html": [
       "<div><style>\n",
       ".dataframe > thead > tr,\n",
       ".dataframe > tbody > tr {\n",
       "  text-align: right;\n",
       "  white-space: pre-wrap;\n",
       "}\n",
       "</style>\n",
       "<small>shape: (710, 3)</small><table border=\"1\" class=\"dataframe\"><thead><tr><th>features</th><th>count</th><th>proportion</th></tr><tr><td>str</td><td>u32</td><td>f64</td></tr></thead><tbody><tr><td>null</td><td>2435</td><td>0.54</td></tr><tr><td>&quot;Touchscreen&quot;</td><td>79</td><td>0.02</td></tr><tr><td>&quot;10/100 LAN Card,&nbsp;&nbsp;Wi-Fi,&nbsp;&nbsp;SD C…</td><td>76</td><td>0.02</td></tr><tr><td>&quot;10/100 LAN Card, Wi-Fi, SD Car…</td><td>70</td><td>0.02</td></tr><tr><td>&quot;Wi-Fi&quot;</td><td>55</td><td>0.01</td></tr><tr><td>&hellip;</td><td>&hellip;</td><td>&hellip;</td></tr><tr><td>&quot;Touchscreen, 5G, Bluetooth, Bu…</td><td>1</td><td>0.0</td></tr><tr><td>&quot;Backlit Keyboard,&nbsp;&nbsp;Bluetooth, …</td><td>1</td><td>0.0</td></tr><tr><td>&quot;Bluetooth,&nbsp;&nbsp;Built-in Microphon…</td><td>1</td><td>0.0</td></tr><tr><td>&quot;Built-in Webcam, Built-in Micr…</td><td>1</td><td>0.0</td></tr><tr><td>&quot;Bluetooth, Built-in Webcam, Wi…</td><td>1</td><td>0.0</td></tr></tbody></table></div>"
      ]
     },
     "execution_count": 93,
     "metadata": {},
     "output_type": "execute_result"
    }
   ],
   "execution_count": 93
  },
  {
   "metadata": {},
   "cell_type": "markdown",
   "source": [
    "### Observations:\n",
    "- **Inconsistent Formatting**: The entries in `features` do not follow a consistent format, which can make analysis difficult. For example, some devices might list features like \"Wi-Fi, Bluetooth, USB\" while others might list them as \"bluetooth, wifi, usb\", causing inconsistency in labeling.\n"
   ],
   "id": "735cb43e38aa6faa"
  },
  {
   "metadata": {
    "ExecuteTime": {
     "end_time": "2025-04-04T01:26:40.347448Z",
     "start_time": "2025-04-04T01:26:40.341308Z"
    }
   },
   "cell_type": "code",
   "source": [
    "df = df.with_columns(\n",
    "    pl.col('features')\n",
    "    .str.to_lowercase()\n",
    "    .str.replace_all(r'\\s+', '')\n",
    "    .alias('features_clean')\n",
    ")\n",
    "\n",
    "df['features_clean'].head(n=10)"
   ],
   "id": "ae244be447456bec",
   "outputs": [
    {
     "data": {
      "text/plain": [
       "shape: (10,)\n",
       "Series: 'features_clean' [str]\n",
       "[\n",
       "\tnull\n",
       "\tnull\n",
       "\t\"backlitkeyboard,bluetooth,buil…\n",
       "\tnull\n",
       "\t\"touchscreen\"\n",
       "\tnull\n",
       "\t\"bluetooth,built-inmicrophone,b…\n",
       "\t\"backlitkeyboard,bluetooth,buil…\n",
       "\t\"bluetooth,built-inmicrophone,b…\n",
       "\tnull\n",
       "]"
      ],
      "text/html": [
       "<div><style>\n",
       ".dataframe > thead > tr,\n",
       ".dataframe > tbody > tr {\n",
       "  text-align: right;\n",
       "  white-space: pre-wrap;\n",
       "}\n",
       "</style>\n",
       "<small>shape: (10,)</small><table border=\"1\" class=\"dataframe\"><thead><tr><th>features_clean</th></tr><tr><td>str</td></tr></thead><tbody><tr><td>null</td></tr><tr><td>null</td></tr><tr><td>&quot;backlitkeyboard,bluetooth,buil…</td></tr><tr><td>null</td></tr><tr><td>&quot;touchscreen&quot;</td></tr><tr><td>null</td></tr><tr><td>&quot;bluetooth,built-inmicrophone,b…</td></tr><tr><td>&quot;backlitkeyboard,bluetooth,buil…</td></tr><tr><td>&quot;bluetooth,built-inmicrophone,b…</td></tr><tr><td>null</td></tr></tbody></table></div>"
      ]
     },
     "execution_count": 94,
     "metadata": {},
     "output_type": "execute_result"
    }
   ],
   "execution_count": 94
  },
  {
   "metadata": {},
   "cell_type": "markdown",
   "source": "Now we take a further look at the value counts for the new `features_clean` column:",
   "id": "3e3c51bd6bd1b82b"
  },
  {
   "metadata": {
    "ExecuteTime": {
     "end_time": "2025-04-04T01:26:40.581978Z",
     "start_time": "2025-04-04T01:26:40.577667Z"
    }
   },
   "cell_type": "code",
   "source": "value_counts_with_proportion(df['features_clean'])",
   "id": "59c39fa2505807c0",
   "outputs": [
    {
     "data": {
      "text/plain": [
       "shape: (555, 3)\n",
       "┌─────────────────────────────────┬───────┬────────────┐\n",
       "│ features_clean                  ┆ count ┆ proportion │\n",
       "│ ---                             ┆ ---   ┆ ---        │\n",
       "│ str                             ┆ u32   ┆ f64        │\n",
       "╞═════════════════════════════════╪═══════╪════════════╡\n",
       "│ null                            ┆ 2435  ┆ 0.54       │\n",
       "│ 10/100lancard,wi-fi,sdcardread… ┆ 146   ┆ 0.03       │\n",
       "│ touchscreen                     ┆ 81    ┆ 0.02       │\n",
       "│ 10/100lancard,wi-fi             ┆ 66    ┆ 0.01       │\n",
       "│ bluetooth,built-inmicrophone,b… ┆ 60    ┆ 0.01       │\n",
       "│ …                               ┆ …     ┆ …          │\n",
       "│ bluetooth,built-inmicrophone,b… ┆ 1     ┆ 0.0        │\n",
       "│ touchscreen,5g,bluetooth,built… ┆ 1     ┆ 0.0        │\n",
       "│ bluetooth,built-inmicrophone,b… ┆ 1     ┆ 0.0        │\n",
       "│ built-inwebcam,built-inmicroph… ┆ 1     ┆ 0.0        │\n",
       "│ bluetooth,built-inwebcam,wides… ┆ 1     ┆ 0.0        │\n",
       "└─────────────────────────────────┴───────┴────────────┘"
      ],
      "text/html": [
       "<div><style>\n",
       ".dataframe > thead > tr,\n",
       ".dataframe > tbody > tr {\n",
       "  text-align: right;\n",
       "  white-space: pre-wrap;\n",
       "}\n",
       "</style>\n",
       "<small>shape: (555, 3)</small><table border=\"1\" class=\"dataframe\"><thead><tr><th>features_clean</th><th>count</th><th>proportion</th></tr><tr><td>str</td><td>u32</td><td>f64</td></tr></thead><tbody><tr><td>null</td><td>2435</td><td>0.54</td></tr><tr><td>&quot;10/100lancard,wi-fi,sdcardread…</td><td>146</td><td>0.03</td></tr><tr><td>&quot;touchscreen&quot;</td><td>81</td><td>0.02</td></tr><tr><td>&quot;10/100lancard,wi-fi&quot;</td><td>66</td><td>0.01</td></tr><tr><td>&quot;bluetooth,built-inmicrophone,b…</td><td>60</td><td>0.01</td></tr><tr><td>&hellip;</td><td>&hellip;</td><td>&hellip;</td></tr><tr><td>&quot;bluetooth,built-inmicrophone,b…</td><td>1</td><td>0.0</td></tr><tr><td>&quot;touchscreen,5g,bluetooth,built…</td><td>1</td><td>0.0</td></tr><tr><td>&quot;bluetooth,built-inmicrophone,b…</td><td>1</td><td>0.0</td></tr><tr><td>&quot;built-inwebcam,built-inmicroph…</td><td>1</td><td>0.0</td></tr><tr><td>&quot;bluetooth,built-inwebcam,wides…</td><td>1</td><td>0.0</td></tr></tbody></table></div>"
      ]
     },
     "execution_count": 95,
     "metadata": {},
     "output_type": "execute_result"
    }
   ],
   "execution_count": 95
  },
  {
   "metadata": {},
   "cell_type": "markdown",
   "source": [
    "## Cleaning `country_region_of_manufacturer`\n",
    "\n",
    "This variable represents country where the laptop was manufactured. As it is a string variable, it needs to be standardized and reformatted as required.\n",
    "\n",
    "We'll start by taking a look at its value counts:"
   ],
   "id": "72b596e1c25d79df"
  },
  {
   "metadata": {
    "ExecuteTime": {
     "end_time": "2025-04-04T01:26:40.745375Z",
     "start_time": "2025-04-04T01:26:40.741051Z"
    }
   },
   "cell_type": "code",
   "source": [
    "# Country region of manufacturer value counts and their proportion.\n",
    "value_counts_with_proportion(df['country_region_of_manufacturer'])"
   ],
   "id": "91326d432a4979cd",
   "outputs": [
    {
     "data": {
      "text/plain": [
       "shape: (8, 3)\n",
       "┌────────────────────────────────┬───────┬────────────┐\n",
       "│ country_region_of_manufacturer ┆ count ┆ proportion │\n",
       "│ ---                            ┆ ---   ┆ ---        │\n",
       "│ str                            ┆ u32   ┆ f64        │\n",
       "╞════════════════════════════════╪═══════╪════════════╡\n",
       "│ null                           ┆ 4313  ┆ 0.96       │\n",
       "│ China                          ┆ 84    ┆ 0.02       │\n",
       "│ United States                  ┆ 45    ┆ 0.01       │\n",
       "│ Taiwan                         ┆ 10    ┆ 0.0        │\n",
       "│ Japan                          ┆ 8     ┆ 0.0        │\n",
       "│ Unknown                        ┆ 8     ┆ 0.0        │\n",
       "│ Ireland                        ┆ 5     ┆ 0.0        │\n",
       "│ Australia                      ┆ 2     ┆ 0.0        │\n",
       "└────────────────────────────────┴───────┴────────────┘"
      ],
      "text/html": [
       "<div><style>\n",
       ".dataframe > thead > tr,\n",
       ".dataframe > tbody > tr {\n",
       "  text-align: right;\n",
       "  white-space: pre-wrap;\n",
       "}\n",
       "</style>\n",
       "<small>shape: (8, 3)</small><table border=\"1\" class=\"dataframe\"><thead><tr><th>country_region_of_manufacturer</th><th>count</th><th>proportion</th></tr><tr><td>str</td><td>u32</td><td>f64</td></tr></thead><tbody><tr><td>null</td><td>4313</td><td>0.96</td></tr><tr><td>&quot;China&quot;</td><td>84</td><td>0.02</td></tr><tr><td>&quot;United States&quot;</td><td>45</td><td>0.01</td></tr><tr><td>&quot;Taiwan&quot;</td><td>10</td><td>0.0</td></tr><tr><td>&quot;Japan&quot;</td><td>8</td><td>0.0</td></tr><tr><td>&quot;Unknown&quot;</td><td>8</td><td>0.0</td></tr><tr><td>&quot;Ireland&quot;</td><td>5</td><td>0.0</td></tr><tr><td>&quot;Australia&quot;</td><td>2</td><td>0.0</td></tr></tbody></table></div>"
      ]
     },
     "execution_count": 96,
     "metadata": {},
     "output_type": "execute_result"
    }
   ],
   "execution_count": 96
  },
  {
   "metadata": {},
   "cell_type": "markdown",
   "source": [
    "Observations:\n",
    "- **Missing Data**: The `country_region_of_manufacturer` feature has a large proportion of missing values, with 6417 entries marked as `null`, representing 97% of the dataset. This significant amount of missing data should be addressed through imputation or exclusion strategies.\n",
    "- **Concentration in Few Regions**: The majority of the values are concentrated in a small set of countries, with China being the most common, followed by the United States and Taiwan. This indicates that the data might be heavily skewed towards certain manufacturers. Other countries such as Japan, Ireland, and Australia have very few entries (less than 1% of the data), which suggests that these values are underrepresented and can be grouped into broader categories for analysis or modeling.\n"
   ],
   "id": "4f01ed66d3ac5e82"
  },
  {
   "metadata": {},
   "cell_type": "markdown",
   "source": [
    "### Reformatting `country_region_of_manufacturer`\n",
    "We now proceed to reformat the `country_region_of_manufacturer` variable, by doing string operations (such as lowercasing, replacing all whitespaces with underscores) and assigning all `null` values to the `unknown` category."
   ],
   "id": "22dd9b5a4043d64c"
  },
  {
   "metadata": {
    "ExecuteTime": {
     "end_time": "2025-04-04T01:26:41.062012Z",
     "start_time": "2025-04-04T01:26:41.056534Z"
    }
   },
   "cell_type": "code",
   "source": [
    "df = df.with_columns(\n",
    "    pl.col('country_region_of_manufacturer')\n",
    "    .str.to_lowercase()  # Convert all text to lowercase\n",
    "    .str.replace_all(r'\\s+', '_')  # Replace all whitespaces with underscores\n",
    "    .fill_null('unknown')  # Replace null values with 'unknown'\n",
    "    .cast(pl.Categorical) # Casting to categorical data type\n",
    "    .alias('country_of_manufacturer_clean')  # Save as a new column\n",
    ")\n",
    "\n",
    "df.select(\n",
    "    'country_region_of_manufacturer', 'country_of_manufacturer_clean'\n",
    ").unique(\n",
    "    subset='country_region_of_manufacturer'\n",
    ")"
   ],
   "id": "45f4af4d4a5009e9",
   "outputs": [
    {
     "data": {
      "text/plain": [
       "shape: (8, 2)\n",
       "┌────────────────────────────────┬───────────────────────────────┐\n",
       "│ country_region_of_manufacturer ┆ country_of_manufacturer_clean │\n",
       "│ ---                            ┆ ---                           │\n",
       "│ str                            ┆ cat                           │\n",
       "╞════════════════════════════════╪═══════════════════════════════╡\n",
       "│ Ireland                        ┆ ireland                       │\n",
       "│ Unknown                        ┆ unknown                       │\n",
       "│ Australia                      ┆ australia                     │\n",
       "│ China                          ┆ china                         │\n",
       "│ Japan                          ┆ japan                         │\n",
       "│ null                           ┆ unknown                       │\n",
       "│ United States                  ┆ united_states                 │\n",
       "│ Taiwan                         ┆ taiwan                        │\n",
       "└────────────────────────────────┴───────────────────────────────┘"
      ],
      "text/html": [
       "<div><style>\n",
       ".dataframe > thead > tr,\n",
       ".dataframe > tbody > tr {\n",
       "  text-align: right;\n",
       "  white-space: pre-wrap;\n",
       "}\n",
       "</style>\n",
       "<small>shape: (8, 2)</small><table border=\"1\" class=\"dataframe\"><thead><tr><th>country_region_of_manufacturer</th><th>country_of_manufacturer_clean</th></tr><tr><td>str</td><td>cat</td></tr></thead><tbody><tr><td>&quot;Ireland&quot;</td><td>&quot;ireland&quot;</td></tr><tr><td>&quot;Unknown&quot;</td><td>&quot;unknown&quot;</td></tr><tr><td>&quot;Australia&quot;</td><td>&quot;australia&quot;</td></tr><tr><td>&quot;China&quot;</td><td>&quot;china&quot;</td></tr><tr><td>&quot;Japan&quot;</td><td>&quot;japan&quot;</td></tr><tr><td>null</td><td>&quot;unknown&quot;</td></tr><tr><td>&quot;United States&quot;</td><td>&quot;united_states&quot;</td></tr><tr><td>&quot;Taiwan&quot;</td><td>&quot;taiwan&quot;</td></tr></tbody></table></div>"
      ]
     },
     "execution_count": 97,
     "metadata": {},
     "output_type": "execute_result"
    }
   ],
   "execution_count": 97
  },
  {
   "metadata": {
    "ExecuteTime": {
     "end_time": "2025-04-04T01:26:41.419732Z",
     "start_time": "2025-04-04T01:26:41.415102Z"
    }
   },
   "cell_type": "code",
   "source": [
    "# Country of manufacturer cleaned value counts and their proportion.\n",
    "value_counts_with_proportion(df['country_of_manufacturer_clean'])"
   ],
   "id": "e66dc7315cb8a9b4",
   "outputs": [
    {
     "data": {
      "text/plain": [
       "shape: (7, 3)\n",
       "┌───────────────────────────────┬───────┬────────────┐\n",
       "│ country_of_manufacturer_clean ┆ count ┆ proportion │\n",
       "│ ---                           ┆ ---   ┆ ---        │\n",
       "│ cat                           ┆ u32   ┆ f64        │\n",
       "╞═══════════════════════════════╪═══════╪════════════╡\n",
       "│ unknown                       ┆ 4321  ┆ 0.97       │\n",
       "│ china                         ┆ 84    ┆ 0.02       │\n",
       "│ united_states                 ┆ 45    ┆ 0.01       │\n",
       "│ taiwan                        ┆ 10    ┆ 0.0        │\n",
       "│ japan                         ┆ 8     ┆ 0.0        │\n",
       "│ ireland                       ┆ 5     ┆ 0.0        │\n",
       "│ australia                     ┆ 2     ┆ 0.0        │\n",
       "└───────────────────────────────┴───────┴────────────┘"
      ],
      "text/html": [
       "<div><style>\n",
       ".dataframe > thead > tr,\n",
       ".dataframe > tbody > tr {\n",
       "  text-align: right;\n",
       "  white-space: pre-wrap;\n",
       "}\n",
       "</style>\n",
       "<small>shape: (7, 3)</small><table border=\"1\" class=\"dataframe\"><thead><tr><th>country_of_manufacturer_clean</th><th>count</th><th>proportion</th></tr><tr><td>cat</td><td>u32</td><td>f64</td></tr></thead><tbody><tr><td>&quot;unknown&quot;</td><td>4321</td><td>0.97</td></tr><tr><td>&quot;china&quot;</td><td>84</td><td>0.02</td></tr><tr><td>&quot;united_states&quot;</td><td>45</td><td>0.01</td></tr><tr><td>&quot;taiwan&quot;</td><td>10</td><td>0.0</td></tr><tr><td>&quot;japan&quot;</td><td>8</td><td>0.0</td></tr><tr><td>&quot;ireland&quot;</td><td>5</td><td>0.0</td></tr><tr><td>&quot;australia&quot;</td><td>2</td><td>0.0</td></tr></tbody></table></div>"
      ]
     },
     "execution_count": 98,
     "metadata": {},
     "output_type": "execute_result"
    }
   ],
   "execution_count": 98
  },
  {
   "metadata": {},
   "cell_type": "markdown",
   "source": [
    "## Cleaning `storage_type`\n",
    "\n",
    "The `storage_type` column represents the type of storage technology used in the device, such as `HDD`, `SSD`, `eMMC`, or others. This variable typically helps identify the technology driving the device's storage and its performance characteristics.\n",
    "\n",
    "Possible values in the `storage_type` column include:\n",
    "- **Standard Storage Types**: Entries like `HDD` (Hard Disk Drive), `SSD` (Solid State Drive), `eMMC` (Embedded MultiMedia Card), and `NVMe`, which are the common and widely recognized storage technologies in laptops.\n",
    "- **Inconsistent Labels**: Variations in naming conventions, such as `SSD` being labeled as `solid state drive`, or `HDD` being labeled as `Hard Disk` or `hard disk drive`, could create redundancy and inconsistency.\n",
    "- **Multiple Values**: Some entries might combine multiple storage types, such as `SSD/HDD` or `HDD+SSD`, making it harder to categorize them properly.\n",
    "- **Missing or Placeholder Data**: Missing values or incorrect placeholders like `null` or `unknown` could be present, which would need to be remapped or cleaned.\n",
    "\n",
    "We are cleaning this variable to standardize the labels, group similar values, and handle missing or incorrectly formatted data. This will allow for more accurate analysis and ensure the column is more usable in subsequent processes."
   ],
   "id": "ebd177100a3bc30d"
  },
  {
   "metadata": {
    "ExecuteTime": {
     "end_time": "2025-04-04T01:26:41.732099Z",
     "start_time": "2025-04-04T01:26:41.728100Z"
    }
   },
   "cell_type": "code",
   "source": [
    "# Storage type value counts and their proportion.\n",
    "value_counts_with_proportion(df['storage_type'])"
   ],
   "id": "b7b4ebb18cedaea2",
   "outputs": [
    {
     "data": {
      "text/plain": [
       "shape: (45, 3)\n",
       "┌─────────────────────────────────┬───────┬────────────┐\n",
       "│ storage_type                    ┆ count ┆ proportion │\n",
       "│ ---                             ┆ ---   ┆ ---        │\n",
       "│ str                             ┆ u32   ┆ f64        │\n",
       "╞═════════════════════════════════╪═══════╪════════════╡\n",
       "│ null                            ┆ 2568  ┆ 0.57       │\n",
       "│ SSD (Solid State Drive)         ┆ 1219  ┆ 0.27       │\n",
       "│ SSD                             ┆ 268   ┆ 0.06       │\n",
       "│ HDD (Hard Disk Drive)           ┆ 170   ┆ 0.04       │\n",
       "│ eMMC                            ┆ 158   ┆ 0.04       │\n",
       "│ …                               ┆ …     ┆ …          │\n",
       "│ 256 G                           ┆ 1     ┆ 0.0        │\n",
       "│ SSD + HDD                       ┆ 1     ┆ 0.0        │\n",
       "│ Nvme SSD                        ┆ 1     ┆ 0.0        │\n",
       "│ Flash Memory                    ┆ 1     ┆ 0.0        │\n",
       "│ NVME M.2 SSD (Solid State Driv… ┆ 1     ┆ 0.0        │\n",
       "└─────────────────────────────────┴───────┴────────────┘"
      ],
      "text/html": [
       "<div><style>\n",
       ".dataframe > thead > tr,\n",
       ".dataframe > tbody > tr {\n",
       "  text-align: right;\n",
       "  white-space: pre-wrap;\n",
       "}\n",
       "</style>\n",
       "<small>shape: (45, 3)</small><table border=\"1\" class=\"dataframe\"><thead><tr><th>storage_type</th><th>count</th><th>proportion</th></tr><tr><td>str</td><td>u32</td><td>f64</td></tr></thead><tbody><tr><td>null</td><td>2568</td><td>0.57</td></tr><tr><td>&quot;SSD (Solid State Drive)&quot;</td><td>1219</td><td>0.27</td></tr><tr><td>&quot;SSD&quot;</td><td>268</td><td>0.06</td></tr><tr><td>&quot;HDD (Hard Disk Drive)&quot;</td><td>170</td><td>0.04</td></tr><tr><td>&quot;eMMC&quot;</td><td>158</td><td>0.04</td></tr><tr><td>&hellip;</td><td>&hellip;</td><td>&hellip;</td></tr><tr><td>&quot;256 G&quot;</td><td>1</td><td>0.0</td></tr><tr><td>&quot;SSD + HDD&quot;</td><td>1</td><td>0.0</td></tr><tr><td>&quot;Nvme SSD&quot;</td><td>1</td><td>0.0</td></tr><tr><td>&quot;Flash Memory&quot;</td><td>1</td><td>0.0</td></tr><tr><td>&quot;NVME M.2 SSD (Solid State Driv…</td><td>1</td><td>0.0</td></tr></tbody></table></div>"
      ]
     },
     "execution_count": 99,
     "metadata": {},
     "output_type": "execute_result"
    }
   ],
   "execution_count": 99
  },
  {
   "metadata": {},
   "cell_type": "markdown",
   "source": [
    "Observations:\n",
    "- **Missing Data**: The `storage_type` column contains a significant number of missing values (`null_count = 4232`), representing 64% of the data.\n",
    "- **Multiple Formats**: The data includes various representations for similar storage types (e.g., \"SSD\", \"SSD (Solid State Drive)\", \"Solid State Drive\"), which could lead to inconsistencies. These variations need to be standardized and grouped for better analysis and modeling.\n",
    "- **Uncommon and Irrelevant Entries**: There are a few outlier values such as \"Touchscreen\", \"256GBSSD\", and \"SSD or SSD\", which seem irrelevant to the `storage_type` category. These should be reviewed and cleaned accordingly to ensure data quality."
   ],
   "id": "313c2e475fab0e4c"
  },
  {
   "metadata": {
    "ExecuteTime": {
     "end_time": "2025-04-04T01:26:42.095636Z",
     "start_time": "2025-04-04T01:26:42.092867Z"
    }
   },
   "cell_type": "code",
   "source": [
    "def map_storage_type(string: str) -> str:\n",
    "    \"\"\"\n",
    "    Maps the input string representing a storage type to a standard category.\n",
    "\n",
    "    The function processes the input string to determine the storage type based on categories: `hdd_or_ssd`, `ssd`, `hdd`, `emmc`, `other`, `unknown` etc.\n",
    "\n",
    "    If the input string is None, empty, or contains no recognizable storage type, the function returns `unknown`.\n",
    "\n",
    "    Args:\n",
    "        string (str): The storage type string to be processed.\n",
    "\n",
    "    Returns:\n",
    "        str: A standardized storage type category.\n",
    "\n",
    "    Usage:\n",
    "    --------------\n",
    "    >>> map_storage_type(\"Samsung SSD 256GB\")\n",
    "    'ssd'\n",
    "\n",
    "    >>> map_storage_type(\"Seagate HDD 1TB\")\n",
    "    'hdd'\n",
    "\n",
    "    >>> map_storage_type(\"Intel SSD + HDD\")\n",
    "    'hdd_or_ssd'\n",
    "\n",
    "    >>> map_storage_type(\"SanDisk eMMC\")\n",
    "    'emmc'\n",
    "\n",
    "    >>> map_storage_type(\"Unknown Storage\")\n",
    "    'other'\n",
    "\n",
    "    >>> map_storage_type(\"\")\n",
    "    'unknown'\n",
    "    \"\"\"\n",
    "    if string is None or string == \"\":\n",
    "        return 'unknown'  # Handle None or empty strings before processing\n",
    "\n",
    "    # String suitable for caseless comparisons\n",
    "    str_casefold = string.casefold()\n",
    "\n",
    "    if 'ssd' in str_casefold and 'hdd' in str_casefold:\n",
    "        return 'hdd_or_ssd'\n",
    "    elif 'ssd' in str_casefold:\n",
    "        return 'ssd'\n",
    "    elif 'hdd' in str_casefold:\n",
    "        return 'hdd'\n",
    "    elif 'emmc' in str_casefold:\n",
    "        return 'emmc'\n",
    "    else:\n",
    "        return 'other'\n"
   ],
   "id": "cdb13d810b1e269d",
   "outputs": [],
   "execution_count": 100
  },
  {
   "metadata": {
    "ExecuteTime": {
     "end_time": "2025-04-04T01:26:42.316049Z",
     "start_time": "2025-04-04T01:26:42.309463Z"
    }
   },
   "cell_type": "code",
   "source": [
    "df = df.with_columns(\n",
    "    pl.col(\"storage_type\")  # Select the storage_type column\n",
    "    .map_elements(map_storage_type, skip_nulls=False, return_dtype=pl.Utf8)  # Apply the function using map_elements\n",
    "    .cast(pl.Enum(['unknown', 'other', 'emmc', 'hdd', 'ssd', 'hdd_or_ssd'])) # Casting to enum data type\n",
    "    .alias(\"storage_type_clean\")  # Create a new column with the mapped values\n",
    ")\n",
    "\n",
    "df.select(\n",
    "    'storage_type', 'storage_type_clean'\n",
    ").head(n=10)"
   ],
   "id": "505804801802d51f",
   "outputs": [
    {
     "data": {
      "text/plain": [
       "shape: (10, 2)\n",
       "┌─────────────────────────┬────────────────────┐\n",
       "│ storage_type            ┆ storage_type_clean │\n",
       "│ ---                     ┆ ---                │\n",
       "│ str                     ┆ enum               │\n",
       "╞═════════════════════════╪════════════════════╡\n",
       "│ null                    ┆ unknown            │\n",
       "│ null                    ┆ unknown            │\n",
       "│ SSD (Solid State Drive) ┆ ssd                │\n",
       "│ null                    ┆ unknown            │\n",
       "│ SSD (Solid State Drive) ┆ ssd                │\n",
       "│ null                    ┆ unknown            │\n",
       "│ SSD (Solid State Drive) ┆ ssd                │\n",
       "│ SSD (Solid State Drive) ┆ ssd                │\n",
       "│ HDD (Hard Disk Drive)   ┆ hdd                │\n",
       "│ null                    ┆ unknown            │\n",
       "└─────────────────────────┴────────────────────┘"
      ],
      "text/html": [
       "<div><style>\n",
       ".dataframe > thead > tr,\n",
       ".dataframe > tbody > tr {\n",
       "  text-align: right;\n",
       "  white-space: pre-wrap;\n",
       "}\n",
       "</style>\n",
       "<small>shape: (10, 2)</small><table border=\"1\" class=\"dataframe\"><thead><tr><th>storage_type</th><th>storage_type_clean</th></tr><tr><td>str</td><td>enum</td></tr></thead><tbody><tr><td>null</td><td>&quot;unknown&quot;</td></tr><tr><td>null</td><td>&quot;unknown&quot;</td></tr><tr><td>&quot;SSD (Solid State Drive)&quot;</td><td>&quot;ssd&quot;</td></tr><tr><td>null</td><td>&quot;unknown&quot;</td></tr><tr><td>&quot;SSD (Solid State Drive)&quot;</td><td>&quot;ssd&quot;</td></tr><tr><td>null</td><td>&quot;unknown&quot;</td></tr><tr><td>&quot;SSD (Solid State Drive)&quot;</td><td>&quot;ssd&quot;</td></tr><tr><td>&quot;SSD (Solid State Drive)&quot;</td><td>&quot;ssd&quot;</td></tr><tr><td>&quot;HDD (Hard Disk Drive)&quot;</td><td>&quot;hdd&quot;</td></tr><tr><td>null</td><td>&quot;unknown&quot;</td></tr></tbody></table></div>"
      ]
     },
     "execution_count": 101,
     "metadata": {},
     "output_type": "execute_result"
    }
   ],
   "execution_count": 101
  },
  {
   "metadata": {},
   "cell_type": "markdown",
   "source": "Now we can analyze the value counts from our new `storage_type_clean` variable, expecting a big reduction in cardinality and a standard formatting for categorical labels.",
   "id": "66e7303b886db4a7"
  },
  {
   "metadata": {
    "ExecuteTime": {
     "end_time": "2025-04-04T01:26:42.530643Z",
     "start_time": "2025-04-04T01:26:42.526434Z"
    }
   },
   "cell_type": "code",
   "source": [
    "# Storage type cleaned value counts and their proportion.\n",
    "value_counts_with_proportion(df['storage_type_clean'])"
   ],
   "id": "5ecf66e0fbc5c072",
   "outputs": [
    {
     "data": {
      "text/plain": [
       "shape: (6, 3)\n",
       "┌────────────────────┬───────┬────────────┐\n",
       "│ storage_type_clean ┆ count ┆ proportion │\n",
       "│ ---                ┆ ---   ┆ ---        │\n",
       "│ enum               ┆ u32   ┆ f64        │\n",
       "╞════════════════════╪═══════╪════════════╡\n",
       "│ unknown            ┆ 2568  ┆ 0.57       │\n",
       "│ ssd                ┆ 1498  ┆ 0.33       │\n",
       "│ hdd                ┆ 172   ┆ 0.04       │\n",
       "│ emmc               ┆ 158   ┆ 0.04       │\n",
       "│ other              ┆ 49    ┆ 0.01       │\n",
       "│ hdd_or_ssd         ┆ 30    ┆ 0.01       │\n",
       "└────────────────────┴───────┴────────────┘"
      ],
      "text/html": [
       "<div><style>\n",
       ".dataframe > thead > tr,\n",
       ".dataframe > tbody > tr {\n",
       "  text-align: right;\n",
       "  white-space: pre-wrap;\n",
       "}\n",
       "</style>\n",
       "<small>shape: (6, 3)</small><table border=\"1\" class=\"dataframe\"><thead><tr><th>storage_type_clean</th><th>count</th><th>proportion</th></tr><tr><td>enum</td><td>u32</td><td>f64</td></tr></thead><tbody><tr><td>&quot;unknown&quot;</td><td>2568</td><td>0.57</td></tr><tr><td>&quot;ssd&quot;</td><td>1498</td><td>0.33</td></tr><tr><td>&quot;hdd&quot;</td><td>172</td><td>0.04</td></tr><tr><td>&quot;emmc&quot;</td><td>158</td><td>0.04</td></tr><tr><td>&quot;other&quot;</td><td>49</td><td>0.01</td></tr><tr><td>&quot;hdd_or_ssd&quot;</td><td>30</td><td>0.01</td></tr></tbody></table></div>"
      ]
     },
     "execution_count": 102,
     "metadata": {},
     "output_type": "execute_result"
    }
   ],
   "execution_count": 102
  },
  {
   "metadata": {},
   "cell_type": "markdown",
   "source": [
    "Observations:\n",
    "- **Missing Data**: A significant portion of the data, 61.6%, is marked as `unknown`, which indicates that a large number of storage types are missing or not provided. This missing data may require further investigation or imputation to handle effectively.\n",
    "- **Dominant Category**: The most frequent category is `ssd` (35.6%), which suggests that SSD is the predominant storage technology in the dataset, reflecting the growing trend of SSD usage in modern devices.\n",
    "- **Reduced cardinality**: Cardinality was reduced from 45 different unique values to 6.\n",
    "- **Minor Categories**: The categories `other` (0.01) and `hdd_or_ssd` (0.01) are very small, suggesting that these cases are very uncommon in the dataset."
   ],
   "id": "75a2300cd2a22e6"
  },
  {
   "metadata": {},
   "cell_type": "markdown",
   "source": "## Exporting the data",
   "id": "6dbfa32ede37f98d"
  },
  {
   "metadata": {
    "ExecuteTime": {
     "end_time": "2025-04-04T01:26:42.699228Z",
     "start_time": "2025-04-04T01:26:42.696156Z"
    }
   },
   "cell_type": "code",
   "source": [
    "clean_columns = [col for col in df.columns if col.endswith('_clean')]\n",
    "print(f'Total number of columns: {len(clean_columns)}')\n",
    "print(clean_columns)"
   ],
   "id": "24c93064530767fc",
   "outputs": [
    {
     "name": "stdout",
     "output_type": "stream",
     "text": [
      "Total number of columns: 31\n",
      "['brand_clean', 'currency_clean', 'min_price_clean', 'rating_clean', 'five_star_scale_rating_clean', 'ratings_count_clean', 'condition_label_clean', 'condition_description_clean', 'seller_note_clean', 'processor_clean', 'screen_size_inches_clean', 'manufacturer_color_clean', 'color_clean', 'hard_drive_size_clean', 'hard_drive_size_unit_clean', 'ram_size_clean', 'ram_size_unit_clean', 'ssd_size_clean', 'ssd_size_unit_clean', 'gpu_type_clean', 'processor_speed_clean', 'processor_speed_unit_clean', 'laptop_type_clean', 'release_year_clean', 'display_width_clean', 'display_height_clean', 'model_clean', 'os_clean', 'features_clean', 'country_of_manufacturer_clean', 'storage_type_clean']\n"
     ]
    }
   ],
   "execution_count": 103
  },
  {
   "metadata": {},
   "cell_type": "markdown",
   "source": "We have created 31 columns, from the original 23, via this data cleaning process.",
   "id": "ff0197b3c98cd918"
  },
  {
   "metadata": {
    "ExecuteTime": {
     "end_time": "2025-04-04T01:26:42.915390Z",
     "start_time": "2025-04-04T01:26:42.910112Z"
    }
   },
   "cell_type": "code",
   "source": [
    "df_clean = df.select(clean_columns)\n",
    "df_clean.columns = [col.replace('_clean', '') for col in df_clean.columns]\n",
    "\n",
    "# Data Types\n",
    "pl.DataFrame(data={\n",
    "    'column': df_clean.columns,\n",
    "    'dtype': df_clean.dtypes\n",
    "})"
   ],
   "id": "ffbb62a04327f74",
   "outputs": [
    {
     "data": {
      "text/plain": [
       "shape: (31, 2)\n",
       "┌─────────────────────────┬─────────────────────────────────┐\n",
       "│ column                  ┆ dtype                           │\n",
       "│ ---                     ┆ ---                             │\n",
       "│ str                     ┆ object                          │\n",
       "╞═════════════════════════╪═════════════════════════════════╡\n",
       "│ brand                   ┆ Categorical(ordering='physical… │\n",
       "│ currency                ┆ Categorical(ordering='physical… │\n",
       "│ min_price               ┆ Float64                         │\n",
       "│ rating                  ┆ Categorical(ordering='physical… │\n",
       "│ five_star_scale_rating  ┆ Float32                         │\n",
       "│ …                       ┆ …                               │\n",
       "│ model                   ┆ Categorical(ordering='physical… │\n",
       "│ os                      ┆ Enum(categories=['unknown', 'o… │\n",
       "│ features                ┆ String                          │\n",
       "│ country_of_manufacturer ┆ Categorical(ordering='physical… │\n",
       "│ storage_type            ┆ Enum(categories=['unknown', 'o… │\n",
       "└─────────────────────────┴─────────────────────────────────┘"
      ],
      "text/html": [
       "<div><style>\n",
       ".dataframe > thead > tr,\n",
       ".dataframe > tbody > tr {\n",
       "  text-align: right;\n",
       "  white-space: pre-wrap;\n",
       "}\n",
       "</style>\n",
       "<small>shape: (31, 2)</small><table border=\"1\" class=\"dataframe\"><thead><tr><th>column</th><th>dtype</th></tr><tr><td>str</td><td>object</td></tr></thead><tbody><tr><td>&quot;brand&quot;</td><td>Categorical(ordering=&#x27;physical&#x27;)</td></tr><tr><td>&quot;currency&quot;</td><td>Categorical(ordering=&#x27;physical&#x27;)</td></tr><tr><td>&quot;min_price&quot;</td><td>Float64</td></tr><tr><td>&quot;rating&quot;</td><td>Categorical(ordering=&#x27;physical&#x27;)</td></tr><tr><td>&quot;five_star_scale_rating&quot;</td><td>Float32</td></tr><tr><td>&hellip;</td><td>&hellip;</td></tr><tr><td>&quot;model&quot;</td><td>Categorical(ordering=&#x27;physical&#x27;)</td></tr><tr><td>&quot;os&quot;</td><td>Enum(categories=[&#x27;unknown&#x27;, &#x27;other&#x27;, &#x27;mac&#x27;, &#x27;android&#x27;, &#x27;chrome&#x27;, &#x27;windows&#x27;, &#x27;linux&#x27;])</td></tr><tr><td>&quot;features&quot;</td><td>String</td></tr><tr><td>&quot;country_of_manufacturer&quot;</td><td>Categorical(ordering=&#x27;physical&#x27;)</td></tr><tr><td>&quot;storage_type&quot;</td><td>Enum(categories=[&#x27;unknown&#x27;, &#x27;other&#x27;, &#x27;emmc&#x27;, &#x27;hdd&#x27;, &#x27;ssd&#x27;, &#x27;hdd_or_ssd&#x27;])</td></tr></tbody></table></div>"
      ]
     },
     "execution_count": 104,
     "metadata": {},
     "output_type": "execute_result"
    }
   ],
   "execution_count": 104
  },
  {
   "metadata": {
    "ExecuteTime": {
     "end_time": "2025-04-04T01:26:43.072835Z",
     "start_time": "2025-04-04T01:26:43.048946Z"
    }
   },
   "cell_type": "code",
   "source": "df_clean.head(n=10).to_pandas()",
   "id": "f791abe944feb0b3",
   "outputs": [
    {
     "data": {
      "text/plain": [
       "     brand currency  min_price rating  five_star_scale_rating  ratings_count  \\\n",
       "0  unknown        $     108.04    NaN                     NaN            NaN   \n",
       "1  samsung        $      70.03    NaN                     NaN            NaN   \n",
       "2     dell        $     184.99    NaN                     NaN            NaN   \n",
       "3  unknown        $     291.24    NaN                     NaN            NaN   \n",
       "4       hp        $     429.00    NaN                     NaN            NaN   \n",
       "5  unknown        $     632.74    NaN                     NaN            NaN   \n",
       "6     dell        $     170.00    NaN                     NaN            NaN   \n",
       "7     dell        $     125.96    NaN                     NaN            NaN   \n",
       "8     dell        $     179.00    NaN                     NaN            NaN   \n",
       "9  unknown        $     326.28    NaN                     NaN            NaN   \n",
       "\n",
       "         condition_label                              condition_description  \\\n",
       "0                    new  A brand-new, unused, unopened, undamaged item ...   \n",
       "1                    new  A brand-new, unused, unopened, undamaged item ...   \n",
       "2                   used  An item that has been used previously.\\n    Th...   \n",
       "3     seller_refurbished  The item has been restored to working order by...   \n",
       "4                    new  A brand-new, unused, unopened, undamaged item ...   \n",
       "5     seller_refurbished  The item has been restored to working order by...   \n",
       "6                   used  An item that has been used previously.\\n    Th...   \n",
       "7  very_good_refurbished  The item shows minimal wear and is backed by a...   \n",
       "8  very_good_refurbished  The item shows minimal wear and is backed by a...   \n",
       "9                   used  An item that has been used previously.\\n    Th...   \n",
       "\n",
       "                                         seller_note              processor  \\\n",
       "0                                               None                    NaN   \n",
       "1                                               None         does_not_apply   \n",
       "2                                               None   intel_core_i5_10310u   \n",
       "3                                               None                    NaN   \n",
       "4                                               None   intel_core_i3_1115g4   \n",
       "5                                               None                    NaN   \n",
       "6                “Laptop is in excellent condition.”  intel_core_i7_8th_gen   \n",
       "7  “The item will show some signs of normal wear ...  intel_core_i5_6th_gen   \n",
       "8                “Includes Dell AC Adapter/Charger.”  intel_core_i5_5th_gen   \n",
       "9                                               None                    NaN   \n",
       "\n",
       "   ...  processor_speed_unit laptop_type release_year  display_width  \\\n",
       "0  ...               unknown     unknown          NaN            NaN   \n",
       "1  ...               unknown     unknown          NaN            NaN   \n",
       "2  ...                   GHz     unknown          NaN         1920.0   \n",
       "3  ...               unknown     unknown          NaN            NaN   \n",
       "4  ...                   GHz      laptop       2023.0         1366.0   \n",
       "5  ...               unknown     unknown          NaN            NaN   \n",
       "6  ...                   GHz      laptop          NaN         1366.0   \n",
       "7  ...                   GHz      laptop          NaN         1366.0   \n",
       "8  ...                   GHz      laptop          NaN         1366.0   \n",
       "9  ...               unknown          pc          NaN            NaN   \n",
       "\n",
       "  display_height               model       os  \\\n",
       "0            NaN                 NaN  unknown   \n",
       "1            NaN                 NaN  unknown   \n",
       "2         1080.0  dell_latitude_3410    other   \n",
       "3            NaN                 NaN  unknown   \n",
       "4          768.0   hp_15_inch_laptop  windows   \n",
       "5            NaN                 NaN  unknown   \n",
       "6          768.0  dell_latitude_7290  windows   \n",
       "7          768.0  dell_latitude_5480  windows   \n",
       "8          768.0  dell_inspiron_3558  windows   \n",
       "9            NaN                 NaN  unknown   \n",
       "\n",
       "                                            features country_of_manufacturer  \\\n",
       "0                                               None                 unknown   \n",
       "1                                               None                 unknown   \n",
       "2     backlitkeyboard,bluetooth,built-inwebcam,wi-fi                 unknown   \n",
       "3                                               None                 unknown   \n",
       "4                                        touchscreen                   china   \n",
       "5                                               None                 unknown   \n",
       "6  bluetooth,built-inmicrophone,built-inwebcam,wi-fi                 unknown   \n",
       "7  backlitkeyboard,bluetooth,built-inmicrophone,b...                 unknown   \n",
       "8  bluetooth,built-inmicrophone,built-inwebcam,to...                 unknown   \n",
       "9                                               None                 unknown   \n",
       "\n",
       "  storage_type  \n",
       "0      unknown  \n",
       "1      unknown  \n",
       "2          ssd  \n",
       "3      unknown  \n",
       "4          ssd  \n",
       "5      unknown  \n",
       "6          ssd  \n",
       "7          ssd  \n",
       "8          hdd  \n",
       "9      unknown  \n",
       "\n",
       "[10 rows x 31 columns]"
      ],
      "text/html": [
       "<div>\n",
       "<style scoped>\n",
       "    .dataframe tbody tr th:only-of-type {\n",
       "        vertical-align: middle;\n",
       "    }\n",
       "\n",
       "    .dataframe tbody tr th {\n",
       "        vertical-align: top;\n",
       "    }\n",
       "\n",
       "    .dataframe thead th {\n",
       "        text-align: right;\n",
       "    }\n",
       "</style>\n",
       "<table border=\"1\" class=\"dataframe\">\n",
       "  <thead>\n",
       "    <tr style=\"text-align: right;\">\n",
       "      <th></th>\n",
       "      <th>brand</th>\n",
       "      <th>currency</th>\n",
       "      <th>min_price</th>\n",
       "      <th>rating</th>\n",
       "      <th>five_star_scale_rating</th>\n",
       "      <th>ratings_count</th>\n",
       "      <th>condition_label</th>\n",
       "      <th>condition_description</th>\n",
       "      <th>seller_note</th>\n",
       "      <th>processor</th>\n",
       "      <th>...</th>\n",
       "      <th>processor_speed_unit</th>\n",
       "      <th>laptop_type</th>\n",
       "      <th>release_year</th>\n",
       "      <th>display_width</th>\n",
       "      <th>display_height</th>\n",
       "      <th>model</th>\n",
       "      <th>os</th>\n",
       "      <th>features</th>\n",
       "      <th>country_of_manufacturer</th>\n",
       "      <th>storage_type</th>\n",
       "    </tr>\n",
       "  </thead>\n",
       "  <tbody>\n",
       "    <tr>\n",
       "      <th>0</th>\n",
       "      <td>unknown</td>\n",
       "      <td>$</td>\n",
       "      <td>108.04</td>\n",
       "      <td>NaN</td>\n",
       "      <td>NaN</td>\n",
       "      <td>NaN</td>\n",
       "      <td>new</td>\n",
       "      <td>A brand-new, unused, unopened, undamaged item ...</td>\n",
       "      <td>None</td>\n",
       "      <td>NaN</td>\n",
       "      <td>...</td>\n",
       "      <td>unknown</td>\n",
       "      <td>unknown</td>\n",
       "      <td>NaN</td>\n",
       "      <td>NaN</td>\n",
       "      <td>NaN</td>\n",
       "      <td>NaN</td>\n",
       "      <td>unknown</td>\n",
       "      <td>None</td>\n",
       "      <td>unknown</td>\n",
       "      <td>unknown</td>\n",
       "    </tr>\n",
       "    <tr>\n",
       "      <th>1</th>\n",
       "      <td>samsung</td>\n",
       "      <td>$</td>\n",
       "      <td>70.03</td>\n",
       "      <td>NaN</td>\n",
       "      <td>NaN</td>\n",
       "      <td>NaN</td>\n",
       "      <td>new</td>\n",
       "      <td>A brand-new, unused, unopened, undamaged item ...</td>\n",
       "      <td>None</td>\n",
       "      <td>does_not_apply</td>\n",
       "      <td>...</td>\n",
       "      <td>unknown</td>\n",
       "      <td>unknown</td>\n",
       "      <td>NaN</td>\n",
       "      <td>NaN</td>\n",
       "      <td>NaN</td>\n",
       "      <td>NaN</td>\n",
       "      <td>unknown</td>\n",
       "      <td>None</td>\n",
       "      <td>unknown</td>\n",
       "      <td>unknown</td>\n",
       "    </tr>\n",
       "    <tr>\n",
       "      <th>2</th>\n",
       "      <td>dell</td>\n",
       "      <td>$</td>\n",
       "      <td>184.99</td>\n",
       "      <td>NaN</td>\n",
       "      <td>NaN</td>\n",
       "      <td>NaN</td>\n",
       "      <td>used</td>\n",
       "      <td>An item that has been used previously.\\n    Th...</td>\n",
       "      <td>None</td>\n",
       "      <td>intel_core_i5_10310u</td>\n",
       "      <td>...</td>\n",
       "      <td>GHz</td>\n",
       "      <td>unknown</td>\n",
       "      <td>NaN</td>\n",
       "      <td>1920.0</td>\n",
       "      <td>1080.0</td>\n",
       "      <td>dell_latitude_3410</td>\n",
       "      <td>other</td>\n",
       "      <td>backlitkeyboard,bluetooth,built-inwebcam,wi-fi</td>\n",
       "      <td>unknown</td>\n",
       "      <td>ssd</td>\n",
       "    </tr>\n",
       "    <tr>\n",
       "      <th>3</th>\n",
       "      <td>unknown</td>\n",
       "      <td>$</td>\n",
       "      <td>291.24</td>\n",
       "      <td>NaN</td>\n",
       "      <td>NaN</td>\n",
       "      <td>NaN</td>\n",
       "      <td>seller_refurbished</td>\n",
       "      <td>The item has been restored to working order by...</td>\n",
       "      <td>None</td>\n",
       "      <td>NaN</td>\n",
       "      <td>...</td>\n",
       "      <td>unknown</td>\n",
       "      <td>unknown</td>\n",
       "      <td>NaN</td>\n",
       "      <td>NaN</td>\n",
       "      <td>NaN</td>\n",
       "      <td>NaN</td>\n",
       "      <td>unknown</td>\n",
       "      <td>None</td>\n",
       "      <td>unknown</td>\n",
       "      <td>unknown</td>\n",
       "    </tr>\n",
       "    <tr>\n",
       "      <th>4</th>\n",
       "      <td>hp</td>\n",
       "      <td>$</td>\n",
       "      <td>429.00</td>\n",
       "      <td>NaN</td>\n",
       "      <td>NaN</td>\n",
       "      <td>NaN</td>\n",
       "      <td>new</td>\n",
       "      <td>A brand-new, unused, unopened, undamaged item ...</td>\n",
       "      <td>None</td>\n",
       "      <td>intel_core_i3_1115g4</td>\n",
       "      <td>...</td>\n",
       "      <td>GHz</td>\n",
       "      <td>laptop</td>\n",
       "      <td>2023.0</td>\n",
       "      <td>1366.0</td>\n",
       "      <td>768.0</td>\n",
       "      <td>hp_15_inch_laptop</td>\n",
       "      <td>windows</td>\n",
       "      <td>touchscreen</td>\n",
       "      <td>china</td>\n",
       "      <td>ssd</td>\n",
       "    </tr>\n",
       "    <tr>\n",
       "      <th>5</th>\n",
       "      <td>unknown</td>\n",
       "      <td>$</td>\n",
       "      <td>632.74</td>\n",
       "      <td>NaN</td>\n",
       "      <td>NaN</td>\n",
       "      <td>NaN</td>\n",
       "      <td>seller_refurbished</td>\n",
       "      <td>The item has been restored to working order by...</td>\n",
       "      <td>None</td>\n",
       "      <td>NaN</td>\n",
       "      <td>...</td>\n",
       "      <td>unknown</td>\n",
       "      <td>unknown</td>\n",
       "      <td>NaN</td>\n",
       "      <td>NaN</td>\n",
       "      <td>NaN</td>\n",
       "      <td>NaN</td>\n",
       "      <td>unknown</td>\n",
       "      <td>None</td>\n",
       "      <td>unknown</td>\n",
       "      <td>unknown</td>\n",
       "    </tr>\n",
       "    <tr>\n",
       "      <th>6</th>\n",
       "      <td>dell</td>\n",
       "      <td>$</td>\n",
       "      <td>170.00</td>\n",
       "      <td>NaN</td>\n",
       "      <td>NaN</td>\n",
       "      <td>NaN</td>\n",
       "      <td>used</td>\n",
       "      <td>An item that has been used previously.\\n    Th...</td>\n",
       "      <td>“Laptop is in excellent condition.”</td>\n",
       "      <td>intel_core_i7_8th_gen</td>\n",
       "      <td>...</td>\n",
       "      <td>GHz</td>\n",
       "      <td>laptop</td>\n",
       "      <td>NaN</td>\n",
       "      <td>1366.0</td>\n",
       "      <td>768.0</td>\n",
       "      <td>dell_latitude_7290</td>\n",
       "      <td>windows</td>\n",
       "      <td>bluetooth,built-inmicrophone,built-inwebcam,wi-fi</td>\n",
       "      <td>unknown</td>\n",
       "      <td>ssd</td>\n",
       "    </tr>\n",
       "    <tr>\n",
       "      <th>7</th>\n",
       "      <td>dell</td>\n",
       "      <td>$</td>\n",
       "      <td>125.96</td>\n",
       "      <td>NaN</td>\n",
       "      <td>NaN</td>\n",
       "      <td>NaN</td>\n",
       "      <td>very_good_refurbished</td>\n",
       "      <td>The item shows minimal wear and is backed by a...</td>\n",
       "      <td>“The item will show some signs of normal wear ...</td>\n",
       "      <td>intel_core_i5_6th_gen</td>\n",
       "      <td>...</td>\n",
       "      <td>GHz</td>\n",
       "      <td>laptop</td>\n",
       "      <td>NaN</td>\n",
       "      <td>1366.0</td>\n",
       "      <td>768.0</td>\n",
       "      <td>dell_latitude_5480</td>\n",
       "      <td>windows</td>\n",
       "      <td>backlitkeyboard,bluetooth,built-inmicrophone,b...</td>\n",
       "      <td>unknown</td>\n",
       "      <td>ssd</td>\n",
       "    </tr>\n",
       "    <tr>\n",
       "      <th>8</th>\n",
       "      <td>dell</td>\n",
       "      <td>$</td>\n",
       "      <td>179.00</td>\n",
       "      <td>NaN</td>\n",
       "      <td>NaN</td>\n",
       "      <td>NaN</td>\n",
       "      <td>very_good_refurbished</td>\n",
       "      <td>The item shows minimal wear and is backed by a...</td>\n",
       "      <td>“Includes Dell AC Adapter/Charger.”</td>\n",
       "      <td>intel_core_i5_5th_gen</td>\n",
       "      <td>...</td>\n",
       "      <td>GHz</td>\n",
       "      <td>laptop</td>\n",
       "      <td>NaN</td>\n",
       "      <td>1366.0</td>\n",
       "      <td>768.0</td>\n",
       "      <td>dell_inspiron_3558</td>\n",
       "      <td>windows</td>\n",
       "      <td>bluetooth,built-inmicrophone,built-inwebcam,to...</td>\n",
       "      <td>unknown</td>\n",
       "      <td>hdd</td>\n",
       "    </tr>\n",
       "    <tr>\n",
       "      <th>9</th>\n",
       "      <td>unknown</td>\n",
       "      <td>$</td>\n",
       "      <td>326.28</td>\n",
       "      <td>NaN</td>\n",
       "      <td>NaN</td>\n",
       "      <td>NaN</td>\n",
       "      <td>used</td>\n",
       "      <td>An item that has been used previously.\\n    Th...</td>\n",
       "      <td>None</td>\n",
       "      <td>NaN</td>\n",
       "      <td>...</td>\n",
       "      <td>unknown</td>\n",
       "      <td>pc</td>\n",
       "      <td>NaN</td>\n",
       "      <td>NaN</td>\n",
       "      <td>NaN</td>\n",
       "      <td>NaN</td>\n",
       "      <td>unknown</td>\n",
       "      <td>None</td>\n",
       "      <td>unknown</td>\n",
       "      <td>unknown</td>\n",
       "    </tr>\n",
       "  </tbody>\n",
       "</table>\n",
       "<p>10 rows × 31 columns</p>\n",
       "</div>"
      ]
     },
     "execution_count": 105,
     "metadata": {},
     "output_type": "execute_result"
    }
   ],
   "execution_count": 105
  },
  {
   "metadata": {},
   "cell_type": "markdown",
   "source": "Now, we'll export this dataset to a csv file, named `ebay_laptops_and_notebooks_cleansed.csv`.",
   "id": "52e2005d788cb67"
  },
  {
   "metadata": {
    "ExecuteTime": {
     "end_time": "2025-04-04T01:26:43.280526Z",
     "start_time": "2025-04-04T01:26:43.272419Z"
    }
   },
   "cell_type": "code",
   "source": "df_clean.write_parquet(file=DATA_OUTPUT_LOCATION_PATH)",
   "id": "5ee83cb815829656",
   "outputs": [],
   "execution_count": 106
  },
  {
   "metadata": {},
   "cell_type": "markdown",
   "source": "# Predictive Modeling",
   "id": "5e7c8ebc64e6333"
  },
  {
   "metadata": {},
   "cell_type": "markdown",
   "source": [
    "In this part, we will leverage several powerful libraries for efficient data manipulation, feature engineering and statistical modeling.\n",
    "\n",
    "- **CatBoost**: The **core library** for modeling, used to design a gradient boosting model to handle categorical features effectively and provide good performance in regression tasks.\n",
    "- **Scikit-learn**: Used for **training the model**, performing model evaluation, and splitting the dataset in train, validation & test sets.\n",
    "- **Polars**: A high-performance DataFrame library optimized for speed and low memory usage.\n",
    "- **Feature Engine**: A library for **feature engineering** that provides various techniques for transforming and selecting features, ensuring that our model has the most relevant data.\n",
    "- **SHAP**: Empowering **Explainable AI** via *model interpretability*, providing insights into how each feature influences the model's predictions, helping to explain the decisions made by the model.\n",
    "- **Seaborn**: Used for **data visualization** & *Exploratory Data Analysis*. We will specifically leverage the `seaborn.objects` API, a more declarative and flexible approach to plotting, based on the *Grammar of Graphics*.\n",
    "- **TextBlob**: A simple yet powerful library for **natural language processing (NLP)**, used here to analyze sentiments from some String variables.\n",
    "\n",
    "These libraries will work together to ensure a streamlined and efficient manner for building and optimizing our predictive modeling."
   ],
   "id": "ebd77203104eff9f"
  },
  {
   "metadata": {},
   "cell_type": "code",
   "outputs": [],
   "execution_count": null,
   "source": [
    "# Importing libraries and setting constants\n",
    "\n",
    "# Libraries\n",
    "import os\n",
    "from typing import Tuple\n",
    "\n",
    "import catboost as cb\n",
    "import matplotlib.pyplot as plt\n",
    "import matplotlib.style as style\n",
    "import optuna\n",
    "import optuna.visualization as vis\n",
    "import plotly\n",
    "import polars as pl\n",
    "import seaborn as sns\n",
    "import seaborn.objects as so\n",
    "import shap\n",
    "from feature_engine.encoding import RareLabelEncoder\n",
    "from sklearn.metrics import root_mean_squared_error, mean_absolute_error\n",
    "from sklearn.model_selection import train_test_split\n",
    "from textblob import TextBlob\n",
    "\n",
    "# Constants\n",
    "RANDOM_SEED = 287  # Random seed for reproducibility\n",
    "N_CORES_HALF = os.cpu_count() / 2  # Half the number of cores available\n",
    "CSV_DATA_SOURCE_PATH = '../data/processed/ebay_laptops_and_netbooks_cleansed.csv'  # Path wherein the CSV cleansed data is located\n",
    "PARQUET_DATA_SOURCE_PATH = '../data/processed/ebay_laptops_and_netbooks_cleansed.parquet'  # Path wherein the parquet cleansed data is located\n",
    "READ_CSV_INSTEAD_OF_PARQUET = True # Whether to read the CSV cleansed data source or not"
   ],
   "id": "4e71c28d2a1c6f30"
  }
 ],
 "metadata": {
  "kernelspec": {
   "name": "python3",
   "language": "python",
   "display_name": "Python 3 (ipykernel)"
  }
 },
 "nbformat": 5,
 "nbformat_minor": 9
}
